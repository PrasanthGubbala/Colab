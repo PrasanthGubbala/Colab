{
  "cells": [
    {
      "cell_type": "markdown",
      "metadata": {
        "id": "view-in-github",
        "colab_type": "text"
      },
      "source": [
        "<a href=\"https://colab.research.google.com/github/PrasanthGubbala/MS-in-Information-Science-Machine-Learning/blob/dev/Course3/Assignment2/IML_Week_2_learner_template.ipynb\" target=\"_parent\"><img src=\"https://colab.research.google.com/assets/colab-badge.svg\" alt=\"Open In Colab\"/></a>"
      ]
    },
    {
      "cell_type": "markdown",
      "metadata": {
        "id": "RztTuHNRd1-a"
      },
      "source": [
        "# WEEK2: Resampling Methods"
      ]
    },
    {
      "cell_type": "markdown",
      "metadata": {
        "id": "G4ZhCI5PJtrO"
      },
      "source": [
        "# Objective"
      ]
    },
    {
      "cell_type": "markdown",
      "metadata": {
        "id": "3a2z43jfJwUY"
      },
      "source": [
        "This homework sheet will help reviewing the basic concepts associated with model selection and regularization. Please review the lectures, suggested readings, and additional resources _before_ getting started on the HW."
      ]
    },
    {
      "cell_type": "markdown",
      "metadata": {
        "id": "iwhWEDxUeICJ"
      },
      "source": [
        "**Some questions in this assignment will require you to conduct independent research beyond the material covered in the recorded content.**"
      ]
    },
    {
      "cell_type": "markdown",
      "metadata": {
        "id": "UrLG-psXJ7Rw"
      },
      "source": [
        "**Questions**\n",
        "\n",
        " This homework is divided into two main parts. First, a conceptual component will review the basic concepts related to resampling. The second part of the homework is mostly intended to be a brief introduction to regularization methods and resampling in python . Several of these questions are modified from James et al. (2021)."
      ]
    },
    {
      "cell_type": "markdown",
      "metadata": {
        "id": "PmqLj5qMeQdT"
      },
      "source": [
        "Marks Distribution"
      ]
    },
    {
      "cell_type": "markdown",
      "metadata": {
        "id": "TyEe9srieW8r"
      },
      "source": [
        "| Question      | Marks |\n",
        "| ----------- | ----------- |\n",
        "| Q1a    | 1     |\n",
        "| Q1b    | 0.50      |\n",
        "| Q1c   | 1      |\n",
        "| Q1d     | 0.50      |\n",
        "| Q1e     | 0.50     |\n",
        "| Q1f    | 0.50    |\n",
        "| Q2a    | 1     |\n",
        "| Q2b    | 1      |\n",
        "| Q2c   | 1      |\n",
        "| Q2d     | 1      |\n",
        "| Q3a   | 1    |\n",
        "| Q3b     | 1      |\n",
        "| Q4     | 1      |\n",
        "| Q5a    | 1    |\n",
        "| Q5b    | 1     |\n",
        "| Q5c   | 1     |\n",
        "| Q5d     | 1      |"
      ]
    },
    {
      "cell_type": "markdown",
      "metadata": {
        "id": "HSAHcEeQJ9Fs"
      },
      "source": [
        "# Conceptual"
      ]
    },
    {
      "cell_type": "markdown",
      "metadata": {
        "id": "dhRS_zVwKM8m"
      },
      "source": [
        "##  Q1. We will derive the probability that a given observation is part of a bootstrap sample. Suppose that we obtain a bootstrap sample from a set of `n` observations. **Please note that samples are obtained with replacement**."
      ]
    },
    {
      "cell_type": "markdown",
      "metadata": {
        "id": "7gy8fX2tpS79"
      },
      "source": [
        "### a) What is the probability that the first bootstrap observation is not the $jth$ observation from the original sample? Justify your answer."
      ]
    },
    {
      "cell_type": "markdown",
      "metadata": {
        "id": "V2wd-2DJuYJX"
      },
      "source": [
        "Provide your answer in this Markdown cell\n",
        "\n",
        "The probability that the first bootstrap observation is not the 𝑗𝑡ℎ observation from the original sample can be calculated as follows:\n",
        "\n",
        "When we draw the first observation in a bootstrap sample, it can be any of the 𝑛 observations from the original sample. Since we are sampling with replacement, each observation is equally likely to be chosen as the first bootstrap observation. Therefore, the probability that the first bootstrap observation is not the 𝑗𝑡ℎ observation from the original sample is:\n",
        "\n",
        "Probability = 1 - (1/𝑛)\n",
        "\n",
        "This is because there's a 1/𝑛 probability that the first observation drawn will be the 𝑗𝑡ℎ observation, and we want to find the probability that it is not the 𝑗𝑡ℎ observation.\n",
        "\n",
        "So, the justification is that in a bootstrap sample, each observation is equally likely to be the first observation, and the probability of not selecting a specific observation as the first observation is 1 - (1/𝑛)."
      ]
    },
    {
      "cell_type": "markdown",
      "metadata": {
        "id": "ekeUZKAaufvk"
      },
      "source": [
        "### b) What is the probability that the second bootstrap observation is not the $jth$ observation from the original sample?\n",
        "\n"
      ]
    },
    {
      "cell_type": "markdown",
      "metadata": {
        "id": "N-j_koZDrvhz"
      },
      "source": [
        " Provide your answer in this Markdown cell\n",
        "\n",
        "The probability that the second bootstrap observation is not the 𝑗𝑡ℎ observation from the original sample can be calculated in a similar manner to the first bootstrap observation. Each bootstrap observation is drawn independently, with replacement, from the original sample. So, the probability that the second bootstrap observation is not the 𝑗𝑡ℎ observation is the same as the probability for the first bootstrap observation:\n",
        "\n",
        "Probability = 1 - (1/𝑛)\n",
        "\n",
        "Justification: The second bootstrap observation is drawn independently of the first, and each observation from the original sample has an equal chance of being selected. Therefore, the probability of not selecting a specific observation as the second observation is 1 - (1/𝑛)."
      ]
    },
    {
      "cell_type": "markdown",
      "metadata": {
        "id": "w7XSUDdGulBi"
      },
      "source": [
        "###  c) Argue that the probability that the $jth$ observation is not in the bootstrap sample is $(1 − 1/n)^n$."
      ]
    },
    {
      "cell_type": "markdown",
      "metadata": {
        "id": "oVkgOBX_tDDq"
      },
      "source": [
        "Provide your answer in this Markdown cell\n",
        "\n",
        "To argue that the probability that the \"j-th\" observation is not in the bootstrap sample is (1 - 1/n)^n, we can reason as follows:\n",
        "\n",
        "1. In each draw when creating a bootstrap sample, the probability of not selecting the \"j-th\" observation is 1 - 1/n because it has a 1/n chance of being selected (and a 1 - 1/n chance of not being selected).\n",
        "\n",
        "2. Since the draws are independent, the probability that the \"j-th\" observation is not selected in any of the n draws is the product of these probabilities:\n",
        "\n",
        "   (1 - 1/n)^n\n",
        "\n",
        "This represents the probability that the \"j-th\" observation is not in the bootstrap sample after n draws. The argument is that in each draw, there's a 1 - 1/n probability of not selecting the \"j-th\" observation, and the product of these probabilities for n independent draws is (1 - 1/n)^n.\n",
        "\n",
        "So, the probability that the \"j-th\" observation is not in the bootstrap sample is indeed (1 - 1/n)^n, and it's a characteristic result of the bootstrapping process when n is the total number of observations in the original sample."
      ]
    },
    {
      "cell_type": "markdown",
      "metadata": {
        "id": "dc370xrFupXo"
      },
      "source": [
        "###  d) When `n = 5`, what is the probability that the $jth$ observation is in the bootstrap sample?"
      ]
    },
    {
      "cell_type": "markdown",
      "metadata": {
        "id": "J5juavMztOI7"
      },
      "source": [
        "Provide your answer in this Markdown cell\n",
        "\n",
        "When n = 5, the probability that the \"j-th\" observation is in the bootstrap sample can be calculated using the formula:\n",
        "\n",
        "Probability(𝑗𝑡ℎ observation in the sample) = 1 - (1 - 1/n)^n\n",
        "\n",
        "In this case, n is 5 (the number of observations in the original sample), and you want to find the probability for the \"j-th\" observation. So, plug in the values:\n",
        "\n",
        "Probability(𝑗𝑡ℎ observation in the sample) = 1 - (1 - 1/5)^5\n",
        "\n",
        "Calculating this:\n",
        "\n",
        "Probability(𝑗𝑡ℎ observation in the sample) = 1 - (4/5)^5\n",
        "\n",
        "Probability(𝑗𝑡ℎ observation in the sample) ≈ 0.67232\n",
        "\n",
        "So, when n = 5, the probability that the \"j-th\" observation is in the bootstrap sample is approximately 0.67232, or 67.232%. This is the correct probability when n = 5."
      ]
    },
    {
      "cell_type": "markdown",
      "metadata": {
        "id": "hgp34gdCkzRb"
      },
      "source": [
        "### e) When `n = 100`, what is the probability that the $jth$ observation is in the bootstrap sample?"
      ]
    },
    {
      "cell_type": "markdown",
      "metadata": {
        "id": "uFx80ZiUrNOl"
      },
      "source": [
        "Provide your answer in this Markdown cell\n",
        "\n",
        "When n = 100, you can use the same formula to calculate the probability that the \"j-th\" observation is in the bootstrap sample:\n",
        "\n",
        "Probability(𝑗𝑡ℎ observation in the sample) = 1 - (1 - 1/n)^n\n",
        "\n",
        "In this case, n is 100 (the number of observations in the original sample), and you want to find the probability for the \"j-th\" observation. So, plug in the values:\n",
        "\n",
        "Probability(𝑗𝑡ℎ observation in the sample) = 1 - (1 - 1/100)^100\n",
        "\n",
        "Calculating this:\n",
        "\n",
        "Probability(𝑗𝑡ℎ observation in the sample) ≈ 0.634\n",
        "\n",
        "So, when n = 100, the probability that the \"j-th\" observation is in the bootstrap sample is approximately 0.634, or 63.4%. This is the correct probability when n = 100."
      ]
    },
    {
      "cell_type": "markdown",
      "metadata": {
        "id": "Fml00xhEr1t-"
      },
      "source": [
        "### f) When `n = 1000`, what is the probability that the $jth$ observation is in the bootstrap sample?\n"
      ]
    },
    {
      "cell_type": "markdown",
      "metadata": {
        "id": "9Jtododpr8GH"
      },
      "source": [
        "Provide your answer in this Markdown cell\n",
        "\n",
        "When n = 1000, you can use the same formula to calculate the probability that the \"j-th\" observation is in the bootstrap sample:\n",
        "\n",
        "Probability(𝑗𝑡ℎ observation in the sample) = 1 - (1 - 1/n)^n\n",
        "\n",
        "In this case, n is 1000 (the number of observations in the original sample), and you want to find the probability for the \"j-th\" observation. So, plug in the values:\n",
        "\n",
        "Probability(𝑗𝑡ℎ observation in the sample) = 1 - (1 - 1/1000)^1000\n",
        "\n",
        "Calculating this:\n",
        "\n",
        "Probability(𝑗𝑡ℎ observation in the sample) ≈ 0.632\n",
        "\n",
        "So, when n = 1000, the probability that the \"j-th\" observation is in the bootstrap sample is approximately 0.632, or 63.2%. This is the correct probability when n = 1000.\n"
      ]
    },
    {
      "cell_type": "markdown",
      "metadata": {
        "id": "xnw4bPR4uQgy"
      },
      "source": [
        "## Q2)\n",
        "The following questions are relative to k-fold cross-validation."
      ]
    },
    {
      "cell_type": "markdown",
      "metadata": {
        "id": "L_KugOLmuuH7"
      },
      "source": [
        "### a) Explain how k-fold cross-validation is implemented.\n"
      ]
    },
    {
      "cell_type": "markdown",
      "metadata": {
        "id": "hA1M81a-uAQV"
      },
      "source": [
        "Provide your answer in this Markdown cell\n",
        "\n",
        "K-fold cross-validation is a common technique used in machine learning to assess the performance and generalization ability of a model. Here's how it's implemented:\n",
        "\n",
        "1. **Data Splitting**: The first step is to split your dataset into K roughly equal-sized subsets or \"folds.\" K is a user-specified parameter, often set to values like 5 or 10, but it can vary depending on your specific needs.\n",
        "\n",
        "2. **Model Training and Testing**: You then perform K iterations. In each iteration, one of the K folds is used as the validation set, and the remaining K-1 folds are used for training the model. This means that you train and test the model K times, using a different fold as the validation set in each iteration.\n",
        "\n",
        "3. **Performance Evaluation**: After each iteration, you measure the performance of your model on the validation fold using a chosen performance metric, such as accuracy, precision, recall, or mean squared error. This gives you K performance scores, one for each fold.\n",
        "\n",
        "4. **Average Performance**: To obtain a more reliable estimate of your model's performance, you calculate the average (e.g., mean) of the K performance scores. This average performance score provides a more robust measure of how well your model is likely to perform on unseen data, as it considers multiple variations of the training and testing process.\n",
        "\n",
        "5. **Assess Variability**: Additionally, you can assess the variability or spread of the performance scores across the K iterations. This helps you understand how consistent your model's performance is when applied to different subsets of the data.\n",
        "\n",
        "K-fold cross-validation helps in preventing issues like overfitting (where a model performs well on the training data but poorly on new data) and provides a more accurate estimate of a model's performance. It's particularly useful when you have limited data or want to ensure that your model generalizes well across various data subsets.\n",
        "\n",
        "Common variations of k-fold cross-validation include stratified k-fold (which maintains class distribution in each fold) and leave-one-out cross-validation (where K is set to the number of data points, making each point a validation set in one iteration)."
      ]
    },
    {
      "cell_type": "markdown",
      "metadata": {
        "id": "0mWYYql2uVOV"
      },
      "source": [
        "### b) How would you choose the analyzed k? Does that matter?"
      ]
    },
    {
      "cell_type": "markdown",
      "metadata": {
        "id": "h92wGq8qxRaK"
      },
      "source": [
        "Provide your answer in this Markdown cell\n",
        "\n",
        "The choice of the value of \"k\" in k-fold cross-validation is an important decision, and it can have an impact on the evaluation of your machine learning model. The value of \"k\" should be selected thoughtfully, and it depends on various factors. Here's how to choose the appropriate value of \"k\" and understand its significance:\n",
        "\n",
        "1. **Size of Your Dataset**: If you have a small dataset, it's generally better to use a higher value of \"k\" to make the most out of your limited data. A common choice is 5 or 10. With larger datasets, you can use smaller values of \"k\" (e.g., 3 or 4) because there is already a substantial amount of data for training and testing.\n",
        "\n",
        "2. **Computational Resources**: Larger values of \"k\" will require more computational resources and time because you're performing more iterations. Consider your available resources when choosing \"k.\"\n",
        "\n",
        "3. **Bias-Variance Trade-Off**: Lower values of \"k\" can lead to a higher variance in your cross-validation estimate because each fold's test set may not be representative of the entire dataset. Higher values of \"k\" can lead to higher bias because the training sets overlap more. The choice of \"k\" is a trade-off between bias and variance. You want a balance that gives you a reliable estimate of model performance.\n",
        "\n",
        "4. **Stratified Sampling**: If your dataset has imbalanced classes, consider using stratified k-fold cross-validation to ensure that each fold's class distribution is representative of the overall dataset. This can improve the reliability of your model evaluation.\n",
        "\n",
        "5. **Leave-One-Out Cross-Validation (LOOCV)**: In some cases, especially when you have a very small dataset, you might consider LOOCV, where k is set to the number of data points. This provides an estimate with the least bias but can have high variance.\n",
        "\n",
        "6. **Nested Cross-Validation**: In situations where you're not only interested in model performance evaluation but also in hyperparameter tuning or model selection, you can use nested cross-validation. In this approach, you have an outer loop for model evaluation (usually using k-fold cross-validation) and an inner loop for hyperparameter tuning (another k-fold cross-validation). The choice of \"k\" in both loops matters and should be made carefully.\n",
        "\n",
        "In summary, the choice of \"k\" matters because it can influence the robustness and reliability of your model evaluation. There's no one-size-fits-all answer, and the best value for \"k\" depends on your specific dataset, computational resources, and the goals of your machine learning project. It's a good practice to experiment with different values of \"k\" and observe how your model's performance estimates change to find the most suitable value for your particular scenario.\n"
      ]
    },
    {
      "cell_type": "markdown",
      "metadata": {
        "id": "7_mY8zwiyr0a"
      },
      "source": [
        "### c) What are the advantages and disadvantages of k-fold cross-validation relative to: *The validation set* approach?\n"
      ]
    },
    {
      "cell_type": "markdown",
      "metadata": {
        "id": "9hQ1d-2fxsCB"
      },
      "source": [
        "Provide your answer in this Markdown cell\n",
        "\n",
        "**K-Fold Cross-Validation:**\n",
        "- **Advantages:**\n",
        "  1. Better data utilization.\n",
        "  2. Robust performance estimate.\n",
        "  3. Reduced variance.\n",
        "\n",
        "- **Disadvantages:**\n",
        "  1. Computationally intensive.\n",
        "  2. Time-consuming.\n",
        "\n",
        "**Validation Set Approach (Holdout Method):**\n",
        "- **Advantages:**\n",
        "  1. Computational efficiency.\n",
        "  2. Faster model development.\n",
        "\n",
        "- **Disadvantages:**\n",
        "  1. Limited data usage, leading to high variability.\n",
        "  2. Risk of sampling bias.\n",
        "  3. Less suitable for small datasets.\n",
        "\n",
        "In summary, choose K-fold cross-validation for robust performance estimates, especially with smaller datasets, and opt for the validation set approach for efficiency when computational resources are limited or for larger datasets. Consider the trade-offs between these methods based on your specific needs."
      ]
    },
    {
      "cell_type": "markdown",
      "metadata": {
        "id": "VS2s6Jz23i5d"
      },
      "source": [
        "### d)  What are the advantages and disadvantages of k-fold cross-validation relative to: *LOOCV*?"
      ]
    },
    {
      "cell_type": "markdown",
      "metadata": {
        "id": "FGYQZ87y729n"
      },
      "source": [
        "Provide your answer in this Markdown cell\n",
        "\n",
        "**K-Fold Cross-Validation:**\n",
        "- **Advantages:**\n",
        "  1. Computational efficiency.\n",
        "  2. Reduced variance.\n",
        "  3. Less sensitivity to outliers.\n",
        "\n",
        "- **Disadvantages:**\n",
        "  1. Less data for training in each iteration.\n",
        "\n",
        "**Leave-One-Out Cross-Validation (LOOCV):**\n",
        "- **Advantages:**\n",
        "  1. Maximum data usage.\n",
        "  2. Lower bias.\n",
        "\n",
        "- **Disadvantages:**\n",
        "  1. Computational intensity.\n",
        "  2. High variance.\n",
        "  3. Potential overfitting concerns.\n",
        "\n",
        "Choose K-fold cross-validation for efficiency and lower variance, especially with larger datasets. Opt for LOOCV when maximizing data usage is critical, even though it's computationally intensive and may carry higher variance and overfitting risks. Your choice depends on your dataset size and priorities."
      ]
    },
    {
      "cell_type": "markdown",
      "metadata": {
        "id": "5HVFDHDqS5dT"
      },
      "source": [
        "# Applied"
      ]
    },
    {
      "cell_type": "markdown",
      "metadata": {
        "id": "vZxb-dffwoc7"
      },
      "source": [
        "We have to use college dataset to answer the questions given in the notebook"
      ]
    },
    {
      "cell_type": "markdown",
      "metadata": {
        "id": "08u7KItt3nTz"
      },
      "source": [
        "## Q3)"
      ]
    },
    {
      "cell_type": "markdown",
      "metadata": {
        "id": "QPXoXSVpNE5c"
      },
      "source": [
        "### a) What is the following code supposed to do?"
      ]
    },
    {
      "cell_type": "code",
      "execution_count": null,
      "metadata": {
        "id": "pv3RUA5OrUqK"
      },
      "outputs": [],
      "source": [
        "import numpy as np\n",
        "import pandas as pd\n",
        "from sklearn.linear_model import LinearRegression\n",
        "from sklearn.preprocessing import PolynomialFeatures\n",
        "from sklearn.model_selection import KFold\n",
        "import matplotlib.pyplot as plt\n",
        "\n",
        "# Define constants\n",
        "N = 100\n",
        "ORDER = 2\n",
        "N_FOLDS = 20\n",
        "POLY_DEGREE = np.arange(1, 11)\n",
        "N_REPLICATES = 10\n",
        "\n",
        "# Set random seed for reproducibility\n",
        "np.random.seed(123)\n",
        "\n",
        "# Generate simulated data\n",
        "x = np.random.uniform(low=-4, high=4, size=N)\n",
        "y = np.random.normal(loc=x**ORDER, scale=0.25, size=N)\n",
        "data = pd.DataFrame({'x': x, 'y': y})\n",
        "\n",
        "# Run multiple replicates and average the MSE estimates\n",
        "mse_estimates = np.zeros((N_REPLICATES, len(POLY_DEGREE)))\n",
        "for r in range(N_REPLICATES):\n",
        "    kf = KFold(n_splits=N_FOLDS, shuffle=True)\n",
        "    indices = [(train_index, test_index) for train_index, test_index in kf.split(data)]\n",
        "    for q_idx, q in enumerate(POLY_DEGREE):\n",
        "        y_hat = np.zeros(N)\n",
        "        for train_index, test_index in indices:\n",
        "            # Fit on K-1 folds\n",
        "            x_train, y_train = data.iloc[train_index]['x'], data.iloc[train_index]['y']\n",
        "            poly = PolynomialFeatures(degree=q)\n",
        "#             x_train_poly = poly.fit_transform(x_train.reshape(-1, 1))  # giving an exception due to data type\n",
        "            x_train_poly = poly.fit_transform(x_train.values.reshape(-1, 1))  # called values from Series object then applied reshape function\n",
        "            lin_reg = LinearRegression()\n",
        "            lin_reg.fit(x_train_poly, y_train)\n",
        "\n",
        "            # Predict on the kth fold\n",
        "            x_test = data.iloc[test_index]['x']\n",
        "#             x_test_poly = poly.fit_transform(x_test.reshape(-1, 1))  # here also same case giving exception\n",
        "            x_test_poly = poly.fit_transform(x_test.values.reshape(-1, 1))  # called values from Series object then applied reshape function\n",
        "            y_hat[test_index] = lin_reg.predict(x_test_poly)\n",
        "\n",
        "        # Get the MSE estimate\n",
        "        mse_estimate = np.mean((y_hat - data['y'])**2)\n",
        "        mse_estimates[r, q_idx] = mse_estimate\n",
        "\n",
        "# Average the MSE estimates across replicates\n",
        "mse_mean = np.mean(mse_estimates, axis=0)\n",
        "mse_std = np.std(mse_estimates, axis=0)"
      ]
    },
    {
      "cell_type": "markdown",
      "metadata": {
        "id": "DoI7d3EYj6L2"
      },
      "source": [
        "Provide your answer in this Markdown cell\n",
        "\n",
        "Note: In x_train_poly and x_test_poly statements given exception due to called reshape function on seriece data so in between reshape and x_train,x-test data applied values function so that exception were minimized\n",
        "\n",
        "\n",
        "This code appears to be performing a series of operations related to polynomial regression modeling and cross-validation to estimate mean squared error (MSE) for different polynomial degrees. Here's a breakdown of what the code is doing:\n",
        "\n",
        "1. Import necessary libraries:\n",
        "   - `numpy` for numerical operations.\n",
        "   - `pandas` for data manipulation.\n",
        "   - `LinearRegression` from scikit-learn for linear regression.\n",
        "   - `PolynomialFeatures` from scikit-learn to generate polynomial features.\n",
        "   - `KFold` from scikit-learn for k-fold cross-validation.\n",
        "   - `matplotlib.pyplot` for plotting.\n",
        "\n",
        "2. Define Constants:\n",
        "   - `N` represents the number of data points.\n",
        "   - `ORDER` represents the order for generating simulated data.\n",
        "   - `N_FOLDS` is the number of folds in k-fold cross-validation.\n",
        "   - `POLY_DEGREE` is an array representing polynomial degrees from 1 to 10.\n",
        "   - `N_REPLICATES` is the number of replicates (repeated experiments).\n",
        "\n",
        "3. Set a random seed for reproducibility.\n",
        "\n",
        "4. Generate Simulated Data:\n",
        "   - Randomly generate `N` data points for 'x' using uniform distribution.\n",
        "   - Generate 'y' values using a normal distribution based on 'x' raised to the power of `ORDER`. This simulates noisy data.\n",
        "\n",
        "5. Create a DataFrame 'data' to store 'x' and 'y' values.\n",
        "\n",
        "6. Loop Over Replicates:\n",
        "   - For each replicate, create a k-fold cross-validation iterator (`kf`).\n",
        "   - For each polynomial degree (`q`) in `POLY_DEGREE`, perform the following within the cross-validation loop:\n",
        "     - Split the data into training and test sets using the current fold.\n",
        "     - Apply polynomial feature transformation to the 'x' values in the training and test sets.\n",
        "     - Fit a linear regression model on the transformed training data.\n",
        "     - Predict 'y' values on the test data.\n",
        "     - Calculate and store the MSE estimate for this polynomial degree and replicate.\n",
        "\n",
        "7. After all replicates and polynomial degrees are processed, the code calculates the mean and standard deviation of MSE estimates across replicates for each polynomial degree. These results are stored in `mse_mean` and `mse_std`, respectively.\n",
        "\n",
        "In summary, this code is conducting a Monte Carlo simulation to estimate the MSE for polynomial regression models of different degrees using k-fold cross-validation. The results provide insights into how well polynomial regression models with varying degrees fit the simulated data, taking into account the effects of noise and cross-validation."
      ]
    },
    {
      "cell_type": "markdown",
      "metadata": {
        "id": "aOwxNWf_NcOO"
      },
      "source": [
        " ### b) To the best of your knowledge, improve the structure, content, clarity, and reproducibility of the code presented before in \"part a\" of this question (e.g. would you run a single or multiple replicates?). Fix any mistakes (if you find any). Finally, generate at least two plots summarizing your findings regarding the best-fitting polynomial order on the simulated dataset (also from \"part a\"): (1) MSE vs polynomial order, and (2) x vs y, along with a plot of the selected model."
      ]
    },
    {
      "cell_type": "code",
      "execution_count": null,
      "metadata": {
        "id": "lv3xMCqlqqaC",
        "outputId": "b742e749-8277-4771-c6a9-e09b2c82457f"
      },
      "outputs": [
        {
          "data": {
            "image/png": "[encoded data removed]",
            "text/plain": [
              "<Figure size 800x600 with 1 Axes>"
            ]
          },
          "metadata": {},
          "output_type": "display_data"
        },
        {
          "data": {
            "image/png": "[encoded data removed]",
            "text/plain": [
              "<Figure size 800x600 with 1 Axes>"
            ]
          },
          "metadata": {},
          "output_type": "display_data"
        },
        {
          "name": "stdout",
          "output_type": "stream",
          "text": [
            "Selected Polynomial Degree: 3\n"
          ]
        }
      ],
      "source": [
        "# BEGIN SOLUTION\n",
        "\n",
        "import numpy as np\n",
        "import pandas as pd\n",
        "from sklearn.linear_model import LinearRegression\n",
        "from sklearn.preprocessing import PolynomialFeatures\n",
        "from sklearn.model_selection import KFold\n",
        "import matplotlib.pyplot as plt\n",
        "\n",
        "# Define constants\n",
        "N = 100\n",
        "ORDER = 2\n",
        "N_FOLDS = 10\n",
        "POLY_DEGREE = np.arange(1, 11)\n",
        "\n",
        "# Set random seed for reproducibility\n",
        "np.random.seed(123)\n",
        "\n",
        "# Function to generate simulated data\n",
        "def generate_simulated_data(n, order):\n",
        "    x = np.random.uniform(low=-4, high=4, size=n)\n",
        "    y = np.random.normal(loc=x**order, scale=0.25, size=n)\n",
        "    return pd.DataFrame({'x': x, 'y': y})\n",
        "\n",
        "# Function to perform k-fold cross-validation for a given polynomial degree\n",
        "def perform_kfold_cross_validation(data, k, degree):\n",
        "    kf = KFold(n_splits=k, shuffle=True)\n",
        "    mse_values = []\n",
        "\n",
        "    for train_index, test_index in kf.split(data):\n",
        "        x_train, y_train = data.iloc[train_index]['x'], data.iloc[train_index]['y']\n",
        "        x_test, y_test = data.iloc[test_index]['x'], data.iloc[test_index]['y']\n",
        "\n",
        "        poly = PolynomialFeatures(degree=degree)\n",
        "        x_train_poly = poly.fit_transform(x_train.values.reshape(-1, 1))\n",
        "        lin_reg = LinearRegression()\n",
        "        lin_reg.fit(x_train_poly, y_train)\n",
        "\n",
        "        x_test_poly = poly.transform(x_test.values.reshape(-1, 1))\n",
        "        y_hat = lin_reg.predict(x_test_poly)\n",
        "\n",
        "        mse = np.mean((y_hat - y_test)**2)\n",
        "        mse_values.append(mse)\n",
        "\n",
        "    return np.mean(mse_values)\n",
        "\n",
        "# Generate simulated data\n",
        "data = generate_simulated_data(N, ORDER)\n",
        "\n",
        "# Perform k-fold cross-validation for different polynomial degrees\n",
        "mse_values = []\n",
        "for degree in POLY_DEGREE:\n",
        "    mse = perform_kfold_cross_validation(data, N_FOLDS, degree)\n",
        "    mse_values.append(mse)\n",
        "\n",
        "# Plot MSE vs polynomial order\n",
        "plt.figure(figsize=(8, 6))\n",
        "plt.plot(POLY_DEGREE, mse_values, marker='o')\n",
        "plt.title('MSE vs Polynomial Order')\n",
        "plt.xlabel('Polynomial Order')\n",
        "plt.ylabel('Mean Squared Error')\n",
        "plt.grid(True)\n",
        "plt.show()\n",
        "\n",
        "# Plot x vs y and the selected model\n",
        "selected_degree = POLY_DEGREE[np.argmin(mse_values)]\n",
        "x_values = np.linspace(-4, 4, 100)\n",
        "y_values = x_values ** selected_degree\n",
        "\n",
        "plt.figure(figsize=(8, 6))\n",
        "plt.scatter(data['x'], data['y'], label='Data')\n",
        "plt.plot(x_values, y_values, color='red', label=f'Polynomial Degree {selected_degree}')\n",
        "plt.title('Simulated Data and Selected Model')\n",
        "plt.xlabel('x')\n",
        "plt.ylabel('y')\n",
        "plt.legend()\n",
        "plt.grid(True)\n",
        "plt.show()\n",
        "\n",
        "print(f\"Selected Polynomial Degree: {selected_degree}\")\n",
        "\n",
        "\n",
        "# END SOLUTION"
      ]
    },
    {
      "cell_type": "markdown",
      "metadata": {
        "id": "aMNw-qL6mKEH"
      },
      "source": [
        "## Q4) Bootstrap the following dataset (`n = 1000`) to obtain median and 95% CI (Confidence interval)for parameter estimates (slope and intercept) summarizing the relationship between `x` and `y_measured.` What happens with median parameter estimates when you examine `y` instead?"
      ]
    },
    {
      "cell_type": "code",
      "execution_count": null,
      "metadata": {
        "id": "DJ11XwVw1qrm",
        "outputId": "72d7ba04-1de9-4f94-9f78-cb44dccaa308"
      },
      "outputs": [
        {
          "name": "stdout",
          "output_type": "stream",
          "text": [
            "Results for y_measured:\n",
            "Median Slope for y_measured: 1.2772615938404124\n",
            "95% CI for Slope for y_measured: [0.79715793 1.7022245 ]\n",
            "Median Intercept for y_measured: -1.9040056116542856\n",
            "95% CI for Intercept for y_measured: [-2.0935974  -1.71584364]\n",
            "\n",
            "Results for y (not y_measured):\n",
            "Median Slope for y: 1.2117819298201282\n",
            "95% CI for Slope for y: [0.77155184 1.62207692]\n",
            "Median Intercept for y: -1.9362634679702322\n",
            "95% CI for Intercept for y: [-2.11521556 -1.75698731]\n"
          ]
        }
      ],
      "source": [
        "import numpy as np\n",
        "from numpy.random import default_rng\n",
        "import scipy.stats as stats\n",
        "\n",
        "rng = default_rng(seed=1)\n",
        "nobs = 1000\n",
        "x = rng.normal(size=nobs)\n",
        "y = x - 2 * x**2\n",
        "y_measured = y + rng.normal(size=nobs)\n",
        "\n",
        "# BEGIN SOLUTION\n",
        "\n",
        "# Number of bootstrap samples\n",
        "n_bootstrap_samples = 1000  # You can adjust this value as needed\n",
        "\n",
        "# Lists to store parameter estimates from bootstrap samples\n",
        "slopes = []\n",
        "intercepts = []\n",
        "\n",
        "# Bootstrap resampling and parameter estimation for y_measured\n",
        "for _ in range(n_bootstrap_samples):\n",
        "    # Resample with replacement\n",
        "    indices = rng.choice(nobs, size=nobs, replace=True)\n",
        "    x_sampled = x[indices]\n",
        "    y_sampled = y_measured[indices]\n",
        "\n",
        "    # Fit a linear regression model\n",
        "    slope, intercept, r_value, p_value, std_err = stats.linregress(x_sampled, y_sampled)\n",
        "    slopes.append(slope)\n",
        "    intercepts.append(intercept)\n",
        "\n",
        "# Calculate medians of parameter estimates for y_measured\n",
        "median_slope_y_measured = np.median(slopes)\n",
        "median_intercept_y_measured = np.median(intercepts)\n",
        "\n",
        "# Calculate 95% confidence intervals\n",
        "slope_ci_y_measured = np.percentile(slopes, [2.5, 97.5])\n",
        "intercept_ci_y_measured = np.percentile(intercepts, [2.5, 97.5])\n",
        "\n",
        "print(\"Results for y_measured:\")\n",
        "print(f\"Median Slope for y_measured: {median_slope_y_measured}\")\n",
        "print(f\"95% CI for Slope for y_measured: {slope_ci_y_measured}\")\n",
        "print(f\"Median Intercept for y_measured: {median_intercept_y_measured}\")\n",
        "print(f\"95% CI for Intercept for y_measured: {intercept_ci_y_measured}\")\n",
        "\n",
        "\n",
        "# Bootstrap resampling and parameter estimation for y (not y_measured)\n",
        "slopes_y = []\n",
        "intercepts_y = []\n",
        "\n",
        "for _ in range(n_bootstrap_samples):\n",
        "    # Resample with replacement\n",
        "    indices = rng.choice(nobs, size=nobs, replace=True)\n",
        "    x_sampled = x[indices]\n",
        "    y_sampled = y[indices]  # Use y instead of y_measured\n",
        "\n",
        "    # Fit a linear regression model for y\n",
        "    slope, intercept, r_value, p_value, std_err = stats.linregress(x_sampled, y_sampled)\n",
        "    slopes_y.append(slope)\n",
        "    intercepts_y.append(intercept)\n",
        "\n",
        "# Calculate medians of parameter estimates for y (not y_measured)\n",
        "median_slope_y = np.median(slopes_y)\n",
        "median_intercept_y = np.median(intercepts_y)\n",
        "\n",
        "# Calculate 95% confidence intervals for y (not y_measured)\n",
        "slope_ci_y = np.percentile(slopes_y, [2.5, 97.5])\n",
        "intercept_ci_y = np.percentile(intercepts_y, [2.5, 97.5])\n",
        "\n",
        "print(\"\\nResults for y (not y_measured):\")\n",
        "print(f\"Median Slope for y: {median_slope_y}\")\n",
        "print(f\"95% CI for Slope for y: {slope_ci_y}\")\n",
        "print(f\"Median Intercept for y: {median_intercept_y}\")\n",
        "print(f\"95% CI for Intercept for y: {intercept_ci_y}\")\n",
        "\n",
        "\n",
        "\n",
        "# END SOLUTION\n"
      ]
    },
    {
      "cell_type": "markdown",
      "metadata": {
        "id": "_skayhIR2F7g"
      },
      "source": [
        "Provide your answer in this Markdown cell\n",
        "\n",
        "**Results for y_measured:**\n",
        "- Median Slope for `y_measured`: 1.2773\n",
        "- Median Intercept for `y_measured`: -1.9040\n",
        "\n",
        "**Results for y (not y_measured):**\n",
        "- Median Slope for `y`: 1.2118\n",
        "- Median Intercept for `y`: -1.9363\n",
        "\n",
        "As you can see, the median slope for `y_measured` is slightly higher than the median slope for `y`. Additionally, the median intercept for `y_measured` is slightly less negative compared to the median intercept for `y`.\n",
        "\n",
        "These differences in median parameter estimates suggest that when you examine `y` (the true underlying relationship) instead of `y_measured` (which has added noise), the linear regression parameters are affected, indicating that the noise in the measurements can impact the parameter estimates. The difference in the slope and intercept values demonstrates how regression results can vary depending on the nature of the data and the presence of measurement noise."
      ]
    },
    {
      "cell_type": "markdown",
      "metadata": {
        "id": "ddHcOis8CCoO"
      },
      "source": [
        "## Q5) We will predict the number of applications received using the other variables in the **College dataset.** Please load the relevant dataset first.\n"
      ]
    },
    {
      "cell_type": "markdown",
      "metadata": {
        "id": "musNGH4-p4lf"
      },
      "source": [
        "**Importing Libraries:**"
      ]
    },
    {
      "cell_type": "code",
      "execution_count": null,
      "metadata": {
        "id": "zGevrqL04Lse"
      },
      "outputs": [],
      "source": [
        "#IMPORT LIBRARIES\n",
        "\n",
        "import pandas as pd\n",
        "from sklearn.model_selection import train_test_split\n",
        "from sklearn.preprocessing import LabelEncoder\n",
        "\n",
        "from sklearn.linear_model import LinearRegression\n",
        "from sklearn.metrics import mean_absolute_error, mean_squared_error\n",
        "\n",
        "from sklearn.linear_model import RidgeCV,Ridge\n",
        "from sklearn.metrics import mean_squared_error\n",
        "\n",
        "from sklearn.linear_model import LassoCV, Lasso\n",
        "from sklearn.metrics import mean_squared_error\n",
        "\n",
        "import seaborn as sns\n",
        "import matplotlib.pyplot as plt\n",
        "\n",
        "\n",
        "\n",
        "import warnings\n",
        "warnings.filterwarnings('ignore')"
      ]
    },
    {
      "cell_type": "markdown",
      "metadata": {
        "id": "hKnFyjcjpxm6"
      },
      "source": [
        "**Loading dataset:**"
      ]
    },
    {
      "cell_type": "code",
      "execution_count": null,
      "metadata": {
        "id": "6-sWON49nV7D"
      },
      "outputs": [],
      "source": [
        "#READ AUTO.CSV DATASET\n",
        "\n",
        "df = pd.read_csv(\"data.csv\")"
      ]
    },
    {
      "cell_type": "code",
      "execution_count": null,
      "metadata": {
        "id": "RNFCo7_InZMJ",
        "outputId": "caeee955-c425-4dcc-a957-cf67ceec8db5"
      },
      "outputs": [
        {
          "data": {
            "text/html": [
              "<div>\n",
              "<style scoped>\n",
              "    .dataframe tbody tr th:only-of-type {\n",
              "        vertical-align: middle;\n",
              "    }\n",
              "\n",
              "    .dataframe tbody tr th {\n",
              "        vertical-align: top;\n",
              "    }\n",
              "\n",
              "    .dataframe thead th {\n",
              "        text-align: right;\n",
              "    }\n",
              "</style>\n",
              "<table border=\"1\" class=\"dataframe\">\n",
              "  <thead>\n",
              "    <tr style=\"text-align: right;\">\n",
              "      <th></th>\n",
              "      <th>private</th>\n",
              "      <th>apps</th>\n",
              "      <th>accept</th>\n",
              "      <th>enroll</th>\n",
              "      <th>top10perc</th>\n",
              "      <th>top25perc</th>\n",
              "      <th>f_undergrad</th>\n",
              "      <th>p_undergrad</th>\n",
              "      <th>outstate</th>\n",
              "      <th>room_board</th>\n",
              "      <th>books</th>\n",
              "      <th>personal</th>\n",
              "      <th>phd</th>\n",
              "      <th>terminal</th>\n",
              "      <th>s_f_ratio</th>\n",
              "      <th>perc_alumni</th>\n",
              "      <th>expend</th>\n",
              "      <th>grad_rate</th>\n",
              "    </tr>\n",
              "  </thead>\n",
              "  <tbody>\n",
              "    <tr>\n",
              "      <th>0</th>\n",
              "      <td>Yes</td>\n",
              "      <td>1660</td>\n",
              "      <td>1232</td>\n",
              "      <td>721</td>\n",
              "      <td>23</td>\n",
              "      <td>52</td>\n",
              "      <td>2885</td>\n",
              "      <td>537</td>\n",
              "      <td>7440</td>\n",
              "      <td>3300</td>\n",
              "      <td>450</td>\n",
              "      <td>2200</td>\n",
              "      <td>70</td>\n",
              "      <td>78</td>\n",
              "      <td>18.1</td>\n",
              "      <td>12</td>\n",
              "      <td>7041</td>\n",
              "      <td>60</td>\n",
              "    </tr>\n",
              "    <tr>\n",
              "      <th>1</th>\n",
              "      <td>Yes</td>\n",
              "      <td>2186</td>\n",
              "      <td>1924</td>\n",
              "      <td>512</td>\n",
              "      <td>16</td>\n",
              "      <td>29</td>\n",
              "      <td>2683</td>\n",
              "      <td>1227</td>\n",
              "      <td>12280</td>\n",
              "      <td>6450</td>\n",
              "      <td>750</td>\n",
              "      <td>1500</td>\n",
              "      <td>29</td>\n",
              "      <td>30</td>\n",
              "      <td>12.2</td>\n",
              "      <td>16</td>\n",
              "      <td>10527</td>\n",
              "      <td>56</td>\n",
              "    </tr>\n",
              "    <tr>\n",
              "      <th>2</th>\n",
              "      <td>Yes</td>\n",
              "      <td>1428</td>\n",
              "      <td>1097</td>\n",
              "      <td>336</td>\n",
              "      <td>22</td>\n",
              "      <td>50</td>\n",
              "      <td>1036</td>\n",
              "      <td>99</td>\n",
              "      <td>11250</td>\n",
              "      <td>3750</td>\n",
              "      <td>400</td>\n",
              "      <td>1165</td>\n",
              "      <td>53</td>\n",
              "      <td>66</td>\n",
              "      <td>12.9</td>\n",
              "      <td>30</td>\n",
              "      <td>8735</td>\n",
              "      <td>54</td>\n",
              "    </tr>\n",
              "    <tr>\n",
              "      <th>3</th>\n",
              "      <td>Yes</td>\n",
              "      <td>417</td>\n",
              "      <td>349</td>\n",
              "      <td>137</td>\n",
              "      <td>60</td>\n",
              "      <td>89</td>\n",
              "      <td>510</td>\n",
              "      <td>63</td>\n",
              "      <td>12960</td>\n",
              "      <td>5450</td>\n",
              "      <td>450</td>\n",
              "      <td>875</td>\n",
              "      <td>92</td>\n",
              "      <td>97</td>\n",
              "      <td>7.7</td>\n",
              "      <td>37</td>\n",
              "      <td>19016</td>\n",
              "      <td>59</td>\n",
              "    </tr>\n",
              "    <tr>\n",
              "      <th>4</th>\n",
              "      <td>Yes</td>\n",
              "      <td>193</td>\n",
              "      <td>146</td>\n",
              "      <td>55</td>\n",
              "      <td>16</td>\n",
              "      <td>44</td>\n",
              "      <td>249</td>\n",
              "      <td>869</td>\n",
              "      <td>7560</td>\n",
              "      <td>4120</td>\n",
              "      <td>800</td>\n",
              "      <td>1500</td>\n",
              "      <td>76</td>\n",
              "      <td>72</td>\n",
              "      <td>11.9</td>\n",
              "      <td>2</td>\n",
              "      <td>10922</td>\n",
              "      <td>15</td>\n",
              "    </tr>\n",
              "  </tbody>\n",
              "</table>\n",
              "</div>"
            ],
            "text/plain": [
              "  private  apps  accept  enroll  top10perc  top25perc  f_undergrad  \\\n",
              "0     Yes  1660    1232     721         23         52         2885   \n",
              "1     Yes  2186    1924     512         16         29         2683   \n",
              "2     Yes  1428    1097     336         22         50         1036   \n",
              "3     Yes   417     349     137         60         89          510   \n",
              "4     Yes   193     146      55         16         44          249   \n",
              "\n",
              "   p_undergrad  outstate  room_board  books  personal  phd  terminal  \\\n",
              "0          537      7440        3300    450      2200   70        78   \n",
              "1         1227     12280        6450    750      1500   29        30   \n",
              "2           99     11250        3750    400      1165   53        66   \n",
              "3           63     12960        5450    450       875   92        97   \n",
              "4          869      7560        4120    800      1500   76        72   \n",
              "\n",
              "   s_f_ratio  perc_alumni  expend  grad_rate  \n",
              "0       18.1           12    7041         60  \n",
              "1       12.2           16   10527         56  \n",
              "2       12.9           30    8735         54  \n",
              "3        7.7           37   19016         59  \n",
              "4       11.9            2   10922         15  "
            ]
          },
          "execution_count": 117,
          "metadata": {},
          "output_type": "execute_result"
        }
      ],
      "source": [
        "df.head()"
      ]
    },
    {
      "cell_type": "code",
      "execution_count": null,
      "metadata": {
        "id": "tcRA2D78fLxO"
      },
      "outputs": [],
      "source": [
        "#PERFORM PRE PROCESSING OF DATA IF REQUIRED ( OBSERVE THE DATASET AND ITS VALUES CAREFULLY)"
      ]
    },
    {
      "cell_type": "code",
      "execution_count": null,
      "metadata": {
        "id": "BSsJHemenZMJ",
        "outputId": "1f3a651b-a6bf-4887-ef7c-cca14122f154"
      },
      "outputs": [
        {
          "data": {
            "text/plain": [
              "private        0\n",
              "apps           0\n",
              "accept         0\n",
              "enroll         0\n",
              "top10perc      0\n",
              "top25perc      0\n",
              "f_undergrad    0\n",
              "p_undergrad    0\n",
              "outstate       0\n",
              "room_board     0\n",
              "books          0\n",
              "personal       0\n",
              "phd            0\n",
              "terminal       0\n",
              "s_f_ratio      0\n",
              "perc_alumni    0\n",
              "expend         0\n",
              "grad_rate      0\n",
              "dtype: int64"
            ]
          },
          "execution_count": 119,
          "metadata": {},
          "output_type": "execute_result"
        }
      ],
      "source": [
        "df.isna().sum()"
      ]
    },
    {
      "cell_type": "code",
      "execution_count": null,
      "metadata": {
        "id": "hBSHVBCznZMJ",
        "outputId": "3340379d-041a-4ed2-ac52-d13fa2a6b8d8"
      },
      "outputs": [
        {
          "data": {
            "image/png": "[encoded data removed]",
            "text/plain": [
              "<Figure size 800x400 with 1 Axes>"
            ]
          },
          "metadata": {},
          "output_type": "display_data"
        },
        {
          "data": {
            "image/png": "[encoded data removed]",
            "text/plain": [
              "<Figure size 800x400 with 1 Axes>"
            ]
          },
          "metadata": {},
          "output_type": "display_data"
        },
        {
          "data": {
            "image/png": "[encoded data removed]",
            "text/plain": [
              "<Figure size 800x400 with 1 Axes>"
            ]
          },
          "metadata": {},
          "output_type": "display_data"
        },
        {
          "data": {
            "image/png": "[encoded data removed]",
            "text/plain": [
              "<Figure size 800x400 with 1 Axes>"
            ]
          },
          "metadata": {},
          "output_type": "display_data"
        },
        {
          "data": {
            "image/png": "[encoded data removed]",
            "text/plain": [
              "<Figure size 800x400 with 1 Axes>"
            ]
          },
          "metadata": {},
          "output_type": "display_data"
        },
        {
          "data": {
            "image/png": "[encoded data removed]",
            "text/plain": [
              "<Figure size 800x400 with 1 Axes>"
            ]
          },
          "metadata": {},
          "output_type": "display_data"
        },
        {
          "data": {
            "image/png": "[encoded data removed]",
            "text/plain": [
              "<Figure size 800x400 with 1 Axes>"
            ]
          },
          "metadata": {},
          "output_type": "display_data"
        },
        {
          "data": {
            "image/png": "[encoded data removed]",
            "text/plain": [
              "<Figure size 800x400 with 1 Axes>"
            ]
          },
          "metadata": {},
          "output_type": "display_data"
        },
        {
          "data": {
            "image/png": "[encoded data removed]",
            "text/plain": [
              "<Figure size 800x400 with 1 Axes>"
            ]
          },
          "metadata": {},
          "output_type": "display_data"
        },
        {
          "data": {
            "image/png": "[encoded data removed]",
            "text/plain": [
              "<Figure size 800x400 with 1 Axes>"
            ]
          },
          "metadata": {},
          "output_type": "display_data"
        },
        {
          "data": {
            "image/png": "[encoded data removed]",
            "text/plain": [
              "<Figure size 800x400 with 1 Axes>"
            ]
          },
          "metadata": {},
          "output_type": "display_data"
        },
        {
          "data": {
            "image/png": "[encoded data removed]",
            "text/plain": [
              "<Figure size 800x400 with 1 Axes>"
            ]
          },
          "metadata": {},
          "output_type": "display_data"
        },
        {
          "data": {
            "image/png": "[encoded data removed]",
            "text/plain": [
              "<Figure size 800x400 with 1 Axes>"
            ]
          },
          "metadata": {},
          "output_type": "display_data"
        },
        {
          "data": {
            "image/png": "[encoded data removed]",
            "text/plain": [
              "<Figure size 800x400 with 1 Axes>"
            ]
          },
          "metadata": {},
          "output_type": "display_data"
        },
        {
          "data": {
            "image/png": "[encoded data removed]",
            "text/plain": [
              "<Figure size 800x400 with 1 Axes>"
            ]
          },
          "metadata": {},
          "output_type": "display_data"
        },
        {
          "data": {
            "image/png": "[encoded data removed]",
            "text/plain": [
              "<Figure size 800x400 with 1 Axes>"
            ]
          },
          "metadata": {},
          "output_type": "display_data"
        },
        {
          "data": {
            "image/png": "[encoded data removed]",
            "text/plain": [
              "<Figure size 800x400 with 1 Axes>"
            ]
          },
          "metadata": {},
          "output_type": "display_data"
        }
      ],
      "source": [
        "\n",
        "# Create box plots for numeric columns\n",
        "numeric_columns = df.select_dtypes(include=['number']).columns\n",
        "for col in numeric_columns:\n",
        "    plt.figure(figsize=(8, 4))\n",
        "    sns.boxplot(x=df[col])\n",
        "    plt.title(f'Box Plot of {col}')\n",
        "    plt.show()\n"
      ]
    },
    {
      "cell_type": "code",
      "execution_count": null,
      "metadata": {
        "id": "3GerX2LLnZMJ",
        "outputId": "0fe2016a-de2e-4b06-f202-eeb71d606cfb"
      },
      "outputs": [
        {
          "data": {
            "text/plain": [
              "<Axes: >"
            ]
          },
          "execution_count": 121,
          "metadata": {},
          "output_type": "execute_result"
        },
        {
          "data": {
            "image/png": "[encoded data removed]",
            "text/plain": [
              "<Figure size 640x480 with 1 Axes>"
            ]
          },
          "metadata": {},
          "output_type": "display_data"
        }
      ],
      "source": [
        "\n",
        "sns.boxplot(data=df, orient=\"h\")"
      ]
    },
    {
      "cell_type": "code",
      "execution_count": null,
      "metadata": {
        "id": "Om28LywGnZMK"
      },
      "outputs": [],
      "source": [
        "# Define a function to replace outliers with the median\n",
        "def replace_outliers_with_median(column):\n",
        "    Q1 = column.quantile(0.25)\n",
        "    Q3 = column.quantile(0.75)\n",
        "    IQR = Q3 - Q1\n",
        "    lower_bound = Q1 - 1.5 * IQR\n",
        "    upper_bound = Q3 + 1.5 * IQR\n",
        "    column = column.where((column >= lower_bound) & (column <= upper_bound), column.median())\n",
        "    return column\n",
        "\n",
        "# Apply the function to all numeric columns (excluding 'name' and 'mpg')\n",
        "numeric_columns = df.select_dtypes(include=['number']).columns\n",
        "df[numeric_columns] = df[numeric_columns].apply(replace_outliers_with_median)\n"
      ]
    },
    {
      "cell_type": "code",
      "execution_count": null,
      "metadata": {
        "id": "ojyvZe76nZMK",
        "outputId": "989196d7-73dd-4b53-ee33-6b0826ac3357"
      },
      "outputs": [
        {
          "data": {
            "text/plain": [
              "<Axes: >"
            ]
          },
          "execution_count": 139,
          "metadata": {},
          "output_type": "execute_result"
        },
        {
          "data": {
            "image/png": "[encoded data removed]",
            "text/plain": [
              "<Figure size 640x480 with 1 Axes>"
            ]
          },
          "metadata": {},
          "output_type": "display_data"
        }
      ],
      "source": [
        "sns.boxplot(data=df, orient=\"h\")"
      ]
    },
    {
      "cell_type": "code",
      "execution_count": null,
      "metadata": {
        "id": "vY1Uuoq5nZMK",
        "outputId": "790faa2b-d6bc-4bba-ec5a-9d44b0d48b9f"
      },
      "outputs": [
        {
          "data": {
            "text/html": [
              "<div>\n",
              "<style scoped>\n",
              "    .dataframe tbody tr th:only-of-type {\n",
              "        vertical-align: middle;\n",
              "    }\n",
              "\n",
              "    .dataframe tbody tr th {\n",
              "        vertical-align: top;\n",
              "    }\n",
              "\n",
              "    .dataframe thead th {\n",
              "        text-align: right;\n",
              "    }\n",
              "</style>\n",
              "<table border=\"1\" class=\"dataframe\">\n",
              "  <thead>\n",
              "    <tr style=\"text-align: right;\">\n",
              "      <th></th>\n",
              "      <th>private</th>\n",
              "      <th>apps</th>\n",
              "      <th>accept</th>\n",
              "      <th>enroll</th>\n",
              "      <th>top10perc</th>\n",
              "      <th>top25perc</th>\n",
              "      <th>f_undergrad</th>\n",
              "      <th>p_undergrad</th>\n",
              "      <th>outstate</th>\n",
              "      <th>room_board</th>\n",
              "      <th>books</th>\n",
              "      <th>personal</th>\n",
              "      <th>phd</th>\n",
              "      <th>terminal</th>\n",
              "      <th>s_f_ratio</th>\n",
              "      <th>perc_alumni</th>\n",
              "      <th>expend</th>\n",
              "      <th>grad_rate</th>\n",
              "    </tr>\n",
              "  </thead>\n",
              "  <tbody>\n",
              "    <tr>\n",
              "      <th>0</th>\n",
              "      <td>Yes</td>\n",
              "      <td>1660</td>\n",
              "      <td>1232</td>\n",
              "      <td>721</td>\n",
              "      <td>23</td>\n",
              "      <td>52</td>\n",
              "      <td>1707</td>\n",
              "      <td>537</td>\n",
              "      <td>7440</td>\n",
              "      <td>3300</td>\n",
              "      <td>450</td>\n",
              "      <td>2200</td>\n",
              "      <td>70</td>\n",
              "      <td>78</td>\n",
              "      <td>18.1</td>\n",
              "      <td>12</td>\n",
              "      <td>7041</td>\n",
              "      <td>60</td>\n",
              "    </tr>\n",
              "    <tr>\n",
              "      <th>1</th>\n",
              "      <td>Yes</td>\n",
              "      <td>2186</td>\n",
              "      <td>1110</td>\n",
              "      <td>512</td>\n",
              "      <td>16</td>\n",
              "      <td>29</td>\n",
              "      <td>2683</td>\n",
              "      <td>353</td>\n",
              "      <td>12280</td>\n",
              "      <td>6450</td>\n",
              "      <td>750</td>\n",
              "      <td>1500</td>\n",
              "      <td>75</td>\n",
              "      <td>82</td>\n",
              "      <td>12.2</td>\n",
              "      <td>16</td>\n",
              "      <td>10527</td>\n",
              "      <td>56</td>\n",
              "    </tr>\n",
              "    <tr>\n",
              "      <th>2</th>\n",
              "      <td>Yes</td>\n",
              "      <td>1428</td>\n",
              "      <td>1097</td>\n",
              "      <td>336</td>\n",
              "      <td>22</td>\n",
              "      <td>50</td>\n",
              "      <td>1036</td>\n",
              "      <td>99</td>\n",
              "      <td>11250</td>\n",
              "      <td>3750</td>\n",
              "      <td>400</td>\n",
              "      <td>1165</td>\n",
              "      <td>53</td>\n",
              "      <td>66</td>\n",
              "      <td>12.9</td>\n",
              "      <td>30</td>\n",
              "      <td>8735</td>\n",
              "      <td>54</td>\n",
              "    </tr>\n",
              "    <tr>\n",
              "      <th>3</th>\n",
              "      <td>Yes</td>\n",
              "      <td>417</td>\n",
              "      <td>349</td>\n",
              "      <td>137</td>\n",
              "      <td>23</td>\n",
              "      <td>89</td>\n",
              "      <td>510</td>\n",
              "      <td>63</td>\n",
              "      <td>12960</td>\n",
              "      <td>5450</td>\n",
              "      <td>450</td>\n",
              "      <td>875</td>\n",
              "      <td>92</td>\n",
              "      <td>97</td>\n",
              "      <td>7.7</td>\n",
              "      <td>37</td>\n",
              "      <td>8377</td>\n",
              "      <td>59</td>\n",
              "    </tr>\n",
              "    <tr>\n",
              "      <th>4</th>\n",
              "      <td>Yes</td>\n",
              "      <td>193</td>\n",
              "      <td>146</td>\n",
              "      <td>55</td>\n",
              "      <td>16</td>\n",
              "      <td>44</td>\n",
              "      <td>249</td>\n",
              "      <td>353</td>\n",
              "      <td>7560</td>\n",
              "      <td>4120</td>\n",
              "      <td>500</td>\n",
              "      <td>1500</td>\n",
              "      <td>76</td>\n",
              "      <td>72</td>\n",
              "      <td>11.9</td>\n",
              "      <td>2</td>\n",
              "      <td>10922</td>\n",
              "      <td>65</td>\n",
              "    </tr>\n",
              "  </tbody>\n",
              "</table>\n",
              "</div>"
            ],
            "text/plain": [
              "  private  apps  accept  enroll  top10perc  top25perc  f_undergrad  \\\n",
              "0     Yes  1660    1232     721         23         52         1707   \n",
              "1     Yes  2186    1110     512         16         29         2683   \n",
              "2     Yes  1428    1097     336         22         50         1036   \n",
              "3     Yes   417     349     137         23         89          510   \n",
              "4     Yes   193     146      55         16         44          249   \n",
              "\n",
              "   p_undergrad  outstate  room_board  books  personal  phd  terminal  \\\n",
              "0          537      7440        3300    450      2200   70        78   \n",
              "1          353     12280        6450    750      1500   75        82   \n",
              "2           99     11250        3750    400      1165   53        66   \n",
              "3           63     12960        5450    450       875   92        97   \n",
              "4          353      7560        4120    500      1500   76        72   \n",
              "\n",
              "   s_f_ratio  perc_alumni  expend  grad_rate  \n",
              "0       18.1           12    7041         60  \n",
              "1       12.2           16   10527         56  \n",
              "2       12.9           30    8735         54  \n",
              "3        7.7           37    8377         59  \n",
              "4       11.9            2   10922         65  "
            ]
          },
          "execution_count": 140,
          "metadata": {},
          "output_type": "execute_result"
        }
      ],
      "source": [
        "df.head()"
      ]
    },
    {
      "cell_type": "code",
      "execution_count": null,
      "metadata": {
        "id": "BPyAZCJlnZMK"
      },
      "outputs": [],
      "source": [
        "\n",
        "# Create a LabelEncoder instance\n",
        "label_encoder = LabelEncoder()\n",
        "\n",
        "# Fit and transform the column\n",
        "df['private'] = label_encoder.fit_transform(df['private'])\n"
      ]
    },
    {
      "cell_type": "code",
      "execution_count": null,
      "metadata": {
        "id": "CvKkNYl7nZMK",
        "outputId": "18d61333-f78b-49a7-f4da-0fb4c0b115d0"
      },
      "outputs": [
        {
          "data": {
            "text/html": [
              "<div>\n",
              "<style scoped>\n",
              "    .dataframe tbody tr th:only-of-type {\n",
              "        vertical-align: middle;\n",
              "    }\n",
              "\n",
              "    .dataframe tbody tr th {\n",
              "        vertical-align: top;\n",
              "    }\n",
              "\n",
              "    .dataframe thead th {\n",
              "        text-align: right;\n",
              "    }\n",
              "</style>\n",
              "<table border=\"1\" class=\"dataframe\">\n",
              "  <thead>\n",
              "    <tr style=\"text-align: right;\">\n",
              "      <th></th>\n",
              "      <th>private</th>\n",
              "      <th>apps</th>\n",
              "      <th>accept</th>\n",
              "      <th>enroll</th>\n",
              "      <th>top10perc</th>\n",
              "      <th>top25perc</th>\n",
              "      <th>f_undergrad</th>\n",
              "      <th>p_undergrad</th>\n",
              "      <th>outstate</th>\n",
              "      <th>room_board</th>\n",
              "      <th>books</th>\n",
              "      <th>personal</th>\n",
              "      <th>phd</th>\n",
              "      <th>terminal</th>\n",
              "      <th>s_f_ratio</th>\n",
              "      <th>perc_alumni</th>\n",
              "      <th>expend</th>\n",
              "      <th>grad_rate</th>\n",
              "    </tr>\n",
              "  </thead>\n",
              "  <tbody>\n",
              "    <tr>\n",
              "      <th>0</th>\n",
              "      <td>1</td>\n",
              "      <td>1660</td>\n",
              "      <td>1232</td>\n",
              "      <td>721</td>\n",
              "      <td>23</td>\n",
              "      <td>52</td>\n",
              "      <td>1707</td>\n",
              "      <td>537</td>\n",
              "      <td>7440</td>\n",
              "      <td>3300</td>\n",
              "      <td>450</td>\n",
              "      <td>2200</td>\n",
              "      <td>70</td>\n",
              "      <td>78</td>\n",
              "      <td>18.1</td>\n",
              "      <td>12</td>\n",
              "      <td>7041</td>\n",
              "      <td>60</td>\n",
              "    </tr>\n",
              "    <tr>\n",
              "      <th>1</th>\n",
              "      <td>1</td>\n",
              "      <td>2186</td>\n",
              "      <td>1110</td>\n",
              "      <td>512</td>\n",
              "      <td>16</td>\n",
              "      <td>29</td>\n",
              "      <td>2683</td>\n",
              "      <td>353</td>\n",
              "      <td>12280</td>\n",
              "      <td>6450</td>\n",
              "      <td>750</td>\n",
              "      <td>1500</td>\n",
              "      <td>75</td>\n",
              "      <td>82</td>\n",
              "      <td>12.2</td>\n",
              "      <td>16</td>\n",
              "      <td>10527</td>\n",
              "      <td>56</td>\n",
              "    </tr>\n",
              "    <tr>\n",
              "      <th>2</th>\n",
              "      <td>1</td>\n",
              "      <td>1428</td>\n",
              "      <td>1097</td>\n",
              "      <td>336</td>\n",
              "      <td>22</td>\n",
              "      <td>50</td>\n",
              "      <td>1036</td>\n",
              "      <td>99</td>\n",
              "      <td>11250</td>\n",
              "      <td>3750</td>\n",
              "      <td>400</td>\n",
              "      <td>1165</td>\n",
              "      <td>53</td>\n",
              "      <td>66</td>\n",
              "      <td>12.9</td>\n",
              "      <td>30</td>\n",
              "      <td>8735</td>\n",
              "      <td>54</td>\n",
              "    </tr>\n",
              "    <tr>\n",
              "      <th>3</th>\n",
              "      <td>1</td>\n",
              "      <td>417</td>\n",
              "      <td>349</td>\n",
              "      <td>137</td>\n",
              "      <td>23</td>\n",
              "      <td>89</td>\n",
              "      <td>510</td>\n",
              "      <td>63</td>\n",
              "      <td>12960</td>\n",
              "      <td>5450</td>\n",
              "      <td>450</td>\n",
              "      <td>875</td>\n",
              "      <td>92</td>\n",
              "      <td>97</td>\n",
              "      <td>7.7</td>\n",
              "      <td>37</td>\n",
              "      <td>8377</td>\n",
              "      <td>59</td>\n",
              "    </tr>\n",
              "    <tr>\n",
              "      <th>4</th>\n",
              "      <td>1</td>\n",
              "      <td>193</td>\n",
              "      <td>146</td>\n",
              "      <td>55</td>\n",
              "      <td>16</td>\n",
              "      <td>44</td>\n",
              "      <td>249</td>\n",
              "      <td>353</td>\n",
              "      <td>7560</td>\n",
              "      <td>4120</td>\n",
              "      <td>500</td>\n",
              "      <td>1500</td>\n",
              "      <td>76</td>\n",
              "      <td>72</td>\n",
              "      <td>11.9</td>\n",
              "      <td>2</td>\n",
              "      <td>10922</td>\n",
              "      <td>65</td>\n",
              "    </tr>\n",
              "  </tbody>\n",
              "</table>\n",
              "</div>"
            ],
            "text/plain": [
              "   private  apps  accept  enroll  top10perc  top25perc  f_undergrad  \\\n",
              "0        1  1660    1232     721         23         52         1707   \n",
              "1        1  2186    1110     512         16         29         2683   \n",
              "2        1  1428    1097     336         22         50         1036   \n",
              "3        1   417     349     137         23         89          510   \n",
              "4        1   193     146      55         16         44          249   \n",
              "\n",
              "   p_undergrad  outstate  room_board  books  personal  phd  terminal  \\\n",
              "0          537      7440        3300    450      2200   70        78   \n",
              "1          353     12280        6450    750      1500   75        82   \n",
              "2           99     11250        3750    400      1165   53        66   \n",
              "3           63     12960        5450    450       875   92        97   \n",
              "4          353      7560        4120    500      1500   76        72   \n",
              "\n",
              "   s_f_ratio  perc_alumni  expend  grad_rate  \n",
              "0       18.1           12    7041         60  \n",
              "1       12.2           16   10527         56  \n",
              "2       12.9           30    8735         54  \n",
              "3        7.7           37    8377         59  \n",
              "4       11.9            2   10922         65  "
            ]
          },
          "execution_count": 142,
          "metadata": {},
          "output_type": "execute_result"
        }
      ],
      "source": [
        "df.head()"
      ]
    },
    {
      "cell_type": "code",
      "execution_count": null,
      "metadata": {
        "id": "a_LDSzmInZMK"
      },
      "outputs": [],
      "source": []
    },
    {
      "cell_type": "code",
      "execution_count": null,
      "metadata": {
        "id": "oW4AVNprnZMK"
      },
      "outputs": [],
      "source": []
    },
    {
      "cell_type": "code",
      "execution_count": null,
      "metadata": {
        "id": "dc4pmcQMnZML"
      },
      "outputs": [],
      "source": []
    },
    {
      "cell_type": "markdown",
      "metadata": {
        "id": "jbzD19JRCPcq"
      },
      "source": [
        "### a) Split the data set into a training set and a test set."
      ]
    },
    {
      "cell_type": "code",
      "execution_count": null,
      "metadata": {
        "id": "z2VPQlRTEFSx"
      },
      "outputs": [],
      "source": [
        "# BEGIN SOLUTION\n",
        "\n",
        "# Define your features (X) and the target variable (y)\n",
        "X = df.drop(columns=['apps'])  # Features (all columns except 'apps')\n",
        "y = df['apps']  # Target variable\n",
        "\n",
        "# Split the data into a training set and a test set (e.g., 80% for training and 20% for testing)\n",
        "X_train, X_test, y_train, y_test = train_test_split(X, y, test_size=0.2, random_state=42)\n",
        "\n",
        "# The 'test_size' parameter controls the size of the test set (you can adjust it as needed)\n",
        "# The 'random_state' parameter ensures reproducibility (use a fixed seed for randomization)\n",
        "\n",
        "\n",
        "# END SOLUTION"
      ]
    },
    {
      "cell_type": "markdown",
      "metadata": {
        "id": "edftCrWqf5uC"
      },
      "source": [
        "### b) Fit a linear model using least squares on the training set, and report the test error obtained.\n",
        "Link to linear model: https://scikit-learn.org/stable/modules/generated/sklearn.linear_model.LinearRegression.html\n"
      ]
    },
    {
      "cell_type": "code",
      "execution_count": null,
      "metadata": {
        "id": "3Bob99XBf2p7",
        "outputId": "0e07d800-0ab9-405d-caf0-ab0c77c67d83"
      },
      "outputs": [
        {
          "name": "stdout",
          "output_type": "stream",
          "text": [
            "Mean Absolute Error on Test Set: 153.50519201653552\n",
            "Mean Squared Error on Test Set: 62158.26663920129\n"
          ]
        }
      ],
      "source": [
        "#BEGIN SOLUTION\n",
        "\n",
        "# 1. Train the Linear Model\n",
        "model = LinearRegression()\n",
        "model.fit(X_train, y_train)\n",
        "\n",
        "# 2. Make Predictions on the Test Set\n",
        "y_pred = model.predict(X_test)\n",
        "\n",
        "# 3. Calculate Test Errors (MAE and MSE)\n",
        "mae = mean_absolute_error(y_test, y_pred)\n",
        "mse = mean_squared_error(y_test, y_pred)\n",
        "\n",
        "print(f\"Mean Absolute Error on Test Set: {mae}\")\n",
        "print(f\"Mean Squared Error on Test Set: {mse}\")\n",
        "\n",
        "\n",
        "# END SOLUTION"
      ]
    },
    {
      "cell_type": "markdown",
      "metadata": {
        "id": "pdea7OyMhAw6"
      },
      "source": [
        "### c) Fit a ridge regression model on the training set, with $\\lambda$ chosen by cross-validation. Report the test error obtained.\n",
        "\n",
        "Link to ridge regresion : https://scikit-learn.org/stable/modules/generated/sklearn.linear_model.Ridge.html"
      ]
    },
    {
      "cell_type": "code",
      "execution_count": null,
      "metadata": {
        "id": "_tl5cegudy_Q",
        "outputId": "3dcea22d-ce33-4c04-bd50-1f0130cefc5f"
      },
      "outputs": [
        {
          "name": "stdout",
          "output_type": "stream",
          "text": [
            "Best Lambda (α): 10.0\n",
            "Mean Squared Error on Test Set: 62273.644892934164\n"
          ]
        }
      ],
      "source": [
        "#BEGIN SOLUTION\n",
        "\n",
        "# 1. Choose the Range of λ Values\n",
        "alphas = [0.01, 0.1, 1.0, 10.0]  # Define a list of potential lambda values to test\n",
        "\n",
        "# 2. Perform Cross-Validation to Choose λ\n",
        "ridge_cv = RidgeCV(alphas=alphas, store_cv_values=True)\n",
        "ridge_cv.fit(X_train, y_train)\n",
        "\n",
        "# 3. Select the Best λ (found in ridge_cv.alpha_)\n",
        "best_alpha = ridge_cv.alpha_\n",
        "\n",
        "# 4. Train the Ridge Model using the Best λ\n",
        "ridge_model = Ridge(alpha=best_alpha)\n",
        "ridge_model.fit(X_train, y_train)\n",
        "\n",
        "# 5. Report the Test Error (MSE)\n",
        "y_pred = ridge_model.predict(X_test)\n",
        "mse = mean_squared_error(y_test, y_pred)\n",
        "\n",
        "print(f\"Best Lambda (α): {best_alpha}\")\n",
        "print(f\"Mean Squared Error on Test Set: {mse}\")\n",
        "\n",
        "\n",
        "# END SOLUTION"
      ]
    },
    {
      "cell_type": "markdown",
      "metadata": {
        "id": "Q-Y4EBqihWnB"
      },
      "source": [
        "### d) Fit a lasso model on the training set, with $\\lambda$ chosen by cross-validation. Report the test error obtained, along with the number of non-zero coefficient estimates.\n",
        " Link to lasso :https://scikit-learn.org/0.15/modules/generated/sklearn.linear_model.Lasso.html"
      ]
    },
    {
      "cell_type": "code",
      "execution_count": null,
      "metadata": {
        "id": "FA-uxEgIgOwL",
        "outputId": "e60a818f-a55d-40ba-825a-47f80a5f7e3a"
      },
      "outputs": [
        {
          "name": "stdout",
          "output_type": "stream",
          "text": [
            "Best Lambda (α): 0.1\n",
            "Mean Squared Error on Test Set: 62165.81108523631\n",
            "Number of Non-Zero Coefficients: 17\n"
          ]
        }
      ],
      "source": [
        "#BEGIN SOLUTION\n",
        "\n",
        "# 1. Choose the Range of λ Values\n",
        "alphas = [0.01, 0.1, 1.0, 10.0]  # Define a list of potential lambda values to test\n",
        "\n",
        "# 2. Perform Cross-Validation to Choose λ\n",
        "lasso_cv = LassoCV(alphas=alphas)\n",
        "lasso_cv.fit(X_train, y_train)\n",
        "\n",
        "# 3. Select the Best λ (found in lasso_cv.alpha_)\n",
        "best_alpha = lasso_cv.alpha_\n",
        "\n",
        "# 4. Train the Lasso Model using the Best λ\n",
        "lasso_model = Lasso(alpha=best_alpha)\n",
        "lasso_model.fit(X_train, y_train)\n",
        "\n",
        "# 5. Report the Test Error (MSE)\n",
        "y_pred = lasso_model.predict(X_test)\n",
        "mse = mean_squared_error(y_test, y_pred)\n",
        "\n",
        "# 6. Count Non-Zero Coefficients\n",
        "non_zero_coeffs = sum(lasso_model.coef_ != 0)\n",
        "\n",
        "print(f\"Best Lambda (α): {best_alpha}\")\n",
        "print(f\"Mean Squared Error on Test Set: {mse}\")\n",
        "print(f\"Number of Non-Zero Coefficients: {non_zero_coeffs}\")\n",
        "\n",
        "\n",
        "# END SOLUTION"
      ]
    },
    {
      "cell_type": "code",
      "execution_count": null,
      "metadata": {
        "id": "PN-f4o-AnZMM"
      },
      "outputs": [],
      "source": []
    },
    {
      "cell_type": "code",
      "execution_count": null,
      "metadata": {
        "id": "vHRAh7uEnZMM"
      },
      "outputs": [],
      "source": []
    },
    {
      "cell_type": "code",
      "execution_count": null,
      "metadata": {
        "id": "H_SGNa4vnZMM",
        "outputId": "942650c2-6f94-4eed-b025-42dece317023"
      },
      "outputs": [
        {
          "data": {
            "text/plain": [
              "'[method2] now focussing on the \"private\" attribute as target method'"
            ]
          },
          "execution_count": 171,
          "metadata": {},
          "output_type": "execute_result"
        }
      ],
      "source": [
        "'''[method2] now focussing on the \"private\" attribute as target method'''"
      ]
    },
    {
      "cell_type": "code",
      "execution_count": null,
      "metadata": {
        "id": "5EA0gopSnZMM"
      },
      "outputs": [],
      "source": [
        "#IMPORT LIBRARIES\n",
        "import pandas as pd\n",
        "import numpy as np\n",
        "from sklearn.model_selection import train_test_split\n",
        "from sklearn.linear_model import LinearRegression, Ridge, Lasso\n",
        "from sklearn.model_selection import GridSearchCV\n",
        "from sklearn.metrics import mean_squared_error\n",
        "from sklearn.preprocessing import StandardScaler\n",
        "from sklearn.metrics import mean_squared_error\n",
        "from sklearn.model_selection import cross_val_score"
      ]
    },
    {
      "cell_type": "code",
      "execution_count": null,
      "metadata": {
        "id": "i7wGWWronZMM"
      },
      "outputs": [],
      "source": [
        "#READ AUTO.CSV DATASET\n",
        "df = pd.read_csv('data.csv')"
      ]
    },
    {
      "cell_type": "code",
      "execution_count": null,
      "metadata": {
        "id": "34Y4HYiunZMM",
        "outputId": "ede272da-3caf-48b8-87cf-c062aa5d9079"
      },
      "outputs": [
        {
          "data": {
            "text/html": [
              "<div>\n",
              "<style scoped>\n",
              "    .dataframe tbody tr th:only-of-type {\n",
              "        vertical-align: middle;\n",
              "    }\n",
              "\n",
              "    .dataframe tbody tr th {\n",
              "        vertical-align: top;\n",
              "    }\n",
              "\n",
              "    .dataframe thead th {\n",
              "        text-align: right;\n",
              "    }\n",
              "</style>\n",
              "<table border=\"1\" class=\"dataframe\">\n",
              "  <thead>\n",
              "    <tr style=\"text-align: right;\">\n",
              "      <th></th>\n",
              "      <th>private</th>\n",
              "      <th>apps</th>\n",
              "      <th>accept</th>\n",
              "      <th>enroll</th>\n",
              "      <th>top10perc</th>\n",
              "      <th>top25perc</th>\n",
              "      <th>f_undergrad</th>\n",
              "      <th>p_undergrad</th>\n",
              "      <th>outstate</th>\n",
              "      <th>room_board</th>\n",
              "      <th>books</th>\n",
              "      <th>personal</th>\n",
              "      <th>phd</th>\n",
              "      <th>terminal</th>\n",
              "      <th>s_f_ratio</th>\n",
              "      <th>perc_alumni</th>\n",
              "      <th>expend</th>\n",
              "      <th>grad_rate</th>\n",
              "    </tr>\n",
              "  </thead>\n",
              "  <tbody>\n",
              "    <tr>\n",
              "      <th>0</th>\n",
              "      <td>Yes</td>\n",
              "      <td>1660</td>\n",
              "      <td>1232</td>\n",
              "      <td>721</td>\n",
              "      <td>23</td>\n",
              "      <td>52</td>\n",
              "      <td>2885</td>\n",
              "      <td>537</td>\n",
              "      <td>7440</td>\n",
              "      <td>3300</td>\n",
              "      <td>450</td>\n",
              "      <td>2200</td>\n",
              "      <td>70</td>\n",
              "      <td>78</td>\n",
              "      <td>18.1</td>\n",
              "      <td>12</td>\n",
              "      <td>7041</td>\n",
              "      <td>60</td>\n",
              "    </tr>\n",
              "    <tr>\n",
              "      <th>1</th>\n",
              "      <td>Yes</td>\n",
              "      <td>2186</td>\n",
              "      <td>1924</td>\n",
              "      <td>512</td>\n",
              "      <td>16</td>\n",
              "      <td>29</td>\n",
              "      <td>2683</td>\n",
              "      <td>1227</td>\n",
              "      <td>12280</td>\n",
              "      <td>6450</td>\n",
              "      <td>750</td>\n",
              "      <td>1500</td>\n",
              "      <td>29</td>\n",
              "      <td>30</td>\n",
              "      <td>12.2</td>\n",
              "      <td>16</td>\n",
              "      <td>10527</td>\n",
              "      <td>56</td>\n",
              "    </tr>\n",
              "    <tr>\n",
              "      <th>2</th>\n",
              "      <td>Yes</td>\n",
              "      <td>1428</td>\n",
              "      <td>1097</td>\n",
              "      <td>336</td>\n",
              "      <td>22</td>\n",
              "      <td>50</td>\n",
              "      <td>1036</td>\n",
              "      <td>99</td>\n",
              "      <td>11250</td>\n",
              "      <td>3750</td>\n",
              "      <td>400</td>\n",
              "      <td>1165</td>\n",
              "      <td>53</td>\n",
              "      <td>66</td>\n",
              "      <td>12.9</td>\n",
              "      <td>30</td>\n",
              "      <td>8735</td>\n",
              "      <td>54</td>\n",
              "    </tr>\n",
              "    <tr>\n",
              "      <th>3</th>\n",
              "      <td>Yes</td>\n",
              "      <td>417</td>\n",
              "      <td>349</td>\n",
              "      <td>137</td>\n",
              "      <td>60</td>\n",
              "      <td>89</td>\n",
              "      <td>510</td>\n",
              "      <td>63</td>\n",
              "      <td>12960</td>\n",
              "      <td>5450</td>\n",
              "      <td>450</td>\n",
              "      <td>875</td>\n",
              "      <td>92</td>\n",
              "      <td>97</td>\n",
              "      <td>7.7</td>\n",
              "      <td>37</td>\n",
              "      <td>19016</td>\n",
              "      <td>59</td>\n",
              "    </tr>\n",
              "    <tr>\n",
              "      <th>4</th>\n",
              "      <td>Yes</td>\n",
              "      <td>193</td>\n",
              "      <td>146</td>\n",
              "      <td>55</td>\n",
              "      <td>16</td>\n",
              "      <td>44</td>\n",
              "      <td>249</td>\n",
              "      <td>869</td>\n",
              "      <td>7560</td>\n",
              "      <td>4120</td>\n",
              "      <td>800</td>\n",
              "      <td>1500</td>\n",
              "      <td>76</td>\n",
              "      <td>72</td>\n",
              "      <td>11.9</td>\n",
              "      <td>2</td>\n",
              "      <td>10922</td>\n",
              "      <td>15</td>\n",
              "    </tr>\n",
              "  </tbody>\n",
              "</table>\n",
              "</div>"
            ],
            "text/plain": [
              "  private  apps  accept  enroll  top10perc  top25perc  f_undergrad  \\\n",
              "0     Yes  1660    1232     721         23         52         2885   \n",
              "1     Yes  2186    1924     512         16         29         2683   \n",
              "2     Yes  1428    1097     336         22         50         1036   \n",
              "3     Yes   417     349     137         60         89          510   \n",
              "4     Yes   193     146      55         16         44          249   \n",
              "\n",
              "   p_undergrad  outstate  room_board  books  personal  phd  terminal  \\\n",
              "0          537      7440        3300    450      2200   70        78   \n",
              "1         1227     12280        6450    750      1500   29        30   \n",
              "2           99     11250        3750    400      1165   53        66   \n",
              "3           63     12960        5450    450       875   92        97   \n",
              "4          869      7560        4120    800      1500   76        72   \n",
              "\n",
              "   s_f_ratio  perc_alumni  expend  grad_rate  \n",
              "0       18.1           12    7041         60  \n",
              "1       12.2           16   10527         56  \n",
              "2       12.9           30    8735         54  \n",
              "3        7.7           37   19016         59  \n",
              "4       11.9            2   10922         15  "
            ]
          },
          "execution_count": 166,
          "metadata": {},
          "output_type": "execute_result"
        }
      ],
      "source": [
        "df.head()"
      ]
    },
    {
      "cell_type": "code",
      "execution_count": null,
      "metadata": {
        "id": "4ohfZLy_nZMN",
        "outputId": "7985814a-e796-467b-f5db-83c8828ab2bf"
      },
      "outputs": [
        {
          "name": "stdout",
          "output_type": "stream",
          "text": [
            "Training set shape: (621, 17) (621,)\n",
            "Test set shape: (156, 17) (156,)\n"
          ]
        }
      ],
      "source": [
        "# BEGIN SOLUTION\n",
        "from sklearn.model_selection import train_test_split\n",
        "from sklearn.preprocessing import LabelEncoder\n",
        "\n",
        "# Assuming 'private' is the target variable\n",
        "le = LabelEncoder()\n",
        "df['private'] = le.fit_transform(df['private'])\n",
        "\n",
        "# Define features (X) and target variable (y)\n",
        "X = df.drop('private', axis=1)\n",
        "y = df['private']\n",
        "\n",
        "# Split the data into a training set (80%) and a test set (20%)\n",
        "X_train, X_test, y_train, y_test = train_test_split(X, y, test_size=0.2, random_state=42)\n",
        "\n",
        "# Now X_train and y_train are your training features and target, respectively,\n",
        "# and X_test and y_test are your test features and target, respectively.\n",
        "# Print the shapes to verify the split\n",
        "print(\"Training set shape:\", X_train.shape, y_train.shape)\n",
        "print(\"Test set shape:\", X_test.shape, y_test.shape)\n",
        "# END SOLUTION"
      ]
    },
    {
      "cell_type": "code",
      "execution_count": null,
      "metadata": {
        "id": "xqSjGTCmnZMN",
        "outputId": "69a25dc5-2e13-4b36-d0d4-588cbac04e0d"
      },
      "outputs": [
        {
          "name": "stdout",
          "output_type": "stream",
          "text": [
            "Test Error (Mean Squared Error): 0.08188770334709994\n"
          ]
        }
      ],
      "source": [
        "#BEGIN SOLUTION\n",
        "from sklearn.linear_model import LinearRegression\n",
        "from sklearn.metrics import mean_squared_error\n",
        "from sklearn.model_selection import train_test_split\n",
        "from sklearn.preprocessing import LabelEncoder\n",
        "\n",
        "# Fit a linear model\n",
        "linear_model = LinearRegression()\n",
        "linear_model.fit(X_train, y_train)\n",
        "\n",
        "# Predict on the test set\n",
        "y_pred = linear_model.predict(X_test)\n",
        "\n",
        "# Calculate the mean squared error on the test set\n",
        "test_error = mean_squared_error(y_test, y_pred)\n",
        "\n",
        "# Report the test error\n",
        "print(\"Test Error (Mean Squared Error):\", test_error)\n",
        "# END SOLUTION"
      ]
    },
    {
      "cell_type": "code",
      "execution_count": null,
      "metadata": {
        "id": "wfszQ96rnZMN",
        "outputId": "69b4055d-68c2-49a6-eb18-5fc1fac6efe7"
      },
      "outputs": [
        {
          "name": "stdout",
          "output_type": "stream",
          "text": [
            "Test Error (Mean Squared Error) for Ridge Regression: 0.08188782728975227\n",
            "Chosen alpha (Lambda) by Cross-Validation: 10.0\n"
          ]
        }
      ],
      "source": [
        "#BEGIN SOLUTION\n",
        "from sklearn.linear_model import RidgeCV\n",
        "from sklearn.metrics import mean_squared_error\n",
        "from sklearn.model_selection import train_test_split\n",
        "from sklearn.preprocessing import LabelEncoder\n",
        "\n",
        "\n",
        "# Fit a Ridge regression model with cross-validation\n",
        "alphas = [0.1, 1.0, 10.0]  # You can adjust the range of alphas\n",
        "ridge_model = RidgeCV(alphas=alphas, store_cv_values=True)\n",
        "ridge_model.fit(X_train, y_train)\n",
        "\n",
        "# Predict on the test set\n",
        "y_pred = ridge_model.predict(X_test)\n",
        "\n",
        "# Calculate the mean squared error on the test set\n",
        "test_error = mean_squared_error(y_test, y_pred)\n",
        "\n",
        "# Report the test error\n",
        "print(\"Test Error (Mean Squared Error) for Ridge Regression:\", test_error)\n",
        "print(\"Chosen alpha (Lambda) by Cross-Validation:\", ridge_model.alpha_)\n",
        "# END SOLUTION"
      ]
    },
    {
      "cell_type": "code",
      "execution_count": null,
      "metadata": {
        "id": "aYB9QuL3nZMN",
        "outputId": "99f58105-bb73-47ee-9875-b20e8730fd25"
      },
      "outputs": [
        {
          "name": "stdout",
          "output_type": "stream",
          "text": [
            "Test Error (Mean Squared Error) for Lasso Regression: 0.08233922956158085\n",
            "Chosen alpha (Lambda) by Cross-Validation: 0.1\n",
            "Number of Non-Zero Coefficients: 16\n"
          ]
        }
      ],
      "source": [
        "#BEGIN SOLUTION\n",
        "from sklearn.linear_model import LassoCV\n",
        "from sklearn.metrics import mean_squared_error\n",
        "from sklearn.model_selection import train_test_split\n",
        "from sklearn.preprocessing import LabelEncoder\n",
        "\n",
        "\n",
        "# Fit a Lasso regression model with cross-validation\n",
        "alphas = [0.1, 1.0, 10.0]  # You can adjust the range of alphas\n",
        "lasso_model = LassoCV(alphas=alphas, cv=5)\n",
        "lasso_model.fit(X_train, y_train)\n",
        "\n",
        "# Predict on the test set\n",
        "y_pred = lasso_model.predict(X_test)\n",
        "\n",
        "# Calculate the mean squared error on the test set\n",
        "test_error = mean_squared_error(y_test, y_pred)\n",
        "\n",
        "# Report the test error and number of non-zero coefficients\n",
        "print(\"Test Error (Mean Squared Error) for Lasso Regression:\", test_error)\n",
        "print(\"Chosen alpha (Lambda) by Cross-Validation:\", lasso_model.alpha_)\n",
        "print(\"Number of Non-Zero Coefficients:\", np.sum(lasso_model.coef_ != 0))\n",
        "# END SOLUTION"
      ]
    },
    {
      "cell_type": "code",
      "execution_count": null,
      "metadata": {
        "id": "Z16JWAsAnZMN"
      },
      "outputs": [],
      "source": []
    }
  ],
  "metadata": {
    "colab": {
      "provenance": [],
      "include_colab_link": true
    },
    "kernelspec": {
      "display_name": "Python 3 (ipykernel)",
      "language": "python",
      "name": "python3"
    },
    "language_info": {
      "codemirror_mode": {
        "name": "ipython",
        "version": 3
      },
      "file_extension": ".py",
      "mimetype": "text/x-python",
      "name": "python",
      "nbconvert_exporter": "python",
      "pygments_lexer": "ipython3",
      "version": "3.10.9"
    }
  },
  "nbformat": 4,
  "nbformat_minor": 0
}