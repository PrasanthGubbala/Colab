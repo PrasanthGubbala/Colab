{
 "cells": [
  {
   "cell_type": "markdown",
   "id": "c7dcae67-71fa-4d26-8b40-1861b82a0893",
   "metadata": {},
   "source": [
    "## Data Exploration and Preprocessing"
   ]
  },
  {
   "cell_type": "code",
   "execution_count": 1,
   "id": "0f945d26-5a25-4a3f-a6ac-599870acbd43",
   "metadata": {},
   "outputs": [],
   "source": [
    "# Import necessary libraries\n",
    "import pandas as pd\n",
    "\n",
    "from sklearn.impute import SimpleImputer\n",
    "from sklearn.preprocessing import StandardScaler, OneHotEncoder\n",
    "from sklearn.compose import ColumnTransformer\n",
    "from sklearn.pipeline import Pipeline\n",
    "from sklearn.model_selection import train_test_split\n",
    "from scipy.stats import zscore\n",
    "from sklearn.preprocessing import LabelEncoder\n",
    "\n",
    "import seaborn as sns\n",
    "import matplotlib.pyplot as plt\n",
    "\n",
    "import warnings\n",
    "warnings.filterwarnings('ignore')"
   ]
  },
  {
   "cell_type": "code",
   "execution_count": 2,
   "id": "35b5bce2-3261-4093-806e-dc55a42cd25a",
   "metadata": {},
   "outputs": [],
   "source": [
    "# Function to read and load the dataset\n",
    "def load_data(file_path):\n",
    "    \"\"\"\n",
    "    Load the dataset from the given file path.\n",
    "    \n",
    "    Parameters:\n",
    "    - file_path (str): Path to the CSV file.\n",
    "    \n",
    "    Returns:\n",
    "    - DataFrame: Loaded dataset.\n",
    "    \"\"\"\n",
    "    data = pd.read_csv(file_path)\n",
    "    return data"
   ]
  },
  {
   "cell_type": "code",
   "execution_count": 3,
   "id": "966562c7-3051-44da-a21a-4f3c1e87a54b",
   "metadata": {},
   "outputs": [],
   "source": [
    "# Function to explore the dataset\n",
    "def explore_data(data):\n",
    "    \"\"\"\n",
    "    Explore the dataset and print basic information.\n",
    "    \n",
    "    Parameters:\n",
    "    - data (DataFrame): Input dataset.\n",
    "    \"\"\"\n",
    "    # Display basic information about the dataset\n",
    "    print(\"Dataset Information:\")\n",
    "    print(data.info())\n",
    "    \n",
    "    # Display summary statistics\n",
    "    print(\"\\nSummary Statistics:\")\n",
    "    print(data.describe())\n",
    "    \n",
    "    # Display the first few rows of the dataset\n",
    "    print(\"\\nFirst Few Rows:\")\n",
    "    print(data.head())"
   ]
  },
  {
   "cell_type": "code",
   "execution_count": 4,
   "id": "5b1c48f0-6297-4e55-a853-4f7416411a2f",
   "metadata": {},
   "outputs": [],
   "source": [
    "# Function to handle missing values\n",
    "def handle_missing_values(data):\n",
    "    # Identify numeric and categorical columns\n",
    "    numeric_cols = data.select_dtypes(include=['number']).columns\n",
    "    categorical_cols = data.select_dtypes(include=['object']).columns\n",
    "\n",
    "    # Impute missing values for numeric columns with median\n",
    "    numeric_imputer = SimpleImputer(strategy='median')\n",
    "    data[numeric_cols] = numeric_imputer.fit_transform(data[numeric_cols])\n",
    "\n",
    "    # Impute missing values for categorical columns with mode\n",
    "    categorical_imputer = SimpleImputer(strategy='most_frequent')\n",
    "    data[categorical_cols] = categorical_imputer.fit_transform(data[categorical_cols])\n",
    "\n",
    "    return data"
   ]
  },
  {
   "cell_type": "code",
   "execution_count": 5,
   "id": "7167c3e2-e09c-4a3f-8dcc-6f9896bee185",
   "metadata": {},
   "outputs": [],
   "source": [
    "# Define a function to replace outliers with the median\n",
    "def replace_outliers_with_median_iterative(df):\n",
    "    while True:\n",
    "        # Apply the outlier replacement to all numeric columns\n",
    "        numeric_columns = df.select_dtypes(include=['number']).columns\n",
    "        outliers_exist = False\n",
    "\n",
    "        for col in numeric_columns:\n",
    "            Q1 = df[col].quantile(0.25)\n",
    "            Q3 = df[col].quantile(0.75)\n",
    "            IQR = Q3 - Q1\n",
    "            lower_bound = Q1 - 1.5 * IQR\n",
    "            upper_bound = Q3 + 1.5 * IQR\n",
    "\n",
    "            # Check if outliers exist\n",
    "            outliers_mask = (df[col] < lower_bound) | (df[col] > upper_bound)\n",
    "            if any(outliers_mask):\n",
    "                outliers_exist = True\n",
    "\n",
    "                # Replace outliers with the median\n",
    "                df[col] = df[col].where(~outliers_mask, df[col].median())\n",
    "\n",
    "        # If no outliers exist, break out of the loop\n",
    "        if not outliers_exist:\n",
    "            break\n",
    "\n",
    "    return df\n"
   ]
  },
  {
   "cell_type": "code",
   "execution_count": 6,
   "id": "38c3ab19-371e-47aa-9f86-0406dc9af1a1",
   "metadata": {},
   "outputs": [],
   "source": [
    "# Function to encode categorical variables\n",
    "def label_encode(df):\n",
    "    label_encoder = LabelEncoder()\n",
    "    \n",
    "    categorical_columns = df.select_dtypes(include=['object']).columns\n",
    "\n",
    "    for col in categorical_columns:\n",
    "        df[col] = label_encoder.fit_transform(df[col])\n",
    "\n",
    "    return df\n"
   ]
  },
  {
   "cell_type": "code",
   "execution_count": 7,
   "id": "4ec3ea5a-4dc3-4984-9d7a-e188b9fc355a",
   "metadata": {},
   "outputs": [],
   "source": [
    "# see the outliers\n",
    "def check_outliers(df):\n",
    "    sns.boxplot(data=df, orient=\"h\")\n",
    "    plt.show()"
   ]
  },
  {
   "cell_type": "code",
   "execution_count": 8,
   "id": "8e227af7-366e-499e-b37e-6dacf2a31642",
   "metadata": {},
   "outputs": [],
   "source": [
    "def load_clean_split(file_path):\n",
    "    # Load the dataset\n",
    "    dataset = load_data(file_path)\n",
    "\n",
    "    # explore dataset by statsmodels\n",
    "    explore_data(dataset)\n",
    "\n",
    "    # Handle missing values (using mean imputation in this example)\n",
    "    dataset_imputed = handle_missing_values(dataset)\n",
    "\n",
    "    # Handle outliers \n",
    "    print('checking is there any outliers exist')\n",
    "    check_outliers(dataset_imputed) # plot\n",
    "    dataset_no_outliers = replace_outliers_with_median_iterative(dataset_imputed)\n",
    "    print('outliers handeled')\n",
    "    check_outliers(dataset_no_outliers)\n",
    "\n",
    "    # Encode categorical variables\n",
    "    dataset_encoded = label_encode(dataset_no_outliers)\n",
    "\n",
    "    # Split the data into features and target\n",
    "    X = dataset_encoded.drop('default', axis=1)\n",
    "    y = dataset_encoded['default']\n",
    "\n",
    "    # Split the data into training and testing sets\n",
    "    # X_train, X_test, y_train, y_test = train_test_split(X, y, test_size=0.2, random_state=42)\n",
    "\n",
    "    return train_test_split(X, y, test_size=0.2, random_state=42)\n",
    "    \n",
    "    # ... Continue with model training using the preprocessed data\n"
   ]
  },
  {
   "cell_type": "code",
   "execution_count": 9,
   "id": "d853190e-f3a7-485e-8218-d67b2c66e34a",
   "metadata": {},
   "outputs": [
    {
     "name": "stdout",
     "output_type": "stream",
     "text": [
      "Dataset Information:\n",
      "<class 'pandas.core.frame.DataFrame'>\n",
      "RangeIndex: 1000 entries, 0 to 999\n",
      "Data columns (total 17 columns):\n",
      " #   Column                Non-Null Count  Dtype \n",
      "---  ------                --------------  ----- \n",
      " 0   checking_balance      1000 non-null   object\n",
      " 1   months_loan_duration  1000 non-null   int64 \n",
      " 2   credit_history        1000 non-null   object\n",
      " 3   purpose               1000 non-null   object\n",
      " 4   amount                1000 non-null   int64 \n",
      " 5   savings_balance       1000 non-null   object\n",
      " 6   employment_duration   1000 non-null   object\n",
      " 7   percent_of_income     1000 non-null   int64 \n",
      " 8   years_at_residence    1000 non-null   int64 \n",
      " 9   age                   1000 non-null   int64 \n",
      " 10  other_credit          1000 non-null   object\n",
      " 11  housing               1000 non-null   object\n",
      " 12  existing_loans_count  1000 non-null   int64 \n",
      " 13  job                   1000 non-null   object\n",
      " 14  dependents            1000 non-null   int64 \n",
      " 15  phone                 1000 non-null   object\n",
      " 16  default               1000 non-null   object\n",
      "dtypes: int64(7), object(10)\n",
      "memory usage: 132.9+ KB\n",
      "None\n",
      "\n",
      "Summary Statistics:\n",
      "       months_loan_duration        amount  percent_of_income  \\\n",
      "count           1000.000000   1000.000000        1000.000000   \n",
      "mean              20.903000   3271.258000           2.973000   \n",
      "std               12.058814   2822.736876           1.118715   \n",
      "min                4.000000    250.000000           1.000000   \n",
      "25%               12.000000   1365.500000           2.000000   \n",
      "50%               18.000000   2319.500000           3.000000   \n",
      "75%               24.000000   3972.250000           4.000000   \n",
      "max               72.000000  18424.000000           4.000000   \n",
      "\n",
      "       years_at_residence          age  existing_loans_count   dependents  \n",
      "count         1000.000000  1000.000000           1000.000000  1000.000000  \n",
      "mean             2.845000    35.546000              1.407000     1.155000  \n",
      "std              1.103718    11.375469              0.577654     0.362086  \n",
      "min              1.000000    19.000000              1.000000     1.000000  \n",
      "25%              2.000000    27.000000              1.000000     1.000000  \n",
      "50%              3.000000    33.000000              1.000000     1.000000  \n",
      "75%              4.000000    42.000000              2.000000     1.000000  \n",
      "max              4.000000    75.000000              4.000000     2.000000  \n",
      "\n",
      "First Few Rows:\n",
      "  checking_balance  months_loan_duration credit_history               purpose  \\\n",
      "0           < 0 DM                     6       critical  furniture/appliances   \n",
      "1       1 - 200 DM                    48           good  furniture/appliances   \n",
      "2          unknown                    12       critical             education   \n",
      "3           < 0 DM                    42           good  furniture/appliances   \n",
      "4           < 0 DM                    24           poor                   car   \n",
      "\n",
      "   amount savings_balance employment_duration  percent_of_income  \\\n",
      "0    1169         unknown           > 7 years                  4   \n",
      "1    5951        < 100 DM         1 - 4 years                  2   \n",
      "2    2096        < 100 DM         4 - 7 years                  2   \n",
      "3    7882        < 100 DM         4 - 7 years                  2   \n",
      "4    4870        < 100 DM         1 - 4 years                  3   \n",
      "\n",
      "   years_at_residence  age other_credit housing  existing_loans_count  \\\n",
      "0                   4   67         none     own                     2   \n",
      "1                   2   22         none     own                     1   \n",
      "2                   3   49         none     own                     1   \n",
      "3                   4   45         none   other                     1   \n",
      "4                   4   53         none   other                     2   \n",
      "\n",
      "         job  dependents phone default  \n",
      "0    skilled           1   yes      no  \n",
      "1    skilled           1    no     yes  \n",
      "2  unskilled           2    no      no  \n",
      "3    skilled           2    no      no  \n",
      "4    skilled           2    no     yes  \n",
      "checking is there any outliers exist\n"
     ]
    },
    {
     "data": {
      "image/png": "[encoded data removed]",
      "text/plain": [
       "<Figure size 640x480 with 1 Axes>"
      ]
     },
     "metadata": {},
     "output_type": "display_data"
    },
    {
     "name": "stdout",
     "output_type": "stream",
     "text": [
      "outliers handeled\n"
     ]
    },
    {
     "data": {
      "image/png": "[encoded data removed]",
      "text/plain": [
       "<Figure size 640x480 with 1 Axes>"
      ]
     },
     "metadata": {},
     "output_type": "display_data"
    }
   ],
   "source": [
    "X_train, X_test, y_train, y_test = load_clean_split(\"./data/German_bank.csv\")"
   ]
  },
  {
   "cell_type": "code",
   "execution_count": 10,
   "id": "cdb869a5-3ba1-4afc-a4f7-f2b18aa6486a",
   "metadata": {},
   "outputs": [
    {
     "name": "stdout",
     "output_type": "stream",
     "text": [
      "Stored 'X_train' (DataFrame)\n",
      "Stored 'X_test' (DataFrame)\n",
      "Stored 'y_train' (Series)\n",
      "Stored 'y_test' (Series)\n"
     ]
    }
   ],
   "source": [
    "%store X_train X_test y_train y_test"
   ]
  },
  {
   "cell_type": "code",
   "execution_count": null,
   "id": "b5939498",
   "metadata": {},
   "outputs": [],
   "source": []
  }
 ],
 "metadata": {
  "kernelspec": {
   "display_name": "Python 3 (ipykernel)",
   "language": "python",
   "name": "python3"
  },
  "language_info": {
   "codemirror_mode": {
    "name": "ipython",
    "version": 3
   },
   "file_extension": ".py",
   "mimetype": "text/x-python",
   "name": "python",
   "nbconvert_exporter": "python",
   "pygments_lexer": "ipython3",
   "version": "3.10.9"
  }
 },
 "nbformat": 4,
 "nbformat_minor": 5
}
