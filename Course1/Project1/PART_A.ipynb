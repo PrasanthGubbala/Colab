{
  "nbformat": 4,
  "nbformat_minor": 0,
  "metadata": {
    "colab": {
      "provenance": [],
      "authorship_tag": "ABX9TyMjII83Os9LYxQ0/oBBh7z4",
      "include_colab_link": true
    },
    "kernelspec": {
      "name": "python3",
      "display_name": "Python 3"
    },
    "language_info": {
      "name": "python"
    }
  },
  "cells": [
    {
      "cell_type": "markdown",
      "metadata": {
        "id": "view-in-github",
        "colab_type": "text"
      },
      "source": [
        "<a href=\"https://colab.research.google.com/github/PrasanthGubbala/Colab/blob/dev/Course1/Project1/PART_A.ipynb\" target=\"_parent\"><img src=\"https://colab.research.google.com/assets/colab-badge.svg\" alt=\"Open In Colab\"/></a>"
      ]
    },
    {
      "cell_type": "markdown",
      "source": [
        "PART - A [Marks 15]\n",
        "# Project 1: Analysis of job market data to explore the open positions related\n",
        "# to the jobs in the field of data or machine learning in a particular region"
      ],
      "metadata": {
        "id": "LpDrwoslh3lO"
      }
    },
    {
      "cell_type": "markdown",
      "source": [
        "Getting the next page"
      ],
      "metadata": {
        "id": "2stmkGmdqhzp"
      }
    },
    {
      "cell_type": "code",
      "source": [
        "import csv\n",
        "from datetime import datetime\n",
        "import requests\n",
        "from bs4 import BeautifulSoup"
      ],
      "metadata": {
        "id": "VFsVYn63TBFO"
      },
      "execution_count": null,
      "outputs": []
    },
    {
      "cell_type": "code",
      "source": [
        "# position=1&pageNum=0\n",
        "\n",
        "def get_url(keywords=None, location=None,pageNum=0,position=1):\n",
        "    \"\"\"Generate a url from position and location\"\"\"\n",
        "    return f'https://www.linkedin.com/jobs/search/?keywords={keywords}&location={location}&position={position}&pageNum={pageNum}'"
      ],
      "metadata": {
        "id": "2RSx9SuMTBHa"
      },
      "execution_count": null,
      "outputs": []
    },
    {
      "cell_type": "code",
      "source": [
        "url = get_url(keywords='Software Engineer',location='USA',pageNum=0)\n",
        "url"
      ],
      "metadata": {
        "colab": {
          "base_uri": "https://localhost:8080/",
          "height": 35
        },
        "id": "Dn5f3BDrTBL4",
        "outputId": "0256d5c0-e9f3-45b1-cb2f-c0f800d62471"
      },
      "execution_count": null,
      "outputs": [
        {
          "output_type": "execute_result",
          "data": {
            "text/plain": [
              "'https://www.linkedin.com/jobs/search/?keywords=Software Engineer&location=USA&position=1&pageNum=0'"
            ],
            "application/vnd.google.colaboratory.intrinsic+json": {
              "type": "string"
            }
          },
          "metadata": {},
          "execution_count": 59
        }
      ]
    },
    {
      "cell_type": "code",
      "source": [
        "https://www.linkedin.com/jobs/search/?keywords=Software%20Engineer&location=USA&pageNum=1&position=1\n",
        "\n",
        "\n",
        "\n",
        "#  jobCard_mainContent big6_visualChanges"
      ],
      "metadata": {
        "id": "8hAzmKg_TBPG"
      },
      "execution_count": null,
      "outputs": []
    },
    {
      "cell_type": "code",
      "source": [
        "# headers = {'User-Agent': 'Mozilla/5.0 (Windows NT 10.0; Win64; x64) AppleWebKit/537.36 (KHTML, like Gecko) Chrome/58.0.3029.110 Safari/537.3'}\n",
        "response = requests.get('https://www.linkedin.com/jobs/search/?keywords=Software%20Engineer&location=USA&pageNum=2&position=1')\n",
        "response.status_code"
      ],
      "metadata": {
        "colab": {
          "base_uri": "https://localhost:8080/"
        },
        "id": "0RPjh49GWKev",
        "outputId": "f4a255e5-05df-437e-8987-11caeff9f006"
      },
      "execution_count": null,
      "outputs": [
        {
          "output_type": "execute_result",
          "data": {
            "text/plain": [
              "200"
            ]
          },
          "metadata": {},
          "execution_count": 48
        }
      ]
    },
    {
      "cell_type": "code",
      "source": [
        "soup = BeautifulSoup(response.text, 'html.parser')\n",
        "\n",
        "# Find the <ul> element with class \"jobs-search__results-list\"\n",
        "ul_element = soup.find('ul', class_='jobs-search__results-list')\n",
        "\n",
        "# Find all <li> elements within the <ul> element\n",
        "cards = ul_element.find_all('li')"
      ],
      "metadata": {
        "id": "nNi2dK3OoLi8"
      },
      "execution_count": null,
      "outputs": []
    },
    {
      "cell_type": "code",
      "source": [
        "card = cards[0]"
      ],
      "metadata": {
        "id": "9Lzp8lmyoLm4"
      },
      "execution_count": null,
      "outputs": []
    },
    {
      "cell_type": "code",
      "source": [],
      "metadata": {
        "id": "GMucxe09uaqd"
      },
      "execution_count": null,
      "outputs": []
    },
    {
      "cell_type": "code",
      "source": [],
      "metadata": {
        "id": "D2LZ9tcpx5Se"
      },
      "execution_count": null,
      "outputs": []
    },
    {
      "cell_type": "code",
      "source": [],
      "metadata": {
        "id": "Aq9undNOx5Xg"
      },
      "execution_count": null,
      "outputs": []
    },
    {
      "cell_type": "code",
      "source": [],
      "metadata": {
        "id": "4X150clIx5a-"
      },
      "execution_count": null,
      "outputs": []
    },
    {
      "cell_type": "code",
      "source": [
        "import csv\n",
        "from datetime import datetime\n",
        "import requests\n",
        "from bs4 import BeautifulSoup\n",
        "\n",
        "def get_url(position=None, location=None,page=0):\n",
        "    \"\"\"Generate a url from position and location\"\"\"\n",
        "    return f'https://www.linkedin.com/jobs/search/?keywords={position}&location={location}'\n",
        "\n",
        "\n",
        "def get_record(card):\n",
        "    \"\"\"Extract job data from a single record\"\"\"\n",
        "\n",
        "    '''define all values'''\n",
        "    job_link = card.find('a', 'base-card__full-link').get('href')\n",
        "    job_role = card.find('h3', 'base-search-card__title').get_text().strip()\n",
        "    company = card.find('h4', 'base-search-card__subtitle')  #div.h4.text.strip()\n",
        "    company_name = company.a.get_text().strip()\n",
        "    company_url = company.find('a').get('href')\n",
        "    job_location = card.find('span', 'job-search-card__location').text.strip()\n",
        "    hiring_status = card.find('span', 'result-benefits__text').text.strip()\n",
        "    job_posting_date = card.find('time', class_='job-search-card__listdate')['datetime']\n",
        "\n",
        "    try:\n",
        "        job_salary = card.find('span', 'job-search-card__salary-info').get_text().strip()\n",
        "    except AttributeError:\n",
        "        job_salary = ''\n",
        "\n",
        "    # record = ('all_fields')\n",
        "\n",
        "    return record\n",
        "\n",
        "\n",
        "def main(position, location):\n",
        "    \"\"\"Run the main program routine\"\"\"\n",
        "    records = []\n",
        "    url = get_url(position, location)\n",
        "\n",
        "    #extract the job data\n",
        "    while True:\n",
        "        response = requests.get(url)\n",
        "        soup = BeautifulSoup(response.text, 'html.parser')\n",
        "\n",
        "        # Find the <ul> element with class \"jobs-search__results-list\"\n",
        "        ul_element = soup.find('ul', class_='jobs-search__results-list')\n",
        "\n",
        "        # Find all <li> elements within the <ul> element\n",
        "        cards = ul_element.find_all('li')\n",
        "\n",
        "        for card in cards:\n",
        "            record = get_record(card)\n",
        "            records.append(record)\n",
        "\n",
        "        try:\n",
        "            url = 'https://www.indeed.com' + soup.find('a', {'aria-label': 'Next'}).get('href')\n",
        "        except AttributeError:\n",
        "            break\n",
        "\n",
        "\n",
        "    # save records data\n",
        "    # save logic here"
      ],
      "metadata": {
        "id": "TFfxEnUfkd87"
      },
      "execution_count": null,
      "outputs": []
    }
  ]
}