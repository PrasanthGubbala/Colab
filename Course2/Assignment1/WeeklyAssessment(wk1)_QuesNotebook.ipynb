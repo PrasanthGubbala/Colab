{
  "cells": [
    {
      "cell_type": "markdown",
      "metadata": {
        "id": "view-in-github",
        "colab_type": "text"
      },
      "source": [
        "<a href=\"https://colab.research.google.com/github/PrasanthGubbala/MS-in-Information-Science-Machine-Learning/blob/dev/Course2/Assignment1/WeeklyAssessment(wk1)_QuesNotebook.ipynb\" target=\"_parent\"><img src=\"https://colab.research.google.com/assets/colab-badge.svg\" alt=\"Open In Colab\"/></a>"
      ]
    },
    {
      "cell_type": "markdown",
      "id": "517a46da",
      "metadata": {
        "id": "517a46da"
      },
      "source": [
        "# Week:1 Introduction to Data Mining"
      ]
    },
    {
      "cell_type": "markdown",
      "id": "12f626c2",
      "metadata": {
        "id": "12f626c2"
      },
      "source": [
        "### Objective:\n",
        "The objective of the assignment is to understand how to install libraries, creating variables, calculate statistical metrics, basic python opreations, creating dataframes and basic pandas operations on the dataframe.\n",
        "\n",
        "We have to use Fatal Police Shooting Data to answer the questions given in this notebook."
      ]
    },
    {
      "cell_type": "markdown",
      "id": "d5d4dbdb",
      "metadata": {
        "id": "d5d4dbdb"
      },
      "source": [
        "### Fatal Police Shooting Data"
      ]
    },
    {
      "cell_type": "markdown",
      "id": "5ebbf336",
      "metadata": {
        "id": "5ebbf336"
      },
      "source": [
        "**About dataset**\\\n",
        "The dataset consists of following columns\n",
        "1. **id**                         : unqiue identifier of each victim\n",
        "2. **name**                       : name of a victim\n",
        "3. **date**                       : date on fatal shooting\n",
        "4. **manner_of_death**            : manner of death classification\n",
        "    * Shot\n",
        "    * Shot and Tasered\n",
        "5. **armed**                      : indicates that the victim was armed with some sort of implement that a police officer believed could inflict harm\n",
        "    * undetermined: it is not known whether or not the victim had a weapon\n",
        "    * unknown: the victim was armed, but it is not known what the object was\n",
        "    * unarmed: the victim was not armed\n",
        "6. **age**                        : age of victim\n",
        "7. **gender**                     : the gender of the victim. The Post identifies victims by the gender they identify with if reports indicate that it differs from their biological sex.\n",
        "    * M: Male\n",
        "    * F: Female\n",
        "    * None: Unknown\n",
        "8. **race**                       : race of victim\n",
        "    * W: White, non-Hispanic\n",
        "    * B: Black, non-Hispanic\n",
        "    * A: Asian\n",
        "    * N: Native American\n",
        "    * H: Hispanic\n",
        "    * O: Other\n",
        "    * None: unknown\n",
        "9. **city**                       : the city where the fatal shooting took place. Note that in some cases this field may contain a county name if a more specific city is unavailable or unknown.\n",
        "10. **state**                     : two-letter postal code abbreviation\n",
        "11. **signs_of_mental_illness**   : News reports have indicated the victim had a history of mental health issues, expressed suicidal intentions or was experiencing mental distress at the time of the shooting.\n",
        "12. **threat_level**              : These would include incidents where officers or others were shot at, threatened with a gun, attacked with other weapons or physical force, etc. The attack category is meant to flag the highest level of threat. The other and undetermined categories represent all remaining cases. Other includes many incidents where officers or others faced significant threats.\n",
        "13. **flee**                      : News reports have indicated the victim was moving away from officers\n",
        "    * Foot\n",
        "    * Car\n",
        "    * Not fleeing\n",
        "14. **body_camera**               : News reports have indicated an officer was wearing a body camera and it may have recorded some portion of the incident."
      ]
    },
    {
      "cell_type": "markdown",
      "id": "cf98638d",
      "metadata": {
        "id": "cf98638d"
      },
      "source": [
        "## Let's Begin"
      ]
    },
    {
      "cell_type": "markdown",
      "id": "291544dc",
      "metadata": {
        "id": "291544dc"
      },
      "source": [
        "### Question: 1            (2 Marks)                                                                                                                                                  \n",
        "\n",
        "Install the required libraries for the assignment"
      ]
    },
    {
      "cell_type": "code",
      "execution_count": null,
      "id": "ea85a1aa",
      "metadata": {
        "id": "ea85a1aa"
      },
      "outputs": [],
      "source": [
        "import numpy as np"
      ]
    },
    {
      "cell_type": "code",
      "execution_count": null,
      "id": "1180ffc4",
      "metadata": {
        "id": "1180ffc4",
        "colab": {
          "base_uri": "https://localhost:8080/"
        },
        "outputId": "e32c3a67-3b29-42b4-fb24-4f63a0de2660"
      },
      "outputs": [
        {
          "output_type": "stream",
          "name": "stdout",
          "text": [
            "Requirement already satisfied: pandas in /usr/local/lib/python3.10/dist-packages (2.0.3)\n",
            "Requirement already satisfied: python-dateutil>=2.8.2 in /usr/local/lib/python3.10/dist-packages (from pandas) (2.8.2)\n",
            "Requirement already satisfied: pytz>=2020.1 in /usr/local/lib/python3.10/dist-packages (from pandas) (2023.3)\n",
            "Requirement already satisfied: tzdata>=2022.1 in /usr/local/lib/python3.10/dist-packages (from pandas) (2023.3)\n",
            "Requirement already satisfied: numpy>=1.21.0 in /usr/local/lib/python3.10/dist-packages (from pandas) (1.23.5)\n",
            "Requirement already satisfied: six>=1.5 in /usr/local/lib/python3.10/dist-packages (from python-dateutil>=2.8.2->pandas) (1.16.0)\n"
          ]
        }
      ],
      "source": [
        "# Install a libray which help us to data injecting, data manipulation on the dataframe\n",
        "\n",
        "!pip install pandas"
      ]
    },
    {
      "cell_type": "code",
      "execution_count": null,
      "id": "e9f4ba00",
      "metadata": {
        "id": "e9f4ba00",
        "colab": {
          "base_uri": "https://localhost:8080/",
          "height": 35
        },
        "outputId": "011dd210-894c-4f35-e191-14815ce3ac91"
      },
      "outputs": [
        {
          "output_type": "execute_result",
          "data": {
            "text/plain": [
              "'2.0.3'"
            ],
            "application/vnd.google.colaboratory.intrinsic+json": {
              "type": "string"
            }
          },
          "metadata": {},
          "execution_count": 4
        }
      ],
      "source": [
        "# Import the libary\n",
        "'<<__A__>>'\n",
        "import pandas as pd\n",
        "\n",
        "#Check the version\n",
        "'<<__B__>>'\n",
        "pd.__version__"
      ]
    },
    {
      "cell_type": "code",
      "execution_count": null,
      "id": "c090f127",
      "metadata": {
        "id": "c090f127",
        "colab": {
          "base_uri": "https://localhost:8080/"
        },
        "outputId": "71c62ead-bcbd-478c-bd68-7d777069fe62"
      },
      "outputs": [
        {
          "output_type": "stream",
          "name": "stdout",
          "text": [
            "Requirement already satisfied: pandas in /usr/local/lib/python3.10/dist-packages (2.0.3)\n",
            "Requirement already satisfied: python-dateutil>=2.8.2 in /usr/local/lib/python3.10/dist-packages (from pandas) (2.8.2)\n",
            "Requirement already satisfied: pytz>=2020.1 in /usr/local/lib/python3.10/dist-packages (from pandas) (2023.3)\n",
            "Requirement already satisfied: tzdata>=2022.1 in /usr/local/lib/python3.10/dist-packages (from pandas) (2023.3)\n",
            "Requirement already satisfied: numpy>=1.21.0 in /usr/local/lib/python3.10/dist-packages (from pandas) (1.23.5)\n",
            "Requirement already satisfied: six>=1.5 in /usr/local/lib/python3.10/dist-packages (from python-dateutil>=2.8.2->pandas) (1.16.0)\n"
          ]
        }
      ],
      "source": [
        "# Upgrade the installed library to the latest version\n",
        "'<<__C__>>'\n",
        "!pip install --upgrade pandas"
      ]
    },
    {
      "cell_type": "code",
      "execution_count": null,
      "id": "018def1a",
      "metadata": {
        "id": "018def1a",
        "colab": {
          "base_uri": "https://localhost:8080/"
        },
        "outputId": "a878c9dd-6cfc-4a15-a0ac-eb0a41e8bf02"
      },
      "outputs": [
        {
          "output_type": "stream",
          "name": "stdout",
          "text": [
            "version of pandas before upgrade :  2.0.3\n",
            "Requirement already satisfied: pandas in /usr/local/lib/python3.10/dist-packages (2.0.3)\n",
            "Requirement already satisfied: python-dateutil>=2.8.2 in /usr/local/lib/python3.10/dist-packages (from pandas) (2.8.2)\n",
            "Requirement already satisfied: pytz>=2020.1 in /usr/local/lib/python3.10/dist-packages (from pandas) (2023.3)\n",
            "Requirement already satisfied: tzdata>=2022.1 in /usr/local/lib/python3.10/dist-packages (from pandas) (2023.3)\n",
            "Requirement already satisfied: numpy>=1.21.0 in /usr/local/lib/python3.10/dist-packages (from pandas) (1.23.5)\n",
            "Requirement already satisfied: six>=1.5 in /usr/local/lib/python3.10/dist-packages (from python-dateutil>=2.8.2->pandas) (1.16.0)\n",
            "version of pandas after upgrade :  2.0.3\n"
          ]
        }
      ],
      "source": [
        "# Check the latest version after upgrading library\n",
        "'<<__D__>>'\n",
        "\n",
        " #Todo: Code to fill\n",
        " # 1. '<<__A__>>'--> import requried libraries\n",
        "import pandas as pd\n",
        " # 2. '<<__B__>>'--> Check the version\n",
        "print('version of pandas before upgrade : ', pd.__version__)\n",
        " # 3. '<<__C__>>'--> Updgrade the installed library to leatest version\n",
        "!pip install --upgrade pandas\n",
        " # 4. '<<__D__>>'--> Check the latest version after upgrading library\n",
        "print('version of pandas after upgrade : ', pd.__version__)"
      ]
    },
    {
      "cell_type": "markdown",
      "id": "1ddb507b",
      "metadata": {
        "id": "1ddb507b"
      },
      "source": [
        "### Question: 2 (2 marks)\n",
        "\n",
        "- Fill in the missing code.\n",
        "- Store the data in to a variable, then display the top 5 and bottom 5 rows of records and check the dataset's shape."
      ]
    },
    {
      "cell_type": "code",
      "execution_count": null,
      "id": "829b98cd",
      "metadata": {
        "id": "829b98cd"
      },
      "outputs": [],
      "source": [
        "# Load the dataframe and store it into the variable\n",
        "# df = pd.'<<__A__>>'('<<__B__>>')\n",
        "df = pd.read_csv('./fatal-police-shootings-data.csv')"
      ]
    },
    {
      "cell_type": "code",
      "execution_count": null,
      "id": "0c4decad",
      "metadata": {
        "id": "0c4decad",
        "colab": {
          "base_uri": "https://localhost:8080/",
          "height": 206
        },
        "outputId": "a6f670bb-3153-4e57-8c27-c0005f975e59"
      },
      "outputs": [
        {
          "output_type": "execute_result",
          "data": {
            "text/plain": [
              "   id                name        date   manner_of_death       armed   age  \\\n",
              "0   3          Tim Elliot  2015-01-02              shot         gun  53.0   \n",
              "1   4    Lewis Lee Lembke  2015-01-02              shot         gun  47.0   \n",
              "2   5  John Paul Quintero  2015-01-03  shot and Tasered     unarmed  23.0   \n",
              "3   8     Matthew Hoffman  2015-01-04              shot  toy weapon  32.0   \n",
              "4   9   Michael Rodriguez  2015-01-04              shot    nail gun  39.0   \n",
              "\n",
              "  gender race           city state  signs_of_mental_illness threat_level  \\\n",
              "0      M    A        Shelton    WA                     True       attack   \n",
              "1      M    W          Aloha    OR                    False       attack   \n",
              "2      M    H        Wichita    KS                    False        other   \n",
              "3      M    W  San Francisco    CA                     True       attack   \n",
              "4      M    H          Evans    CO                    False       attack   \n",
              "\n",
              "          flee  body_camera  \n",
              "0  Not fleeing        False  \n",
              "1  Not fleeing        False  \n",
              "2  Not fleeing        False  \n",
              "3  Not fleeing        False  \n",
              "4  Not fleeing        False  "
            ],
            "text/html": [
              "\n",
              "  <div id=\"df-6c9e4a85-c234-48d0-b8da-1428ed64e57a\" class=\"colab-df-container\">\n",
              "    <div>\n",
              "<style scoped>\n",
              "    .dataframe tbody tr th:only-of-type {\n",
              "        vertical-align: middle;\n",
              "    }\n",
              "\n",
              "    .dataframe tbody tr th {\n",
              "        vertical-align: top;\n",
              "    }\n",
              "\n",
              "    .dataframe thead th {\n",
              "        text-align: right;\n",
              "    }\n",
              "</style>\n",
              "<table border=\"1\" class=\"dataframe\">\n",
              "  <thead>\n",
              "    <tr style=\"text-align: right;\">\n",
              "      <th></th>\n",
              "      <th>id</th>\n",
              "      <th>name</th>\n",
              "      <th>date</th>\n",
              "      <th>manner_of_death</th>\n",
              "      <th>armed</th>\n",
              "      <th>age</th>\n",
              "      <th>gender</th>\n",
              "      <th>race</th>\n",
              "      <th>city</th>\n",
              "      <th>state</th>\n",
              "      <th>signs_of_mental_illness</th>\n",
              "      <th>threat_level</th>\n",
              "      <th>flee</th>\n",
              "      <th>body_camera</th>\n",
              "    </tr>\n",
              "  </thead>\n",
              "  <tbody>\n",
              "    <tr>\n",
              "      <th>0</th>\n",
              "      <td>3</td>\n",
              "      <td>Tim Elliot</td>\n",
              "      <td>2015-01-02</td>\n",
              "      <td>shot</td>\n",
              "      <td>gun</td>\n",
              "      <td>53.0</td>\n",
              "      <td>M</td>\n",
              "      <td>A</td>\n",
              "      <td>Shelton</td>\n",
              "      <td>WA</td>\n",
              "      <td>True</td>\n",
              "      <td>attack</td>\n",
              "      <td>Not fleeing</td>\n",
              "      <td>False</td>\n",
              "    </tr>\n",
              "    <tr>\n",
              "      <th>1</th>\n",
              "      <td>4</td>\n",
              "      <td>Lewis Lee Lembke</td>\n",
              "      <td>2015-01-02</td>\n",
              "      <td>shot</td>\n",
              "      <td>gun</td>\n",
              "      <td>47.0</td>\n",
              "      <td>M</td>\n",
              "      <td>W</td>\n",
              "      <td>Aloha</td>\n",
              "      <td>OR</td>\n",
              "      <td>False</td>\n",
              "      <td>attack</td>\n",
              "      <td>Not fleeing</td>\n",
              "      <td>False</td>\n",
              "    </tr>\n",
              "    <tr>\n",
              "      <th>2</th>\n",
              "      <td>5</td>\n",
              "      <td>John Paul Quintero</td>\n",
              "      <td>2015-01-03</td>\n",
              "      <td>shot and Tasered</td>\n",
              "      <td>unarmed</td>\n",
              "      <td>23.0</td>\n",
              "      <td>M</td>\n",
              "      <td>H</td>\n",
              "      <td>Wichita</td>\n",
              "      <td>KS</td>\n",
              "      <td>False</td>\n",
              "      <td>other</td>\n",
              "      <td>Not fleeing</td>\n",
              "      <td>False</td>\n",
              "    </tr>\n",
              "    <tr>\n",
              "      <th>3</th>\n",
              "      <td>8</td>\n",
              "      <td>Matthew Hoffman</td>\n",
              "      <td>2015-01-04</td>\n",
              "      <td>shot</td>\n",
              "      <td>toy weapon</td>\n",
              "      <td>32.0</td>\n",
              "      <td>M</td>\n",
              "      <td>W</td>\n",
              "      <td>San Francisco</td>\n",
              "      <td>CA</td>\n",
              "      <td>True</td>\n",
              "      <td>attack</td>\n",
              "      <td>Not fleeing</td>\n",
              "      <td>False</td>\n",
              "    </tr>\n",
              "    <tr>\n",
              "      <th>4</th>\n",
              "      <td>9</td>\n",
              "      <td>Michael Rodriguez</td>\n",
              "      <td>2015-01-04</td>\n",
              "      <td>shot</td>\n",
              "      <td>nail gun</td>\n",
              "      <td>39.0</td>\n",
              "      <td>M</td>\n",
              "      <td>H</td>\n",
              "      <td>Evans</td>\n",
              "      <td>CO</td>\n",
              "      <td>False</td>\n",
              "      <td>attack</td>\n",
              "      <td>Not fleeing</td>\n",
              "      <td>False</td>\n",
              "    </tr>\n",
              "  </tbody>\n",
              "</table>\n",
              "</div>\n",
              "    <div class=\"colab-df-buttons\">\n",
              "\n",
              "  <div class=\"colab-df-container\">\n",
              "    <button class=\"colab-df-convert\" onclick=\"convertToInteractive('df-6c9e4a85-c234-48d0-b8da-1428ed64e57a')\"\n",
              "            title=\"Convert this dataframe to an interactive table.\"\n",
              "            style=\"display:none;\">\n",
              "\n",
              "  <svg xmlns=\"http://www.w3.org/2000/svg\" height=\"24px\" viewBox=\"0 -960 960 960\">\n",
              "    <path d=\"M120-120v-720h720v720H120Zm60-500h600v-160H180v160Zm220 220h160v-160H400v160Zm0 220h160v-160H400v160ZM180-400h160v-160H180v160Zm440 0h160v-160H620v160ZM180-180h160v-160H180v160Zm440 0h160v-160H620v160Z\"/>\n",
              "  </svg>\n",
              "    </button>\n",
              "\n",
              "  <style>\n",
              "    .colab-df-container {\n",
              "      display:flex;\n",
              "      gap: 12px;\n",
              "    }\n",
              "\n",
              "    .colab-df-convert {\n",
              "      background-color: #E8F0FE;\n",
              "      border: none;\n",
              "      border-radius: 50%;\n",
              "      cursor: pointer;\n",
              "      display: none;\n",
              "      fill: #1967D2;\n",
              "      height: 32px;\n",
              "      padding: 0 0 0 0;\n",
              "      width: 32px;\n",
              "    }\n",
              "\n",
              "    .colab-df-convert:hover {\n",
              "      background-color: #E2EBFA;\n",
              "      box-shadow: 0px 1px 2px rgba(60, 64, 67, 0.3), 0px 1px 3px 1px rgba(60, 64, 67, 0.15);\n",
              "      fill: #174EA6;\n",
              "    }\n",
              "\n",
              "    .colab-df-buttons div {\n",
              "      margin-bottom: 4px;\n",
              "    }\n",
              "\n",
              "    [theme=dark] .colab-df-convert {\n",
              "      background-color: #3B4455;\n",
              "      fill: #D2E3FC;\n",
              "    }\n",
              "\n",
              "    [theme=dark] .colab-df-convert:hover {\n",
              "      background-color: #434B5C;\n",
              "      box-shadow: 0px 1px 3px 1px rgba(0, 0, 0, 0.15);\n",
              "      filter: drop-shadow(0px 1px 2px rgba(0, 0, 0, 0.3));\n",
              "      fill: #FFFFFF;\n",
              "    }\n",
              "  </style>\n",
              "\n",
              "    <script>\n",
              "      const buttonEl =\n",
              "        document.querySelector('#df-6c9e4a85-c234-48d0-b8da-1428ed64e57a button.colab-df-convert');\n",
              "      buttonEl.style.display =\n",
              "        google.colab.kernel.accessAllowed ? 'block' : 'none';\n",
              "\n",
              "      async function convertToInteractive(key) {\n",
              "        const element = document.querySelector('#df-6c9e4a85-c234-48d0-b8da-1428ed64e57a');\n",
              "        const dataTable =\n",
              "          await google.colab.kernel.invokeFunction('convertToInteractive',\n",
              "                                                    [key], {});\n",
              "        if (!dataTable) return;\n",
              "\n",
              "        const docLinkHtml = 'Like what you see? Visit the ' +\n",
              "          '<a target=\"_blank\" href=https://colab.research.google.com/notebooks/data_table.ipynb>data table notebook</a>'\n",
              "          + ' to learn more about interactive tables.';\n",
              "        element.innerHTML = '';\n",
              "        dataTable['output_type'] = 'display_data';\n",
              "        await google.colab.output.renderOutput(dataTable, element);\n",
              "        const docLink = document.createElement('div');\n",
              "        docLink.innerHTML = docLinkHtml;\n",
              "        element.appendChild(docLink);\n",
              "      }\n",
              "    </script>\n",
              "  </div>\n",
              "\n",
              "\n",
              "<div id=\"df-5ca2a27b-69ef-4b73-9fd7-55fc8824c409\">\n",
              "  <button class=\"colab-df-quickchart\" onclick=\"quickchart('df-5ca2a27b-69ef-4b73-9fd7-55fc8824c409')\"\n",
              "            title=\"Suggest charts.\"\n",
              "            style=\"display:none;\">\n",
              "\n",
              "<svg xmlns=\"http://www.w3.org/2000/svg\" height=\"24px\"viewBox=\"0 0 24 24\"\n",
              "     width=\"24px\">\n",
              "    <g>\n",
              "        <path d=\"M19 3H5c-1.1 0-2 .9-2 2v14c0 1.1.9 2 2 2h14c1.1 0 2-.9 2-2V5c0-1.1-.9-2-2-2zM9 17H7v-7h2v7zm4 0h-2V7h2v10zm4 0h-2v-4h2v4z\"/>\n",
              "    </g>\n",
              "</svg>\n",
              "  </button>\n",
              "\n",
              "<style>\n",
              "  .colab-df-quickchart {\n",
              "    background-color: #E8F0FE;\n",
              "    border: none;\n",
              "    border-radius: 50%;\n",
              "    cursor: pointer;\n",
              "    display: none;\n",
              "    fill: #1967D2;\n",
              "    height: 32px;\n",
              "    padding: 0 0 0 0;\n",
              "    width: 32px;\n",
              "  }\n",
              "\n",
              "  .colab-df-quickchart:hover {\n",
              "    background-color: #E2EBFA;\n",
              "    box-shadow: 0px 1px 2px rgba(60, 64, 67, 0.3), 0px 1px 3px 1px rgba(60, 64, 67, 0.15);\n",
              "    fill: #174EA6;\n",
              "  }\n",
              "\n",
              "  [theme=dark] .colab-df-quickchart {\n",
              "    background-color: #3B4455;\n",
              "    fill: #D2E3FC;\n",
              "  }\n",
              "\n",
              "  [theme=dark] .colab-df-quickchart:hover {\n",
              "    background-color: #434B5C;\n",
              "    box-shadow: 0px 1px 3px 1px rgba(0, 0, 0, 0.15);\n",
              "    filter: drop-shadow(0px 1px 2px rgba(0, 0, 0, 0.3));\n",
              "    fill: #FFFFFF;\n",
              "  }\n",
              "</style>\n",
              "\n",
              "  <script>\n",
              "    async function quickchart(key) {\n",
              "      const charts = await google.colab.kernel.invokeFunction(\n",
              "          'suggestCharts', [key], {});\n",
              "    }\n",
              "    (() => {\n",
              "      let quickchartButtonEl =\n",
              "        document.querySelector('#df-5ca2a27b-69ef-4b73-9fd7-55fc8824c409 button');\n",
              "      quickchartButtonEl.style.display =\n",
              "        google.colab.kernel.accessAllowed ? 'block' : 'none';\n",
              "    })();\n",
              "  </script>\n",
              "</div>\n",
              "    </div>\n",
              "  </div>\n"
            ]
          },
          "metadata": {},
          "execution_count": 13
        }
      ],
      "source": [
        "# Display the Top 5 records\n",
        "# df.'<<__C__>>'()\n",
        "# head function bydefault displays first 5 records since your ask was first 5 i'm not passing any specific no of records over head function\n",
        "df.head() # we can pass required no of rows(rows count) to function as arguments"
      ]
    },
    {
      "cell_type": "code",
      "execution_count": null,
      "id": "69810713",
      "metadata": {
        "id": "69810713",
        "colab": {
          "base_uri": "https://localhost:8080/",
          "height": 206
        },
        "outputId": "65cb9f9e-0699-415f-db0f-c5e7432ada68"
      },
      "outputs": [
        {
          "output_type": "execute_result",
          "data": {
            "text/plain": [
              "        id                      name        date manner_of_death  \\\n",
              "4473  4907              Connor Betts  2019-08-04            shot   \n",
              "4474  4909  Robert Clay Wilsford Jr.  2019-08-04            shot   \n",
              "4475  4910                     TK TK  2019-08-05            shot   \n",
              "4476  4914            James Kirkwood  2019-08-05            shot   \n",
              "4477  4916      Marvin Alexis Urbina  2019-08-05            shot   \n",
              "\n",
              "             armed   age gender race            city state  \\\n",
              "4473           gun  24.0      M    W          Dayton    OH   \n",
              "4474           gun  65.0      M  NaN      Hanceville    AL   \n",
              "4475  undetermined   NaN    NaN  NaN  Salt Lake City    UT   \n",
              "4476         knife  49.0      M    B         Memphis    TN   \n",
              "4477       vehicle  19.0      M    H     Bakersfield    CA   \n",
              "\n",
              "      signs_of_mental_illness  threat_level         flee  body_camera  \n",
              "4473                     True        attack  Not fleeing        False  \n",
              "4474                     True        attack  Not fleeing        False  \n",
              "4475                    False  undetermined  Not fleeing         True  \n",
              "4476                    False        attack         Foot        False  \n",
              "4477                    False         other          Car        False  "
            ],
            "text/html": [
              "\n",
              "  <div id=\"df-872cbc7c-01b7-4535-a6c3-bc3e2ef059f9\" class=\"colab-df-container\">\n",
              "    <div>\n",
              "<style scoped>\n",
              "    .dataframe tbody tr th:only-of-type {\n",
              "        vertical-align: middle;\n",
              "    }\n",
              "\n",
              "    .dataframe tbody tr th {\n",
              "        vertical-align: top;\n",
              "    }\n",
              "\n",
              "    .dataframe thead th {\n",
              "        text-align: right;\n",
              "    }\n",
              "</style>\n",
              "<table border=\"1\" class=\"dataframe\">\n",
              "  <thead>\n",
              "    <tr style=\"text-align: right;\">\n",
              "      <th></th>\n",
              "      <th>id</th>\n",
              "      <th>name</th>\n",
              "      <th>date</th>\n",
              "      <th>manner_of_death</th>\n",
              "      <th>armed</th>\n",
              "      <th>age</th>\n",
              "      <th>gender</th>\n",
              "      <th>race</th>\n",
              "      <th>city</th>\n",
              "      <th>state</th>\n",
              "      <th>signs_of_mental_illness</th>\n",
              "      <th>threat_level</th>\n",
              "      <th>flee</th>\n",
              "      <th>body_camera</th>\n",
              "    </tr>\n",
              "  </thead>\n",
              "  <tbody>\n",
              "    <tr>\n",
              "      <th>4473</th>\n",
              "      <td>4907</td>\n",
              "      <td>Connor Betts</td>\n",
              "      <td>2019-08-04</td>\n",
              "      <td>shot</td>\n",
              "      <td>gun</td>\n",
              "      <td>24.0</td>\n",
              "      <td>M</td>\n",
              "      <td>W</td>\n",
              "      <td>Dayton</td>\n",
              "      <td>OH</td>\n",
              "      <td>True</td>\n",
              "      <td>attack</td>\n",
              "      <td>Not fleeing</td>\n",
              "      <td>False</td>\n",
              "    </tr>\n",
              "    <tr>\n",
              "      <th>4474</th>\n",
              "      <td>4909</td>\n",
              "      <td>Robert Clay Wilsford Jr.</td>\n",
              "      <td>2019-08-04</td>\n",
              "      <td>shot</td>\n",
              "      <td>gun</td>\n",
              "      <td>65.0</td>\n",
              "      <td>M</td>\n",
              "      <td>NaN</td>\n",
              "      <td>Hanceville</td>\n",
              "      <td>AL</td>\n",
              "      <td>True</td>\n",
              "      <td>attack</td>\n",
              "      <td>Not fleeing</td>\n",
              "      <td>False</td>\n",
              "    </tr>\n",
              "    <tr>\n",
              "      <th>4475</th>\n",
              "      <td>4910</td>\n",
              "      <td>TK TK</td>\n",
              "      <td>2019-08-05</td>\n",
              "      <td>shot</td>\n",
              "      <td>undetermined</td>\n",
              "      <td>NaN</td>\n",
              "      <td>NaN</td>\n",
              "      <td>NaN</td>\n",
              "      <td>Salt Lake City</td>\n",
              "      <td>UT</td>\n",
              "      <td>False</td>\n",
              "      <td>undetermined</td>\n",
              "      <td>Not fleeing</td>\n",
              "      <td>True</td>\n",
              "    </tr>\n",
              "    <tr>\n",
              "      <th>4476</th>\n",
              "      <td>4914</td>\n",
              "      <td>James Kirkwood</td>\n",
              "      <td>2019-08-05</td>\n",
              "      <td>shot</td>\n",
              "      <td>knife</td>\n",
              "      <td>49.0</td>\n",
              "      <td>M</td>\n",
              "      <td>B</td>\n",
              "      <td>Memphis</td>\n",
              "      <td>TN</td>\n",
              "      <td>False</td>\n",
              "      <td>attack</td>\n",
              "      <td>Foot</td>\n",
              "      <td>False</td>\n",
              "    </tr>\n",
              "    <tr>\n",
              "      <th>4477</th>\n",
              "      <td>4916</td>\n",
              "      <td>Marvin Alexis Urbina</td>\n",
              "      <td>2019-08-05</td>\n",
              "      <td>shot</td>\n",
              "      <td>vehicle</td>\n",
              "      <td>19.0</td>\n",
              "      <td>M</td>\n",
              "      <td>H</td>\n",
              "      <td>Bakersfield</td>\n",
              "      <td>CA</td>\n",
              "      <td>False</td>\n",
              "      <td>other</td>\n",
              "      <td>Car</td>\n",
              "      <td>False</td>\n",
              "    </tr>\n",
              "  </tbody>\n",
              "</table>\n",
              "</div>\n",
              "    <div class=\"colab-df-buttons\">\n",
              "\n",
              "  <div class=\"colab-df-container\">\n",
              "    <button class=\"colab-df-convert\" onclick=\"convertToInteractive('df-872cbc7c-01b7-4535-a6c3-bc3e2ef059f9')\"\n",
              "            title=\"Convert this dataframe to an interactive table.\"\n",
              "            style=\"display:none;\">\n",
              "\n",
              "  <svg xmlns=\"http://www.w3.org/2000/svg\" height=\"24px\" viewBox=\"0 -960 960 960\">\n",
              "    <path d=\"M120-120v-720h720v720H120Zm60-500h600v-160H180v160Zm220 220h160v-160H400v160Zm0 220h160v-160H400v160ZM180-400h160v-160H180v160Zm440 0h160v-160H620v160ZM180-180h160v-160H180v160Zm440 0h160v-160H620v160Z\"/>\n",
              "  </svg>\n",
              "    </button>\n",
              "\n",
              "  <style>\n",
              "    .colab-df-container {\n",
              "      display:flex;\n",
              "      gap: 12px;\n",
              "    }\n",
              "\n",
              "    .colab-df-convert {\n",
              "      background-color: #E8F0FE;\n",
              "      border: none;\n",
              "      border-radius: 50%;\n",
              "      cursor: pointer;\n",
              "      display: none;\n",
              "      fill: #1967D2;\n",
              "      height: 32px;\n",
              "      padding: 0 0 0 0;\n",
              "      width: 32px;\n",
              "    }\n",
              "\n",
              "    .colab-df-convert:hover {\n",
              "      background-color: #E2EBFA;\n",
              "      box-shadow: 0px 1px 2px rgba(60, 64, 67, 0.3), 0px 1px 3px 1px rgba(60, 64, 67, 0.15);\n",
              "      fill: #174EA6;\n",
              "    }\n",
              "\n",
              "    .colab-df-buttons div {\n",
              "      margin-bottom: 4px;\n",
              "    }\n",
              "\n",
              "    [theme=dark] .colab-df-convert {\n",
              "      background-color: #3B4455;\n",
              "      fill: #D2E3FC;\n",
              "    }\n",
              "\n",
              "    [theme=dark] .colab-df-convert:hover {\n",
              "      background-color: #434B5C;\n",
              "      box-shadow: 0px 1px 3px 1px rgba(0, 0, 0, 0.15);\n",
              "      filter: drop-shadow(0px 1px 2px rgba(0, 0, 0, 0.3));\n",
              "      fill: #FFFFFF;\n",
              "    }\n",
              "  </style>\n",
              "\n",
              "    <script>\n",
              "      const buttonEl =\n",
              "        document.querySelector('#df-872cbc7c-01b7-4535-a6c3-bc3e2ef059f9 button.colab-df-convert');\n",
              "      buttonEl.style.display =\n",
              "        google.colab.kernel.accessAllowed ? 'block' : 'none';\n",
              "\n",
              "      async function convertToInteractive(key) {\n",
              "        const element = document.querySelector('#df-872cbc7c-01b7-4535-a6c3-bc3e2ef059f9');\n",
              "        const dataTable =\n",
              "          await google.colab.kernel.invokeFunction('convertToInteractive',\n",
              "                                                    [key], {});\n",
              "        if (!dataTable) return;\n",
              "\n",
              "        const docLinkHtml = 'Like what you see? Visit the ' +\n",
              "          '<a target=\"_blank\" href=https://colab.research.google.com/notebooks/data_table.ipynb>data table notebook</a>'\n",
              "          + ' to learn more about interactive tables.';\n",
              "        element.innerHTML = '';\n",
              "        dataTable['output_type'] = 'display_data';\n",
              "        await google.colab.output.renderOutput(dataTable, element);\n",
              "        const docLink = document.createElement('div');\n",
              "        docLink.innerHTML = docLinkHtml;\n",
              "        element.appendChild(docLink);\n",
              "      }\n",
              "    </script>\n",
              "  </div>\n",
              "\n",
              "\n",
              "<div id=\"df-47b45bf1-1214-43a9-98b3-49a22c00a040\">\n",
              "  <button class=\"colab-df-quickchart\" onclick=\"quickchart('df-47b45bf1-1214-43a9-98b3-49a22c00a040')\"\n",
              "            title=\"Suggest charts.\"\n",
              "            style=\"display:none;\">\n",
              "\n",
              "<svg xmlns=\"http://www.w3.org/2000/svg\" height=\"24px\"viewBox=\"0 0 24 24\"\n",
              "     width=\"24px\">\n",
              "    <g>\n",
              "        <path d=\"M19 3H5c-1.1 0-2 .9-2 2v14c0 1.1.9 2 2 2h14c1.1 0 2-.9 2-2V5c0-1.1-.9-2-2-2zM9 17H7v-7h2v7zm4 0h-2V7h2v10zm4 0h-2v-4h2v4z\"/>\n",
              "    </g>\n",
              "</svg>\n",
              "  </button>\n",
              "\n",
              "<style>\n",
              "  .colab-df-quickchart {\n",
              "    background-color: #E8F0FE;\n",
              "    border: none;\n",
              "    border-radius: 50%;\n",
              "    cursor: pointer;\n",
              "    display: none;\n",
              "    fill: #1967D2;\n",
              "    height: 32px;\n",
              "    padding: 0 0 0 0;\n",
              "    width: 32px;\n",
              "  }\n",
              "\n",
              "  .colab-df-quickchart:hover {\n",
              "    background-color: #E2EBFA;\n",
              "    box-shadow: 0px 1px 2px rgba(60, 64, 67, 0.3), 0px 1px 3px 1px rgba(60, 64, 67, 0.15);\n",
              "    fill: #174EA6;\n",
              "  }\n",
              "\n",
              "  [theme=dark] .colab-df-quickchart {\n",
              "    background-color: #3B4455;\n",
              "    fill: #D2E3FC;\n",
              "  }\n",
              "\n",
              "  [theme=dark] .colab-df-quickchart:hover {\n",
              "    background-color: #434B5C;\n",
              "    box-shadow: 0px 1px 3px 1px rgba(0, 0, 0, 0.15);\n",
              "    filter: drop-shadow(0px 1px 2px rgba(0, 0, 0, 0.3));\n",
              "    fill: #FFFFFF;\n",
              "  }\n",
              "</style>\n",
              "\n",
              "  <script>\n",
              "    async function quickchart(key) {\n",
              "      const charts = await google.colab.kernel.invokeFunction(\n",
              "          'suggestCharts', [key], {});\n",
              "    }\n",
              "    (() => {\n",
              "      let quickchartButtonEl =\n",
              "        document.querySelector('#df-47b45bf1-1214-43a9-98b3-49a22c00a040 button');\n",
              "      quickchartButtonEl.style.display =\n",
              "        google.colab.kernel.accessAllowed ? 'block' : 'none';\n",
              "    })();\n",
              "  </script>\n",
              "</div>\n",
              "    </div>\n",
              "  </div>\n"
            ]
          },
          "metadata": {},
          "execution_count": 14
        }
      ],
      "source": [
        "# Display the last 5 records\n",
        "# df.'<<__D__>>'()\n",
        "# tail function bydefault displays last 5 records since your ask was last 5 i'm not passing any specific no of records over tail function\n",
        "df.tail()  # we can pass required no of rows(rows count) to function as arguments\n",
        "\n",
        " #Todo: Code to fill\n",
        " # 1. '<<__A__>>'--> Appropriate pandas function to read the file\n",
        " # 2. '<<__B__>>'--> Appropriate path of the csv file\n",
        "df = pd.read_csv('./fatal-police-shootings-data.csv')\n",
        " # 3. '<<__C__>>'--> Check for top 5 records using appropriate function\n",
        "df.head()\n",
        " # 4. '<<__D__>>'--> Check for bottom 5 records using appropriate function\n",
        "df.tail()"
      ]
    },
    {
      "cell_type": "code",
      "execution_count": null,
      "id": "48154ad5",
      "metadata": {
        "id": "48154ad5",
        "outputId": "0bbbde22-660a-4a3a-a592-4b9b3ef39822",
        "colab": {
          "base_uri": "https://localhost:8080/"
        }
      },
      "outputs": [
        {
          "output_type": "stream",
          "name": "stdout",
          "text": [
            "No of columns:  14\n",
            "No of rows:  4478\n"
          ]
        },
        {
          "output_type": "execute_result",
          "data": {
            "text/plain": [
              "(4478, 14)"
            ]
          },
          "metadata": {},
          "execution_count": 17
        }
      ],
      "source": [
        "# Check the shape of the datset\n",
        "print(\"No of columns: \",df.shape[1])\n",
        "print(\"No of rows: \",df.shape[0])\n",
        "df.shape # expected output would be : (# of rows, # of columns)"
      ]
    },
    {
      "cell_type": "markdown",
      "id": "c7f89cd9",
      "metadata": {
        "id": "c7f89cd9"
      },
      "source": [
        "### Question: 3 (2 marks)\n",
        "Caluculate the statistical metrics of a column in a dataset"
      ]
    },
    {
      "cell_type": "code",
      "execution_count": null,
      "id": "de649f4b",
      "metadata": {
        "id": "de649f4b",
        "outputId": "009ef20b-68a1-4944-bff8-78bedc684d6d",
        "colab": {
          "base_uri": "https://localhost:8080/"
        }
      },
      "outputs": [
        {
          "output_type": "stream",
          "name": "stdout",
          "text": [
            "Standard Deviation for numeric columns:\n",
            "id     1404.978671\n",
            "age      13.067598\n",
            "dtype: float64\n"
          ]
        }
      ],
      "source": [
        "# Calculate the standard devaition\n",
        "\n",
        "# Select only numeric columns for standard deviation calculation\n",
        "numeric_columns = df.select_dtypes(include=['int64', 'float64'])\n",
        "std_deviation = numeric_columns.std()\n",
        "\n",
        "print(\"Standard Deviation for numeric columns:\")\n",
        "print(std_deviation)"
      ]
    },
    {
      "cell_type": "code",
      "execution_count": null,
      "id": "07c86fdb",
      "metadata": {
        "id": "07c86fdb",
        "outputId": "74f91d80-9b7e-48d2-b329-467b2d8f80fa",
        "colab": {
          "base_uri": "https://localhost:8080/"
        }
      },
      "outputs": [
        {
          "output_type": "stream",
          "name": "stdout",
          "text": [
            "Average Age of Victims: 36.87932234857276\n"
          ]
        }
      ],
      "source": [
        "# Average age of a victim\n",
        "\n",
        "# Calculate the average age\n",
        "average_age = df['age'].mean()\n",
        "\n",
        "print(\"Average Age of Victims:\", average_age)"
      ]
    },
    {
      "cell_type": "code",
      "execution_count": null,
      "id": "a080eb80",
      "metadata": {
        "id": "a080eb80",
        "colab": {
          "base_uri": "https://localhost:8080/"
        },
        "outputId": "a1bbc56c-f17c-47da-9af2-b6e5e498e2b1"
      },
      "outputs": [
        {
          "output_type": "stream",
          "name": "stdout",
          "text": [
            "City with the most Kill Events: Phoenix\n",
            "Number of Kill Events: 68\n"
          ]
        }
      ],
      "source": [
        "# Which city records the most Kill Events by police?\n",
        "\n",
        "\n",
        "# Group the data by 'city' and count the occurrences\n",
        "city_kill_events = df['city'].value_counts()\n",
        "\n",
        "# Find the city with the most Kill Events\n",
        "most_kill_events_city = city_kill_events.idxmax()\n",
        "max_kill_events = city_kill_events.max()\n",
        "\n",
        "print(\"City with the most Kill Events:\", most_kill_events_city)\n",
        "print(\"Number of Kill Events:\", max_kill_events)"
      ]
    },
    {
      "cell_type": "code",
      "source": [
        "# list of all cities # of deaths occured\n",
        "city_kill_events"
      ],
      "metadata": {
        "colab": {
          "base_uri": "https://localhost:8080/"
        },
        "id": "WjVSVsjX4Irh",
        "outputId": "1655aeb8-1667-441c-f5d4-901fbe548531"
      },
      "id": "WjVSVsjX4Irh",
      "execution_count": null,
      "outputs": [
        {
          "output_type": "execute_result",
          "data": {
            "text/plain": [
              "city\n",
              "Phoenix         68\n",
              "Los Angeles     68\n",
              "Houston         45\n",
              "Las Vegas       40\n",
              "San Antonio     36\n",
              "                ..\n",
              "Rome             1\n",
              "Counce           1\n",
              "Falls Church     1\n",
              "Tukwila          1\n",
              "Hanceville       1\n",
              "Name: count, Length: 2168, dtype: int64"
            ]
          },
          "metadata": {},
          "execution_count": 28
        }
      ]
    },
    {
      "cell_type": "markdown",
      "id": "dcb3e6a6",
      "metadata": {
        "id": "dcb3e6a6"
      },
      "source": [
        "### Question: 4 (2 marks)\n",
        "Create a new  \" age categories \" column using age column of a dataset"
      ]
    },
    {
      "cell_type": "code",
      "execution_count": null,
      "id": "5451fc22",
      "metadata": {
        "id": "5451fc22"
      },
      "outputs": [],
      "source": [
        "'''Hint: if age is between 0 to 12, then categorise as child.\n",
        "13-21 as Teenage, 22-34 as Youth, 35-50 as Adult, 51-120 as Senior citizens'''\n",
        "\n",
        "    #-------- build the code down --------#\n",
        "\n",
        "# Define a function to categorize age\n",
        "def categorize_age(age):\n",
        "    if age <= 12:\n",
        "        return 'Child'\n",
        "    elif 13 <= age <= 21:\n",
        "        return 'Teenage'\n",
        "    elif 22 <= age <= 34:\n",
        "        return 'Youth'\n",
        "    elif 35 <= age <= 50:\n",
        "        return 'Adult'\n",
        "    else:\n",
        "        return 'Senior citizens'\n"
      ]
    },
    {
      "cell_type": "code",
      "execution_count": null,
      "id": "9e05ee53",
      "metadata": {
        "id": "9e05ee53"
      },
      "outputs": [],
      "source": [
        "# df['age_categories'] =  age_cat\n",
        "\n",
        "# Apply the categorize_age function to create the 'age categories' column\n",
        "df['age_categories'] = df['age'].apply(categorize_age)"
      ]
    },
    {
      "cell_type": "code",
      "execution_count": null,
      "id": "e0aab666",
      "metadata": {
        "id": "e0aab666",
        "colab": {
          "base_uri": "https://localhost:8080/",
          "height": 310
        },
        "outputId": "708e36cb-f170-4fff-ec74-5dda01b6406c"
      },
      "outputs": [
        {
          "output_type": "execute_result",
          "data": {
            "text/plain": [
              "   id                name        date   manner_of_death       armed   age  \\\n",
              "0   3          Tim Elliot  2015-01-02              shot         gun  53.0   \n",
              "1   4    Lewis Lee Lembke  2015-01-02              shot         gun  47.0   \n",
              "2   5  John Paul Quintero  2015-01-03  shot and Tasered     unarmed  23.0   \n",
              "3   8     Matthew Hoffman  2015-01-04              shot  toy weapon  32.0   \n",
              "4   9   Michael Rodriguez  2015-01-04              shot    nail gun  39.0   \n",
              "\n",
              "  gender race           city state  signs_of_mental_illness threat_level  \\\n",
              "0      M    A        Shelton    WA                     True       attack   \n",
              "1      M    W          Aloha    OR                    False       attack   \n",
              "2      M    H        Wichita    KS                    False        other   \n",
              "3      M    W  San Francisco    CA                     True       attack   \n",
              "4      M    H          Evans    CO                    False       attack   \n",
              "\n",
              "          flee  body_camera   age categories   age_categories  \n",
              "0  Not fleeing        False  Senior citizens  Senior citizens  \n",
              "1  Not fleeing        False            Adult            Adult  \n",
              "2  Not fleeing        False            Youth            Youth  \n",
              "3  Not fleeing        False            Youth            Youth  \n",
              "4  Not fleeing        False            Adult            Adult  "
            ],
            "text/html": [
              "\n",
              "  <div id=\"df-7c40c354-b7f0-4147-a583-81eb32e51cb3\" class=\"colab-df-container\">\n",
              "    <div>\n",
              "<style scoped>\n",
              "    .dataframe tbody tr th:only-of-type {\n",
              "        vertical-align: middle;\n",
              "    }\n",
              "\n",
              "    .dataframe tbody tr th {\n",
              "        vertical-align: top;\n",
              "    }\n",
              "\n",
              "    .dataframe thead th {\n",
              "        text-align: right;\n",
              "    }\n",
              "</style>\n",
              "<table border=\"1\" class=\"dataframe\">\n",
              "  <thead>\n",
              "    <tr style=\"text-align: right;\">\n",
              "      <th></th>\n",
              "      <th>id</th>\n",
              "      <th>name</th>\n",
              "      <th>date</th>\n",
              "      <th>manner_of_death</th>\n",
              "      <th>armed</th>\n",
              "      <th>age</th>\n",
              "      <th>gender</th>\n",
              "      <th>race</th>\n",
              "      <th>city</th>\n",
              "      <th>state</th>\n",
              "      <th>signs_of_mental_illness</th>\n",
              "      <th>threat_level</th>\n",
              "      <th>flee</th>\n",
              "      <th>body_camera</th>\n",
              "      <th>age categories</th>\n",
              "      <th>age_categories</th>\n",
              "    </tr>\n",
              "  </thead>\n",
              "  <tbody>\n",
              "    <tr>\n",
              "      <th>0</th>\n",
              "      <td>3</td>\n",
              "      <td>Tim Elliot</td>\n",
              "      <td>2015-01-02</td>\n",
              "      <td>shot</td>\n",
              "      <td>gun</td>\n",
              "      <td>53.0</td>\n",
              "      <td>M</td>\n",
              "      <td>A</td>\n",
              "      <td>Shelton</td>\n",
              "      <td>WA</td>\n",
              "      <td>True</td>\n",
              "      <td>attack</td>\n",
              "      <td>Not fleeing</td>\n",
              "      <td>False</td>\n",
              "      <td>Senior citizens</td>\n",
              "      <td>Senior citizens</td>\n",
              "    </tr>\n",
              "    <tr>\n",
              "      <th>1</th>\n",
              "      <td>4</td>\n",
              "      <td>Lewis Lee Lembke</td>\n",
              "      <td>2015-01-02</td>\n",
              "      <td>shot</td>\n",
              "      <td>gun</td>\n",
              "      <td>47.0</td>\n",
              "      <td>M</td>\n",
              "      <td>W</td>\n",
              "      <td>Aloha</td>\n",
              "      <td>OR</td>\n",
              "      <td>False</td>\n",
              "      <td>attack</td>\n",
              "      <td>Not fleeing</td>\n",
              "      <td>False</td>\n",
              "      <td>Adult</td>\n",
              "      <td>Adult</td>\n",
              "    </tr>\n",
              "    <tr>\n",
              "      <th>2</th>\n",
              "      <td>5</td>\n",
              "      <td>John Paul Quintero</td>\n",
              "      <td>2015-01-03</td>\n",
              "      <td>shot and Tasered</td>\n",
              "      <td>unarmed</td>\n",
              "      <td>23.0</td>\n",
              "      <td>M</td>\n",
              "      <td>H</td>\n",
              "      <td>Wichita</td>\n",
              "      <td>KS</td>\n",
              "      <td>False</td>\n",
              "      <td>other</td>\n",
              "      <td>Not fleeing</td>\n",
              "      <td>False</td>\n",
              "      <td>Youth</td>\n",
              "      <td>Youth</td>\n",
              "    </tr>\n",
              "    <tr>\n",
              "      <th>3</th>\n",
              "      <td>8</td>\n",
              "      <td>Matthew Hoffman</td>\n",
              "      <td>2015-01-04</td>\n",
              "      <td>shot</td>\n",
              "      <td>toy weapon</td>\n",
              "      <td>32.0</td>\n",
              "      <td>M</td>\n",
              "      <td>W</td>\n",
              "      <td>San Francisco</td>\n",
              "      <td>CA</td>\n",
              "      <td>True</td>\n",
              "      <td>attack</td>\n",
              "      <td>Not fleeing</td>\n",
              "      <td>False</td>\n",
              "      <td>Youth</td>\n",
              "      <td>Youth</td>\n",
              "    </tr>\n",
              "    <tr>\n",
              "      <th>4</th>\n",
              "      <td>9</td>\n",
              "      <td>Michael Rodriguez</td>\n",
              "      <td>2015-01-04</td>\n",
              "      <td>shot</td>\n",
              "      <td>nail gun</td>\n",
              "      <td>39.0</td>\n",
              "      <td>M</td>\n",
              "      <td>H</td>\n",
              "      <td>Evans</td>\n",
              "      <td>CO</td>\n",
              "      <td>False</td>\n",
              "      <td>attack</td>\n",
              "      <td>Not fleeing</td>\n",
              "      <td>False</td>\n",
              "      <td>Adult</td>\n",
              "      <td>Adult</td>\n",
              "    </tr>\n",
              "  </tbody>\n",
              "</table>\n",
              "</div>\n",
              "    <div class=\"colab-df-buttons\">\n",
              "\n",
              "  <div class=\"colab-df-container\">\n",
              "    <button class=\"colab-df-convert\" onclick=\"convertToInteractive('df-7c40c354-b7f0-4147-a583-81eb32e51cb3')\"\n",
              "            title=\"Convert this dataframe to an interactive table.\"\n",
              "            style=\"display:none;\">\n",
              "\n",
              "  <svg xmlns=\"http://www.w3.org/2000/svg\" height=\"24px\" viewBox=\"0 -960 960 960\">\n",
              "    <path d=\"M120-120v-720h720v720H120Zm60-500h600v-160H180v160Zm220 220h160v-160H400v160Zm0 220h160v-160H400v160ZM180-400h160v-160H180v160Zm440 0h160v-160H620v160ZM180-180h160v-160H180v160Zm440 0h160v-160H620v160Z\"/>\n",
              "  </svg>\n",
              "    </button>\n",
              "\n",
              "  <style>\n",
              "    .colab-df-container {\n",
              "      display:flex;\n",
              "      gap: 12px;\n",
              "    }\n",
              "\n",
              "    .colab-df-convert {\n",
              "      background-color: #E8F0FE;\n",
              "      border: none;\n",
              "      border-radius: 50%;\n",
              "      cursor: pointer;\n",
              "      display: none;\n",
              "      fill: #1967D2;\n",
              "      height: 32px;\n",
              "      padding: 0 0 0 0;\n",
              "      width: 32px;\n",
              "    }\n",
              "\n",
              "    .colab-df-convert:hover {\n",
              "      background-color: #E2EBFA;\n",
              "      box-shadow: 0px 1px 2px rgba(60, 64, 67, 0.3), 0px 1px 3px 1px rgba(60, 64, 67, 0.15);\n",
              "      fill: #174EA6;\n",
              "    }\n",
              "\n",
              "    .colab-df-buttons div {\n",
              "      margin-bottom: 4px;\n",
              "    }\n",
              "\n",
              "    [theme=dark] .colab-df-convert {\n",
              "      background-color: #3B4455;\n",
              "      fill: #D2E3FC;\n",
              "    }\n",
              "\n",
              "    [theme=dark] .colab-df-convert:hover {\n",
              "      background-color: #434B5C;\n",
              "      box-shadow: 0px 1px 3px 1px rgba(0, 0, 0, 0.15);\n",
              "      filter: drop-shadow(0px 1px 2px rgba(0, 0, 0, 0.3));\n",
              "      fill: #FFFFFF;\n",
              "    }\n",
              "  </style>\n",
              "\n",
              "    <script>\n",
              "      const buttonEl =\n",
              "        document.querySelector('#df-7c40c354-b7f0-4147-a583-81eb32e51cb3 button.colab-df-convert');\n",
              "      buttonEl.style.display =\n",
              "        google.colab.kernel.accessAllowed ? 'block' : 'none';\n",
              "\n",
              "      async function convertToInteractive(key) {\n",
              "        const element = document.querySelector('#df-7c40c354-b7f0-4147-a583-81eb32e51cb3');\n",
              "        const dataTable =\n",
              "          await google.colab.kernel.invokeFunction('convertToInteractive',\n",
              "                                                    [key], {});\n",
              "        if (!dataTable) return;\n",
              "\n",
              "        const docLinkHtml = 'Like what you see? Visit the ' +\n",
              "          '<a target=\"_blank\" href=https://colab.research.google.com/notebooks/data_table.ipynb>data table notebook</a>'\n",
              "          + ' to learn more about interactive tables.';\n",
              "        element.innerHTML = '';\n",
              "        dataTable['output_type'] = 'display_data';\n",
              "        await google.colab.output.renderOutput(dataTable, element);\n",
              "        const docLink = document.createElement('div');\n",
              "        docLink.innerHTML = docLinkHtml;\n",
              "        element.appendChild(docLink);\n",
              "      }\n",
              "    </script>\n",
              "  </div>\n",
              "\n",
              "\n",
              "<div id=\"df-c3cb4e00-53dd-4414-90c8-c05e65d3efed\">\n",
              "  <button class=\"colab-df-quickchart\" onclick=\"quickchart('df-c3cb4e00-53dd-4414-90c8-c05e65d3efed')\"\n",
              "            title=\"Suggest charts.\"\n",
              "            style=\"display:none;\">\n",
              "\n",
              "<svg xmlns=\"http://www.w3.org/2000/svg\" height=\"24px\"viewBox=\"0 0 24 24\"\n",
              "     width=\"24px\">\n",
              "    <g>\n",
              "        <path d=\"M19 3H5c-1.1 0-2 .9-2 2v14c0 1.1.9 2 2 2h14c1.1 0 2-.9 2-2V5c0-1.1-.9-2-2-2zM9 17H7v-7h2v7zm4 0h-2V7h2v10zm4 0h-2v-4h2v4z\"/>\n",
              "    </g>\n",
              "</svg>\n",
              "  </button>\n",
              "\n",
              "<style>\n",
              "  .colab-df-quickchart {\n",
              "    background-color: #E8F0FE;\n",
              "    border: none;\n",
              "    border-radius: 50%;\n",
              "    cursor: pointer;\n",
              "    display: none;\n",
              "    fill: #1967D2;\n",
              "    height: 32px;\n",
              "    padding: 0 0 0 0;\n",
              "    width: 32px;\n",
              "  }\n",
              "\n",
              "  .colab-df-quickchart:hover {\n",
              "    background-color: #E2EBFA;\n",
              "    box-shadow: 0px 1px 2px rgba(60, 64, 67, 0.3), 0px 1px 3px 1px rgba(60, 64, 67, 0.15);\n",
              "    fill: #174EA6;\n",
              "  }\n",
              "\n",
              "  [theme=dark] .colab-df-quickchart {\n",
              "    background-color: #3B4455;\n",
              "    fill: #D2E3FC;\n",
              "  }\n",
              "\n",
              "  [theme=dark] .colab-df-quickchart:hover {\n",
              "    background-color: #434B5C;\n",
              "    box-shadow: 0px 1px 3px 1px rgba(0, 0, 0, 0.15);\n",
              "    filter: drop-shadow(0px 1px 2px rgba(0, 0, 0, 0.3));\n",
              "    fill: #FFFFFF;\n",
              "  }\n",
              "</style>\n",
              "\n",
              "  <script>\n",
              "    async function quickchart(key) {\n",
              "      const charts = await google.colab.kernel.invokeFunction(\n",
              "          'suggestCharts', [key], {});\n",
              "    }\n",
              "    (() => {\n",
              "      let quickchartButtonEl =\n",
              "        document.querySelector('#df-c3cb4e00-53dd-4414-90c8-c05e65d3efed button');\n",
              "      quickchartButtonEl.style.display =\n",
              "        google.colab.kernel.accessAllowed ? 'block' : 'none';\n",
              "    })();\n",
              "  </script>\n",
              "</div>\n",
              "    </div>\n",
              "  </div>\n"
            ]
          },
          "metadata": {},
          "execution_count": 32
        }
      ],
      "source": [
        "# Display the first 5 records after creating the column\n",
        "#  '<<__A__>>'\n",
        "df.head()\n",
        "\n",
        "#Todo: Code to fill\n",
        " # 1. Write code to build the conditions for the categories of age\n",
        " # 2. '<<__A__>>'--> method to display first 5 rows\n"
      ]
    },
    {
      "cell_type": "markdown",
      "id": "d8dc3ec7",
      "metadata": {
        "id": "d8dc3ec7"
      },
      "source": [
        "### Question: 5 (2 marks)\n",
        "Find the state which records the most kill events by police and display the type of attacks done on the male senior citizen of that state."
      ]
    },
    {
      "cell_type": "code",
      "execution_count": null,
      "id": "ce7d3ec3",
      "metadata": {
        "id": "ce7d3ec3",
        "outputId": "f37492f3-9597-4412-ad43-bcdaa8dff5f8",
        "colab": {
          "base_uri": "https://localhost:8080/"
        }
      },
      "outputs": [
        {
          "output_type": "stream",
          "name": "stdout",
          "text": [
            "State with the most Kill Events: CA\n"
          ]
        }
      ],
      "source": [
        "# Which State records the most Kill Events by police?\n",
        "\n",
        "# Group the data by 'state' and count the occurrences\n",
        "state_kill_events = df['state'].value_counts()\n",
        "\n",
        "# Find the state with the most Kill Events\n",
        "most_kill_events_state = state_kill_events.idxmax()\n",
        "\n",
        "print(\"State with the most Kill Events:\", most_kill_events_state)"
      ]
    },
    {
      "cell_type": "code",
      "execution_count": null,
      "id": "788c1b45",
      "metadata": {
        "id": "788c1b45",
        "colab": {
          "base_uri": "https://localhost:8080/"
        },
        "outputId": "39a9e418-edb2-4197-ad94-e065423cf168"
      },
      "outputs": [
        {
          "output_type": "execute_result",
          "data": {
            "text/plain": [
              "array(['gun', 'toy weapon', 'knife', 'undetermined', 'box cutter', nan,\n",
              "       'unknown weapon', 'pipe', 'unarmed', 'blunt object', 'pitchfork',\n",
              "       'metal pipe', 'ax', 'metal object', 'gun and knife', 'vehicle'],\n",
              "      dtype=object)"
            ]
          },
          "metadata": {},
          "execution_count": 38
        }
      ],
      "source": [
        "# What kinds of attacks (armed) are most affected by the male senior citizens in the state of 'CA'\n",
        "# df[(df['age_categories'] == '<<__A__>>') & (df['gender'] ==\"M\") &  '<<__B__>>']['armed'].'<<__C__>>'\n",
        "df[(df['age_categories'] == 'Senior citizens') & (df['gender'] ==\"M\") &  (df['state']=='CA')]['armed'].unique()\n",
        "\n",
        "#Todo: Code to fill\n",
        "\n",
        "# 1. '<<__A__>>'--> write proper age category\n",
        "# 2. '<<__B__>>'--> write state filter\n",
        "# 3. '<<__C__>>'--> write the appropriate command to show distinct attacks without repetitions\n"
      ]
    },
    {
      "cell_type": "code",
      "execution_count": null,
      "id": "ddc49249",
      "metadata": {
        "id": "ddc49249"
      },
      "outputs": [],
      "source": [
        "# Save the processed data to use for Week2 assignment\n",
        "df.to_csv(\"week_1_assignment_output.csv\",index=False)\n"
      ]
    },
    {
      "cell_type": "markdown",
      "id": "07d1746a",
      "metadata": {
        "id": "07d1746a"
      },
      "source": [
        "## Thank you!"
      ]
    }
  ],
  "metadata": {
    "colab": {
      "provenance": [],
      "include_colab_link": true
    },
    "kernelspec": {
      "display_name": "Python 3 (ipykernel)",
      "language": "python",
      "name": "python3"
    },
    "language_info": {
      "codemirror_mode": {
        "name": "ipython",
        "version": 3
      },
      "file_extension": ".py",
      "mimetype": "text/x-python",
      "name": "python",
      "nbconvert_exporter": "python",
      "pygments_lexer": "ipython3",
      "version": "3.9.7"
    }
  },
  "nbformat": 4,
  "nbformat_minor": 5
}