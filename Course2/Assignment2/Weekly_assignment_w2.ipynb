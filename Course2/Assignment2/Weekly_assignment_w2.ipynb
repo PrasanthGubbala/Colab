{
  "cells": [
    {
      "cell_type": "markdown",
      "metadata": {
        "id": "view-in-github",
        "colab_type": "text"
      },
      "source": [
        "<a href=\"https://colab.research.google.com/github/PrasanthGubbala/MS-in-Information-Science-Machine-Learning/blob/dev/Course2/Assignment2/Weekly_assignment_w2.ipynb\" target=\"_parent\"><img src=\"https://colab.research.google.com/assets/colab-badge.svg\" alt=\"Open In Colab\"/></a>"
      ]
    },
    {
      "cell_type": "markdown",
      "id": "c99bc0f4",
      "metadata": {
        "id": "c99bc0f4"
      },
      "source": [
        "# Week:2 Know your data"
      ]
    },
    {
      "cell_type": "markdown",
      "id": "17614dd2",
      "metadata": {
        "id": "17614dd2"
      },
      "source": [
        "### Objective:\n",
        "The objective of the assignment is to perform statistical analysis on a given data using python libraries and exploratory data analysis using data visualization techniques.\n",
        "\n",
        "We have to use Fatal Police Shooting Data to answer the questions given in this notebook."
      ]
    },
    {
      "cell_type": "markdown",
      "id": "94579906",
      "metadata": {
        "id": "94579906"
      },
      "source": [
        "### Fatal Police Shooting Data"
      ]
    },
    {
      "cell_type": "markdown",
      "id": "4fbb8326",
      "metadata": {
        "id": "4fbb8326"
      },
      "source": [
        "**About dataset**\\\n",
        "The dataset consists of following columns\n",
        "1. **id**                         : unqiue identifier of each victim\n",
        "2. **name**                       : name of a victim\n",
        "3. **date**                       : date on fatal shooting\n",
        "4. **manner_of_death**            : manner of death classification\n",
        "    * Shot\n",
        "    * Shot and Tasered\n",
        "5. **armed**                      : indicates that the victim was armed with some sort of implement that a police officer believed could inflict harm\n",
        "    * undetermined: it is not known whether or not the victim had a weapon\n",
        "    * unknown: the victim was armed, but it is not known what the object was\n",
        "    * unarmed: the victim was not armed\n",
        "6. **age**                        : age of victim\n",
        "7. **gender**                     : the gender of the victim. The Post identifies victims by the gender they identify with if reports indicate that it differs from their biological sex.\n",
        "    * M: Male\n",
        "    * F: Female\n",
        "    * None: Unknown\n",
        "8. **race**                       : race of victim\n",
        "    * W: White, non-Hispanic\n",
        "    * B: Black, non-Hispanic\n",
        "    * A: Asian\n",
        "    * N: Native American\n",
        "    * H: Hispanic\n",
        "    * O: Other\n",
        "    * None: unknown\n",
        "9. **city**                       : the municipality where the fatal shooting took place. Note that in some cases this field may contain a county name if a more specific municipality is unavailable or unknown.\n",
        "10. **state**                     : two-letter postal code abbreviation\n",
        "11. **signs_of_mental_illness**   : News reports have indicated the victim had a history of mental health issues, expressed suicidal intentions or was experiencing mental distress at the time of the shooting.\n",
        "12. **threat_level**              : These would include incidents where officers or others were shot at, threatened with a gun, attacked with other weapons or physical force, etc. The attack category is meant to flag the highest level of threat. The other and undetermined categories represent all remaining cases. Other includes many incidents where officers or others faced significant threats.\n",
        "13. **flee**                      : News reports have indicated the victim was moving away from officers\n",
        "    * Foot\n",
        "    * Car\n",
        "    * Not fleeing\n",
        "14. **body_camera**               : News reports have indicated an officer was wearing a body camera and it may have recorded some portion of the incident."
      ]
    },
    {
      "cell_type": "markdown",
      "id": "e14398de",
      "metadata": {
        "id": "e14398de"
      },
      "source": [
        "## Let's Begin"
      ]
    },
    {
      "cell_type": "code",
      "execution_count": null,
      "id": "bbffb6a9",
      "metadata": {
        "id": "bbffb6a9"
      },
      "outputs": [],
      "source": [
        "# Install the libraries\n",
        "import pandas as pd\n",
        "import numpy as np\n",
        "import matplotlib.pyplot as plt\n",
        "import seaborn as sns\n",
        "%matplotlib inline"
      ]
    },
    {
      "cell_type": "code",
      "execution_count": null,
      "id": "336383ca",
      "metadata": {
        "id": "336383ca",
        "outputId": "3218a7b8-9b0d-4542-d965-eb314b76ef27"
      },
      "outputs": [
        {
          "data": {
            "text/html": [
              "<div>\n",
              "<style scoped>\n",
              "    .dataframe tbody tr th:only-of-type {\n",
              "        vertical-align: middle;\n",
              "    }\n",
              "\n",
              "    .dataframe tbody tr th {\n",
              "        vertical-align: top;\n",
              "    }\n",
              "\n",
              "    .dataframe thead th {\n",
              "        text-align: right;\n",
              "    }\n",
              "</style>\n",
              "<table border=\"1\" class=\"dataframe\">\n",
              "  <thead>\n",
              "    <tr style=\"text-align: right;\">\n",
              "      <th></th>\n",
              "      <th>id</th>\n",
              "      <th>name</th>\n",
              "      <th>date</th>\n",
              "      <th>manner_of_death</th>\n",
              "      <th>armed</th>\n",
              "      <th>age</th>\n",
              "      <th>gender</th>\n",
              "      <th>race</th>\n",
              "      <th>city</th>\n",
              "      <th>state</th>\n",
              "      <th>signs_of_mental_illness</th>\n",
              "      <th>threat_level</th>\n",
              "      <th>flee</th>\n",
              "      <th>body_camera</th>\n",
              "      <th>age categories</th>\n",
              "      <th>age_categories</th>\n",
              "    </tr>\n",
              "  </thead>\n",
              "  <tbody>\n",
              "    <tr>\n",
              "      <th>0</th>\n",
              "      <td>3</td>\n",
              "      <td>Tim Elliot</td>\n",
              "      <td>2015-01-02</td>\n",
              "      <td>shot</td>\n",
              "      <td>gun</td>\n",
              "      <td>53.0</td>\n",
              "      <td>M</td>\n",
              "      <td>A</td>\n",
              "      <td>Shelton</td>\n",
              "      <td>WA</td>\n",
              "      <td>True</td>\n",
              "      <td>attack</td>\n",
              "      <td>Not fleeing</td>\n",
              "      <td>False</td>\n",
              "      <td>Senior citizens</td>\n",
              "      <td>Senior citizens</td>\n",
              "    </tr>\n",
              "    <tr>\n",
              "      <th>1</th>\n",
              "      <td>4</td>\n",
              "      <td>Lewis Lee Lembke</td>\n",
              "      <td>2015-01-02</td>\n",
              "      <td>shot</td>\n",
              "      <td>gun</td>\n",
              "      <td>47.0</td>\n",
              "      <td>M</td>\n",
              "      <td>W</td>\n",
              "      <td>Aloha</td>\n",
              "      <td>OR</td>\n",
              "      <td>False</td>\n",
              "      <td>attack</td>\n",
              "      <td>Not fleeing</td>\n",
              "      <td>False</td>\n",
              "      <td>Adult</td>\n",
              "      <td>Adult</td>\n",
              "    </tr>\n",
              "    <tr>\n",
              "      <th>2</th>\n",
              "      <td>5</td>\n",
              "      <td>John Paul Quintero</td>\n",
              "      <td>2015-01-03</td>\n",
              "      <td>shot and Tasered</td>\n",
              "      <td>unarmed</td>\n",
              "      <td>23.0</td>\n",
              "      <td>M</td>\n",
              "      <td>H</td>\n",
              "      <td>Wichita</td>\n",
              "      <td>KS</td>\n",
              "      <td>False</td>\n",
              "      <td>other</td>\n",
              "      <td>Not fleeing</td>\n",
              "      <td>False</td>\n",
              "      <td>Youth</td>\n",
              "      <td>Youth</td>\n",
              "    </tr>\n",
              "    <tr>\n",
              "      <th>3</th>\n",
              "      <td>8</td>\n",
              "      <td>Matthew Hoffman</td>\n",
              "      <td>2015-01-04</td>\n",
              "      <td>shot</td>\n",
              "      <td>toy weapon</td>\n",
              "      <td>32.0</td>\n",
              "      <td>M</td>\n",
              "      <td>W</td>\n",
              "      <td>San Francisco</td>\n",
              "      <td>CA</td>\n",
              "      <td>True</td>\n",
              "      <td>attack</td>\n",
              "      <td>Not fleeing</td>\n",
              "      <td>False</td>\n",
              "      <td>Youth</td>\n",
              "      <td>Youth</td>\n",
              "    </tr>\n",
              "    <tr>\n",
              "      <th>4</th>\n",
              "      <td>9</td>\n",
              "      <td>Michael Rodriguez</td>\n",
              "      <td>2015-01-04</td>\n",
              "      <td>shot</td>\n",
              "      <td>nail gun</td>\n",
              "      <td>39.0</td>\n",
              "      <td>M</td>\n",
              "      <td>H</td>\n",
              "      <td>Evans</td>\n",
              "      <td>CO</td>\n",
              "      <td>False</td>\n",
              "      <td>attack</td>\n",
              "      <td>Not fleeing</td>\n",
              "      <td>False</td>\n",
              "      <td>Adult</td>\n",
              "      <td>Adult</td>\n",
              "    </tr>\n",
              "  </tbody>\n",
              "</table>\n",
              "</div>"
            ],
            "text/plain": [
              "   id                name        date   manner_of_death       armed   age  \\\n",
              "0   3          Tim Elliot  2015-01-02              shot         gun  53.0   \n",
              "1   4    Lewis Lee Lembke  2015-01-02              shot         gun  47.0   \n",
              "2   5  John Paul Quintero  2015-01-03  shot and Tasered     unarmed  23.0   \n",
              "3   8     Matthew Hoffman  2015-01-04              shot  toy weapon  32.0   \n",
              "4   9   Michael Rodriguez  2015-01-04              shot    nail gun  39.0   \n",
              "\n",
              "  gender race           city state  signs_of_mental_illness threat_level  \\\n",
              "0      M    A        Shelton    WA                     True       attack   \n",
              "1      M    W          Aloha    OR                    False       attack   \n",
              "2      M    H        Wichita    KS                    False        other   \n",
              "3      M    W  San Francisco    CA                     True       attack   \n",
              "4      M    H          Evans    CO                    False       attack   \n",
              "\n",
              "          flee  body_camera   age categories   age_categories  \n",
              "0  Not fleeing        False  Senior citizens  Senior citizens  \n",
              "1  Not fleeing        False            Adult            Adult  \n",
              "2  Not fleeing        False            Youth            Youth  \n",
              "3  Not fleeing        False            Youth            Youth  \n",
              "4  Not fleeing        False            Adult            Adult  "
            ]
          },
          "execution_count": 57,
          "metadata": {},
          "output_type": "execute_result"
        }
      ],
      "source": [
        "# Load the dataframe\n",
        "file_path = r\"C:\\Users\\3661481\\OneDrive - Lowe's Companies Inc\\Documents\\MS in Information Science & Machine Learning\\Course2 Data Mining and Discovery\\Weekly Assessment - 2\"\n",
        "file = \"week_1_assignment_output.csv\"\n",
        "# print(file_path+'\\\\'+file)\n",
        "# df = pd.read_csv('<<__A__>>')\n",
        "df = pd.read_csv(file_path+'\\\\'+file)\n",
        "df.head()\n",
        "\n",
        "# TODO: Code to fill:\n",
        "# 1. '<<__A__>>' --> Path of the csv file"
      ]
    },
    {
      "cell_type": "code",
      "execution_count": null,
      "id": "58d0ee48",
      "metadata": {
        "id": "58d0ee48",
        "outputId": "6e8e7786-e647-43f0-f65f-9a2313f03daf"
      },
      "outputs": [
        {
          "data": {
            "text/plain": [
              "(4478, 16)"
            ]
          },
          "execution_count": 58,
          "metadata": {},
          "output_type": "execute_result"
        }
      ],
      "source": [
        "df.shape"
      ]
    },
    {
      "cell_type": "code",
      "execution_count": null,
      "id": "c3b4723f",
      "metadata": {
        "id": "c3b4723f"
      },
      "outputs": [],
      "source": [
        "# since I was maintaned replica of age categories column now i am dropping one of two\n",
        "df.drop('age categories', axis=1, inplace=True)"
      ]
    },
    {
      "cell_type": "code",
      "execution_count": null,
      "id": "f7c7f28b",
      "metadata": {
        "id": "f7c7f28b",
        "outputId": "04740c1f-5bfa-4d48-8658-c67e476c07eb"
      },
      "outputs": [
        {
          "data": {
            "text/plain": [
              "(4478, 15)"
            ]
          },
          "execution_count": 60,
          "metadata": {},
          "output_type": "execute_result"
        }
      ],
      "source": [
        "# Check the shape of the dataset\n",
        "df.shape"
      ]
    },
    {
      "cell_type": "markdown",
      "id": "8340d0e8",
      "metadata": {
        "id": "8340d0e8"
      },
      "source": [
        "### Question: 1 (2 Marks)\n",
        "\n",
        "Display the count of missing values in each column of a dataset"
      ]
    },
    {
      "cell_type": "code",
      "execution_count": null,
      "id": "4c6deb73",
      "metadata": {
        "id": "4c6deb73",
        "outputId": "72afeedd-e9a4-49b5-e1c0-fcfdef88667d"
      },
      "outputs": [
        {
          "data": {
            "text/plain": [
              "id                           0\n",
              "name                         0\n",
              "date                         0\n",
              "manner_of_death              0\n",
              "armed                      248\n",
              "age                        169\n",
              "gender                       5\n",
              "race                       373\n",
              "city                         0\n",
              "state                        0\n",
              "signs_of_mental_illness      0\n",
              "threat_level                 0\n",
              "flee                       179\n",
              "body_camera                  0\n",
              "age_categories               0\n",
              "dtype: int64"
            ]
          },
          "execution_count": 61,
          "metadata": {},
          "output_type": "execute_result"
        }
      ],
      "source": [
        "# df.'<<__A__>>'\n",
        "df.isna().sum()\n",
        "\n",
        "# TODO: Code to fill:\n",
        "# 1. '<<__A__>>' --> Use correct method from pandas library to check for number of missing values\n"
      ]
    },
    {
      "cell_type": "markdown",
      "id": "a4efbe66",
      "metadata": {
        "id": "a4efbe66"
      },
      "source": [
        "### Question: 2 (2 Marks)\n",
        "Display the outliers present in the age column using IQR method"
      ]
    },
    {
      "cell_type": "code",
      "execution_count": null,
      "id": "a6d96152",
      "metadata": {
        "id": "a6d96152"
      },
      "outputs": [],
      "source": [
        "# Quantile 1 of age column (25 percentage)\n",
        "Q1 = df['age'].quantile(0.25)\n",
        "# Quantile 3 of age column (75 percentage)\n",
        "Q3 =  df['age'].quantile(0.75)"
      ]
    },
    {
      "cell_type": "code",
      "execution_count": null,
      "id": "c25e9091",
      "metadata": {
        "id": "c25e9091",
        "outputId": "97148015-0195-40dd-bdf0-85f62dd510a9"
      },
      "outputs": [
        {
          "data": {
            "text/plain": [
              "18.0"
            ]
          },
          "execution_count": 63,
          "metadata": {},
          "output_type": "execute_result"
        }
      ],
      "source": [
        "# Inter Quartile Range\n",
        "IQR = Q3 - Q1\n",
        "IQR"
      ]
    },
    {
      "cell_type": "code",
      "execution_count": null,
      "id": "3cd435d2",
      "metadata": {
        "id": "3cd435d2",
        "outputId": "56c9d177-baa1-47a1-8a2f-5f7cda72e1ed"
      },
      "outputs": [
        {
          "name": "stdout",
          "output_type": "stream",
          "text": [
            "72.0\n",
            "0.0\n"
          ]
        }
      ],
      "source": [
        "# Outliers present in upper case\n",
        "upper_case = Q3 + (1.5*IQR)\n",
        "print(upper_case)\n",
        "# Outliers present in lower case\n",
        "lower_case = Q1 - (1.5*IQR)\n",
        "print(lower_case)"
      ]
    },
    {
      "cell_type": "code",
      "execution_count": null,
      "id": "ihPsqm9iWw88",
      "metadata": {
        "id": "ihPsqm9iWw88"
      },
      "outputs": [],
      "source": [
        "# Loop through the each data record in the age column and append a data to the outliers list variable\n",
        "outliers = []\n",
        "for i in df['age']:\n",
        "    if (i < lower_case) or (i > upper_case):  # if any data point in the age column less than lower case or any data point greater than upper case will be an outlier\n",
        "        outliers.append(i)\n",
        "\n",
        "# TODO: Code to fill:\n",
        "\n",
        "# 1. '<<__A__>>' --> column name\n",
        "# 2. '<<__B__>>' --> Apply the condition"
      ]
    },
    {
      "cell_type": "code",
      "execution_count": null,
      "id": "MF5leAr0JqlX",
      "metadata": {
        "id": "MF5leAr0JqlX",
        "outputId": "f528edd3-01a8-497a-badc-37594abfce24"
      },
      "outputs": [
        {
          "name": "stdout",
          "output_type": "stream",
          "text": [
            "[75.0, 74.0, 77.0, 83.0, 76.0, 86.0, 76.0, 77.0, 76.0, 76.0, 80.0, 82.0, 86.0, 76.0, 83.0, 73.0, 91.0, 73.0, 79.0, 74.0, 75.0, 82.0, 76.0, 78.0, 84.0, 84.0, 81.0, 89.0, 73.0, 77.0, 76.0, 84.0, 81.0, 80.0, 77.0, 76.0, 74.0, 76.0, 73.0]\n",
            "\n",
            "total no of outliers are in the set:  39\n"
          ]
        }
      ],
      "source": [
        "# print outliers\n",
        "print(outliers)\n",
        "print('\\ntotal no of outliers are in the set: ', len(outliers))"
      ]
    },
    {
      "cell_type": "markdown",
      "id": "195e585a",
      "metadata": {
        "id": "195e585a"
      },
      "source": [
        "### Question: 3 (2 Marks)\n",
        "Group the year, gender, age categories to check how many victims were harmed"
      ]
    },
    {
      "cell_type": "code",
      "execution_count": null,
      "id": "5c295817",
      "metadata": {
        "id": "5c295817"
      },
      "outputs": [],
      "source": [
        "# Create a new column by extracting year from the date column\n",
        "df['year'] = pd.to_datetime(df['date']).dt.year"
      ]
    },
    {
      "cell_type": "code",
      "execution_count": null,
      "id": "fb42388f",
      "metadata": {
        "id": "fb42388f",
        "outputId": "a33dfd9e-4c3e-4c08-b79e-5ea7a391eda0"
      },
      "outputs": [
        {
          "data": {
            "text/html": [
              "<div>\n",
              "<style scoped>\n",
              "    .dataframe tbody tr th:only-of-type {\n",
              "        vertical-align: middle;\n",
              "    }\n",
              "\n",
              "    .dataframe tbody tr th {\n",
              "        vertical-align: top;\n",
              "    }\n",
              "\n",
              "    .dataframe thead th {\n",
              "        text-align: right;\n",
              "    }\n",
              "</style>\n",
              "<table border=\"1\" class=\"dataframe\">\n",
              "  <thead>\n",
              "    <tr style=\"text-align: right;\">\n",
              "      <th></th>\n",
              "      <th>year</th>\n",
              "      <th>gender</th>\n",
              "      <th>age_categories</th>\n",
              "      <th>id</th>\n",
              "    </tr>\n",
              "  </thead>\n",
              "  <tbody>\n",
              "    <tr>\n",
              "      <th>0</th>\n",
              "      <td>2015</td>\n",
              "      <td>F</td>\n",
              "      <td>Adult</td>\n",
              "      <td>18</td>\n",
              "    </tr>\n",
              "    <tr>\n",
              "      <th>1</th>\n",
              "      <td>2015</td>\n",
              "      <td>F</td>\n",
              "      <td>Senior citizens</td>\n",
              "      <td>6</td>\n",
              "    </tr>\n",
              "    <tr>\n",
              "      <th>2</th>\n",
              "      <td>2015</td>\n",
              "      <td>F</td>\n",
              "      <td>Teenage</td>\n",
              "      <td>5</td>\n",
              "    </tr>\n",
              "    <tr>\n",
              "      <th>3</th>\n",
              "      <td>2015</td>\n",
              "      <td>F</td>\n",
              "      <td>Youth</td>\n",
              "      <td>13</td>\n",
              "    </tr>\n",
              "    <tr>\n",
              "      <th>4</th>\n",
              "      <td>2015</td>\n",
              "      <td>M</td>\n",
              "      <td>Adult</td>\n",
              "      <td>309</td>\n",
              "    </tr>\n",
              "    <tr>\n",
              "      <th>5</th>\n",
              "      <td>2015</td>\n",
              "      <td>M</td>\n",
              "      <td>Child</td>\n",
              "      <td>1</td>\n",
              "    </tr>\n",
              "    <tr>\n",
              "      <th>6</th>\n",
              "      <td>2015</td>\n",
              "      <td>M</td>\n",
              "      <td>Senior citizens</td>\n",
              "      <td>166</td>\n",
              "    </tr>\n",
              "    <tr>\n",
              "      <th>7</th>\n",
              "      <td>2015</td>\n",
              "      <td>M</td>\n",
              "      <td>Teenage</td>\n",
              "      <td>89</td>\n",
              "    </tr>\n",
              "    <tr>\n",
              "      <th>8</th>\n",
              "      <td>2015</td>\n",
              "      <td>M</td>\n",
              "      <td>Youth</td>\n",
              "      <td>387</td>\n",
              "    </tr>\n",
              "    <tr>\n",
              "      <th>9</th>\n",
              "      <td>2016</td>\n",
              "      <td>F</td>\n",
              "      <td>Adult</td>\n",
              "      <td>15</td>\n",
              "    </tr>\n",
              "    <tr>\n",
              "      <th>10</th>\n",
              "      <td>2016</td>\n",
              "      <td>F</td>\n",
              "      <td>Child</td>\n",
              "      <td>1</td>\n",
              "    </tr>\n",
              "    <tr>\n",
              "      <th>11</th>\n",
              "      <td>2016</td>\n",
              "      <td>F</td>\n",
              "      <td>Senior citizens</td>\n",
              "      <td>7</td>\n",
              "    </tr>\n",
              "    <tr>\n",
              "      <th>12</th>\n",
              "      <td>2016</td>\n",
              "      <td>F</td>\n",
              "      <td>Youth</td>\n",
              "      <td>17</td>\n",
              "    </tr>\n",
              "    <tr>\n",
              "      <th>13</th>\n",
              "      <td>2016</td>\n",
              "      <td>M</td>\n",
              "      <td>Adult</td>\n",
              "      <td>304</td>\n",
              "    </tr>\n",
              "    <tr>\n",
              "      <th>14</th>\n",
              "      <td>2016</td>\n",
              "      <td>M</td>\n",
              "      <td>Senior citizens</td>\n",
              "      <td>170</td>\n",
              "    </tr>\n",
              "    <tr>\n",
              "      <th>15</th>\n",
              "      <td>2016</td>\n",
              "      <td>M</td>\n",
              "      <td>Teenage</td>\n",
              "      <td>84</td>\n",
              "    </tr>\n",
              "    <tr>\n",
              "      <th>16</th>\n",
              "      <td>2016</td>\n",
              "      <td>M</td>\n",
              "      <td>Youth</td>\n",
              "      <td>364</td>\n",
              "    </tr>\n",
              "    <tr>\n",
              "      <th>17</th>\n",
              "      <td>2017</td>\n",
              "      <td>F</td>\n",
              "      <td>Adult</td>\n",
              "      <td>12</td>\n",
              "    </tr>\n",
              "    <tr>\n",
              "      <th>18</th>\n",
              "      <td>2017</td>\n",
              "      <td>F</td>\n",
              "      <td>Senior citizens</td>\n",
              "      <td>8</td>\n",
              "    </tr>\n",
              "    <tr>\n",
              "      <th>19</th>\n",
              "      <td>2017</td>\n",
              "      <td>F</td>\n",
              "      <td>Teenage</td>\n",
              "      <td>5</td>\n",
              "    </tr>\n",
              "    <tr>\n",
              "      <th>20</th>\n",
              "      <td>2017</td>\n",
              "      <td>F</td>\n",
              "      <td>Youth</td>\n",
              "      <td>20</td>\n",
              "    </tr>\n",
              "    <tr>\n",
              "      <th>21</th>\n",
              "      <td>2017</td>\n",
              "      <td>M</td>\n",
              "      <td>Adult</td>\n",
              "      <td>297</td>\n",
              "    </tr>\n",
              "    <tr>\n",
              "      <th>22</th>\n",
              "      <td>2017</td>\n",
              "      <td>M</td>\n",
              "      <td>Child</td>\n",
              "      <td>1</td>\n",
              "    </tr>\n",
              "    <tr>\n",
              "      <th>23</th>\n",
              "      <td>2017</td>\n",
              "      <td>M</td>\n",
              "      <td>Senior citizens</td>\n",
              "      <td>179</td>\n",
              "    </tr>\n",
              "    <tr>\n",
              "      <th>24</th>\n",
              "      <td>2017</td>\n",
              "      <td>M</td>\n",
              "      <td>Teenage</td>\n",
              "      <td>79</td>\n",
              "    </tr>\n",
              "    <tr>\n",
              "      <th>25</th>\n",
              "      <td>2017</td>\n",
              "      <td>M</td>\n",
              "      <td>Youth</td>\n",
              "      <td>383</td>\n",
              "    </tr>\n",
              "    <tr>\n",
              "      <th>26</th>\n",
              "      <td>2018</td>\n",
              "      <td>F</td>\n",
              "      <td>Adult</td>\n",
              "      <td>19</td>\n",
              "    </tr>\n",
              "    <tr>\n",
              "      <th>27</th>\n",
              "      <td>2018</td>\n",
              "      <td>F</td>\n",
              "      <td>Senior citizens</td>\n",
              "      <td>11</td>\n",
              "    </tr>\n",
              "    <tr>\n",
              "      <th>28</th>\n",
              "      <td>2018</td>\n",
              "      <td>F</td>\n",
              "      <td>Teenage</td>\n",
              "      <td>3</td>\n",
              "    </tr>\n",
              "    <tr>\n",
              "      <th>29</th>\n",
              "      <td>2018</td>\n",
              "      <td>F</td>\n",
              "      <td>Youth</td>\n",
              "      <td>19</td>\n",
              "    </tr>\n",
              "    <tr>\n",
              "      <th>30</th>\n",
              "      <td>2018</td>\n",
              "      <td>M</td>\n",
              "      <td>Adult</td>\n",
              "      <td>314</td>\n",
              "    </tr>\n",
              "    <tr>\n",
              "      <th>31</th>\n",
              "      <td>2018</td>\n",
              "      <td>M</td>\n",
              "      <td>Senior citizens</td>\n",
              "      <td>207</td>\n",
              "    </tr>\n",
              "    <tr>\n",
              "      <th>32</th>\n",
              "      <td>2018</td>\n",
              "      <td>M</td>\n",
              "      <td>Teenage</td>\n",
              "      <td>85</td>\n",
              "    </tr>\n",
              "    <tr>\n",
              "      <th>33</th>\n",
              "      <td>2018</td>\n",
              "      <td>M</td>\n",
              "      <td>Youth</td>\n",
              "      <td>333</td>\n",
              "    </tr>\n",
              "    <tr>\n",
              "      <th>34</th>\n",
              "      <td>2019</td>\n",
              "      <td>F</td>\n",
              "      <td>Adult</td>\n",
              "      <td>8</td>\n",
              "    </tr>\n",
              "    <tr>\n",
              "      <th>35</th>\n",
              "      <td>2019</td>\n",
              "      <td>F</td>\n",
              "      <td>Senior citizens</td>\n",
              "      <td>6</td>\n",
              "    </tr>\n",
              "    <tr>\n",
              "      <th>36</th>\n",
              "      <td>2019</td>\n",
              "      <td>F</td>\n",
              "      <td>Teenage</td>\n",
              "      <td>4</td>\n",
              "    </tr>\n",
              "    <tr>\n",
              "      <th>37</th>\n",
              "      <td>2019</td>\n",
              "      <td>F</td>\n",
              "      <td>Youth</td>\n",
              "      <td>11</td>\n",
              "    </tr>\n",
              "    <tr>\n",
              "      <th>38</th>\n",
              "      <td>2019</td>\n",
              "      <td>M</td>\n",
              "      <td>Adult</td>\n",
              "      <td>169</td>\n",
              "    </tr>\n",
              "    <tr>\n",
              "      <th>39</th>\n",
              "      <td>2019</td>\n",
              "      <td>M</td>\n",
              "      <td>Senior citizens</td>\n",
              "      <td>107</td>\n",
              "    </tr>\n",
              "    <tr>\n",
              "      <th>40</th>\n",
              "      <td>2019</td>\n",
              "      <td>M</td>\n",
              "      <td>Teenage</td>\n",
              "      <td>49</td>\n",
              "    </tr>\n",
              "    <tr>\n",
              "      <th>41</th>\n",
              "      <td>2019</td>\n",
              "      <td>M</td>\n",
              "      <td>Youth</td>\n",
              "      <td>188</td>\n",
              "    </tr>\n",
              "  </tbody>\n",
              "</table>\n",
              "</div>"
            ],
            "text/plain": [
              "    year gender   age_categories   id\n",
              "0   2015      F            Adult   18\n",
              "1   2015      F  Senior citizens    6\n",
              "2   2015      F          Teenage    5\n",
              "3   2015      F            Youth   13\n",
              "4   2015      M            Adult  309\n",
              "5   2015      M            Child    1\n",
              "6   2015      M  Senior citizens  166\n",
              "7   2015      M          Teenage   89\n",
              "8   2015      M            Youth  387\n",
              "9   2016      F            Adult   15\n",
              "10  2016      F            Child    1\n",
              "11  2016      F  Senior citizens    7\n",
              "12  2016      F            Youth   17\n",
              "13  2016      M            Adult  304\n",
              "14  2016      M  Senior citizens  170\n",
              "15  2016      M          Teenage   84\n",
              "16  2016      M            Youth  364\n",
              "17  2017      F            Adult   12\n",
              "18  2017      F  Senior citizens    8\n",
              "19  2017      F          Teenage    5\n",
              "20  2017      F            Youth   20\n",
              "21  2017      M            Adult  297\n",
              "22  2017      M            Child    1\n",
              "23  2017      M  Senior citizens  179\n",
              "24  2017      M          Teenage   79\n",
              "25  2017      M            Youth  383\n",
              "26  2018      F            Adult   19\n",
              "27  2018      F  Senior citizens   11\n",
              "28  2018      F          Teenage    3\n",
              "29  2018      F            Youth   19\n",
              "30  2018      M            Adult  314\n",
              "31  2018      M  Senior citizens  207\n",
              "32  2018      M          Teenage   85\n",
              "33  2018      M            Youth  333\n",
              "34  2019      F            Adult    8\n",
              "35  2019      F  Senior citizens    6\n",
              "36  2019      F          Teenage    4\n",
              "37  2019      F            Youth   11\n",
              "38  2019      M            Adult  169\n",
              "39  2019      M  Senior citizens  107\n",
              "40  2019      M          Teenage   49\n",
              "41  2019      M            Youth  188"
            ]
          },
          "execution_count": 68,
          "metadata": {},
          "output_type": "execute_result"
        }
      ],
      "source": [
        "# df.groupby(['year','gender', pd.cut(df['age'],[0,30,40,50, float('inf')], labels=['<30','30-40','40-50','50+'])])[['id']].count() #.reset_index()\n",
        "grouped_df = df.groupby(['year','gender', 'age_categories'])[['id']].count().reset_index()\n",
        "grouped_df\n",
        " #Replace '<>' with correct method\n",
        "\n",
        "# TODO: Code to fill:\n",
        "\n",
        "# 1. '<<__A__>>' --> write your code here by selecting appropriate method/function from python\n",
        "# 2. '<<__B__>>' --> write column names from dataframe\n",
        "# 3. '<<__C__>>' --> write your command"
      ]
    },
    {
      "cell_type": "markdown",
      "id": "yjEYx9yHE7bB",
      "metadata": {
        "id": "yjEYx9yHE7bB"
      },
      "source": []
    },
    {
      "cell_type": "markdown",
      "id": "be08780a",
      "metadata": {
        "id": "be08780a"
      },
      "source": [
        "### Question: 4 (2 Marks )\n",
        "Generate a bar plot using seaborn and understand the threat levels of different age categories"
      ]
    },
    {
      "cell_type": "code",
      "execution_count": null,
      "id": "0cde59bf",
      "metadata": {
        "id": "0cde59bf",
        "outputId": "6fef087d-8604-4a53-d9b0-f6970a2edad7"
      },
      "outputs": [
        {
          "data": {
            "text/plain": [
              "Text(0.5, 1.0, 'Threat Levels by Age Categories')"
            ]
          },
          "execution_count": 69,
          "metadata": {},
          "output_type": "execute_result"
        },
        {
          "data": {
            "image/png": "[encoded data removed]",
            "text/plain": [
              "<Figure size 1200x600 with 1 Axes>"
            ]
          },
          "metadata": {},
          "output_type": "display_data"
        }
      ],
      "source": [
        "plt.figure(figsize = (12, 6))    # set a plot size (12,6)\n",
        "# sns.< '<<__B__>>'  >(< '<<__C__>>'>=df,x=\"age_categories\",<'<<__D__>>'>)\n",
        "sns.barplot(data=grouped_df,x=\"age_categories\",y=\"id\")\n",
        "plt.xlabel('Age Categories')\n",
        "plt.ylabel('Threat Level')\n",
        "plt.title('Threat Levels by Age Categories')\n",
        "\n",
        "# sns.barplot(data=df, x=\"age_categories\", y=\"threat_level\", palette=\"viridis\")\n",
        "\n",
        "\n",
        "\n",
        "# TODO: Code to fill:\n",
        "#Replace '<>' with correct method\n",
        "\n",
        "# 1. '<<__A__>>' --> write your code to set plot size\n",
        "# 2. '<<__B__>>' --> write your code here by selecting appropriate method from seaborn\n",
        "# 3. '<<__C__>>' --> write your parameter here to load data\n",
        "# 4. '<<__D__>>' --> write your hue column"
      ]
    },
    {
      "cell_type": "markdown",
      "id": "d9347ed8",
      "metadata": {
        "id": "d9347ed8"
      },
      "source": [
        "### Question: 5 (2 Marks )\n",
        "Generate a bar plot using seaborn and understand the year wise kills based on victim race"
      ]
    },
    {
      "cell_type": "code",
      "execution_count": null,
      "id": "3baae75c",
      "metadata": {
        "id": "3baae75c",
        "outputId": "6960653a-14f5-46a4-f07d-925d5040bafe"
      },
      "outputs": [
        {
          "name": "stderr",
          "output_type": "stream",
          "text": [
            "No artists with labels found to put in legend.  Note that artists whose label start with an underscore are ignored when legend() is called with no argument.\n"
          ]
        },
        {
          "data": {
            "text/plain": [
              "<matplotlib.legend.Legend at 0x1a8093ebdf0>"
            ]
          },
          "execution_count": 70,
          "metadata": {},
          "output_type": "execute_result"
        },
        {
          "data": {
            "image/png": "[encoded data removed]",
            "text/plain": [
              "<Figure size 1200x600 with 1 Axes>"
            ]
          },
          "metadata": {},
          "output_type": "display_data"
        }
      ],
      "source": [
        "plt.figure(figsize=(12, 6))    # set a plot size (12,6)\n",
        "# sns.< '<<__B__>>' >(< '<<__C__>>' >=df,x=\"year\",< '<<__D__>>' >)\n",
        "sns.barplot(data=grouped_df, x=\"year\", y='id')\n",
        "plt.xlabel('Year')\n",
        "plt.ylabel('Number of Killings')\n",
        "plt.title('Year-wise Killings by Victim Race')\n",
        "plt.legend(title=\"Victim Race\")\n",
        "\n",
        "# TODO: Code to fill:\n",
        "#Replace '<>' with correct method\n",
        "\n",
        "# 1. '<<__A__>>' --> write your code to set plot size\n",
        "# 2. '<<__B__>>' --> write your code here by selecting appropriate method from seaborn\n",
        "# 3. '<<__C__>>' --> write your parameter here to load data\n",
        "# 4. '<<__D__>>' --> write your hue column\n"
      ]
    },
    {
      "cell_type": "code",
      "execution_count": null,
      "id": "4Na7zRHCw4sG",
      "metadata": {
        "id": "4Na7zRHCw4sG"
      },
      "outputs": [],
      "source": [
        "# Save the data into csv to use for week-3 assignment\n",
        "df.to_csv('Weekly_assignment_w2_output.csv')\n",
        "grouped_df.to_csv('Weekly_assignment_w2_grouped_df_output.csv')"
      ]
    },
    {
      "cell_type": "markdown",
      "id": "9f6279cb",
      "metadata": {
        "id": "9f6279cb"
      },
      "source": [
        "## Thank you!"
      ]
    }
  ],
  "metadata": {
    "colab": {
      "provenance": [],
      "include_colab_link": true
    },
    "kernelspec": {
      "display_name": "Python 3 (ipykernel)",
      "language": "python",
      "name": "python3"
    },
    "language_info": {
      "codemirror_mode": {
        "name": "ipython",
        "version": 3
      },
      "file_extension": ".py",
      "mimetype": "text/x-python",
      "name": "python",
      "nbconvert_exporter": "python",
      "pygments_lexer": "ipython3",
      "version": "3.10.9"
    }
  },
  "nbformat": 4,
  "nbformat_minor": 5
}