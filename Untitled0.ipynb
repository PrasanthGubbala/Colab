{
  "nbformat": 4,
  "nbformat_minor": 0,
  "metadata": {
    "colab": {
      "provenance": [],
      "authorship_tag": "ABX9TyN1je5rF2SchCYiXMvBZr55",
      "include_colab_link": true
    },
    "kernelspec": {
      "name": "python3",
      "display_name": "Python 3"
    },
    "language_info": {
      "name": "python"
    }
  },
  "cells": [
    {
      "cell_type": "markdown",
      "metadata": {
        "id": "view-in-github",
        "colab_type": "text"
      },
      "source": [
        "<a href=\"https://colab.research.google.com/github/PrasanthGubbala/Colab/blob/dev/Untitled0.ipynb\" target=\"_parent\"><img src=\"https://colab.research.google.com/assets/colab-badge.svg\" alt=\"Open In Colab\"/></a>"
      ]
    },
    {
      "cell_type": "markdown",
      "source": [
        "# Assignment 1: Data extraction and analysis from\n",
        "social media platform Youtube by generating Youtube\n",
        "API key"
      ],
      "metadata": {
        "id": "l77UdtLOyyJw"
      }
    },
    {
      "cell_type": "markdown",
      "source": [
        "installing python-dotenv to load confidential env variables"
      ],
      "metadata": {
        "id": "CT2APB9hzyt2"
      }
    },
    {
      "cell_type": "code",
      "source": [
        "!pip install python-dotenv"
      ],
      "metadata": {
        "colab": {
          "base_uri": "https://localhost:8080/"
        },
        "id": "UqKn-i9Uzswa",
        "outputId": "9ecc6c52-0acf-4e68-9b0e-194dc21b8425"
      },
      "execution_count": 14,
      "outputs": [
        {
          "output_type": "stream",
          "name": "stdout",
          "text": [
            "Requirement already satisfied: python-dotenv in /usr/local/lib/python3.10/dist-packages (1.0.0)\n"
          ]
        }
      ]
    },
    {
      "cell_type": "code",
      "source": [
        "import os\n",
        "os.getcwd()"
      ],
      "metadata": {
        "colab": {
          "base_uri": "https://localhost:8080/",
          "height": 36
        },
        "id": "NFtPsOsH0o35",
        "outputId": "3611b248-c5c2-4816-d189-548cb0cbd284"
      },
      "execution_count": 15,
      "outputs": [
        {
          "output_type": "execute_result",
          "data": {
            "text/plain": [
              "'/content'"
            ],
            "application/vnd.google.colaboratory.intrinsic+json": {
              "type": "string"
            }
          },
          "metadata": {},
          "execution_count": 15
        }
      ]
    },
    {
      "cell_type": "markdown",
      "source": [
        "**1) Connect to the Youtube API using a Python client**\n",
        "\n",
        "\n",
        "*   a) Create a YouTube API key\n",
        "\n",
        "\n",
        "      *   Importing load_env and Loading YOUTUBE_DATA_API_KEY from env file\n",
        "\n",
        "\n"
      ],
      "metadata": {
        "id": "32PzaFjfzPKG"
      }
    },
    {
      "cell_type": "code",
      "source": [
        "from dotenv import load_dotenv\n",
        "import os, sys\n",
        "# Load environment variables from .env file\n",
        "load_dotenv(dotenv_path='/content/Foundations of Information/env.env')\n",
        "\n",
        "# Access environment variables\n",
        "# Accessing created API_KEY for Youtube data service by google\n",
        "YOUTUBE_DATA_API_KEY = os.getenv(\"YOUTUBE_DATA_API_KEY\")"
      ],
      "metadata": {
        "id": "xMl3h0w1zUAg"
      },
      "execution_count": 16,
      "outputs": []
    },
    {
      "cell_type": "markdown",
      "source": [
        "b) Install the Google API python client"
      ],
      "metadata": {
        "id": "-L0voXK-4T-j"
      }
    },
    {
      "cell_type": "code",
      "source": [
        "# installing google-api-python-client\n",
        "!pip install google-api-python-client\n"
      ],
      "metadata": {
        "colab": {
          "base_uri": "https://localhost:8080/"
        },
        "id": "6KyTaDG-zGCY",
        "outputId": "a74c5a13-c6e0-4238-bbc8-8904dbcf3f45"
      },
      "execution_count": 17,
      "outputs": [
        {
          "output_type": "stream",
          "name": "stdout",
          "text": [
            "Requirement already satisfied: google-api-python-client in /usr/local/lib/python3.10/dist-packages (2.84.0)\n",
            "Requirement already satisfied: httplib2<1dev,>=0.15.0 in /usr/local/lib/python3.10/dist-packages (from google-api-python-client) (0.22.0)\n",
            "Requirement already satisfied: google-auth<3.0.0dev,>=1.19.0 in /usr/local/lib/python3.10/dist-packages (from google-api-python-client) (2.17.3)\n",
            "Requirement already satisfied: google-auth-httplib2>=0.1.0 in /usr/local/lib/python3.10/dist-packages (from google-api-python-client) (0.1.0)\n",
            "Requirement already satisfied: google-api-core!=2.0.*,!=2.1.*,!=2.2.*,!=2.3.0,<3.0.0dev,>=1.31.5 in /usr/local/lib/python3.10/dist-packages (from google-api-python-client) (2.11.1)\n",
            "Requirement already satisfied: uritemplate<5,>=3.0.1 in /usr/local/lib/python3.10/dist-packages (from google-api-python-client) (4.1.1)\n",
            "Requirement already satisfied: googleapis-common-protos<2.0.dev0,>=1.56.2 in /usr/local/lib/python3.10/dist-packages (from google-api-core!=2.0.*,!=2.1.*,!=2.2.*,!=2.3.0,<3.0.0dev,>=1.31.5->google-api-python-client) (1.60.0)\n",
            "Requirement already satisfied: protobuf!=3.20.0,!=3.20.1,!=4.21.0,!=4.21.1,!=4.21.2,!=4.21.3,!=4.21.4,!=4.21.5,<5.0.0.dev0,>=3.19.5 in /usr/local/lib/python3.10/dist-packages (from google-api-core!=2.0.*,!=2.1.*,!=2.2.*,!=2.3.0,<3.0.0dev,>=1.31.5->google-api-python-client) (3.20.3)\n",
            "Requirement already satisfied: requests<3.0.0.dev0,>=2.18.0 in /usr/local/lib/python3.10/dist-packages (from google-api-core!=2.0.*,!=2.1.*,!=2.2.*,!=2.3.0,<3.0.0dev,>=1.31.5->google-api-python-client) (2.31.0)\n",
            "Requirement already satisfied: cachetools<6.0,>=2.0.0 in /usr/local/lib/python3.10/dist-packages (from google-auth<3.0.0dev,>=1.19.0->google-api-python-client) (5.3.1)\n",
            "Requirement already satisfied: pyasn1-modules>=0.2.1 in /usr/local/lib/python3.10/dist-packages (from google-auth<3.0.0dev,>=1.19.0->google-api-python-client) (0.3.0)\n",
            "Requirement already satisfied: six>=1.9.0 in /usr/local/lib/python3.10/dist-packages (from google-auth<3.0.0dev,>=1.19.0->google-api-python-client) (1.16.0)\n",
            "Requirement already satisfied: rsa<5,>=3.1.4 in /usr/local/lib/python3.10/dist-packages (from google-auth<3.0.0dev,>=1.19.0->google-api-python-client) (4.9)\n",
            "Requirement already satisfied: pyparsing!=3.0.0,!=3.0.1,!=3.0.2,!=3.0.3,<4,>=2.4.2 in /usr/local/lib/python3.10/dist-packages (from httplib2<1dev,>=0.15.0->google-api-python-client) (3.1.1)\n",
            "Requirement already satisfied: pyasn1<0.6.0,>=0.4.6 in /usr/local/lib/python3.10/dist-packages (from pyasn1-modules>=0.2.1->google-auth<3.0.0dev,>=1.19.0->google-api-python-client) (0.5.0)\n",
            "Requirement already satisfied: charset-normalizer<4,>=2 in /usr/local/lib/python3.10/dist-packages (from requests<3.0.0.dev0,>=2.18.0->google-api-core!=2.0.*,!=2.1.*,!=2.2.*,!=2.3.0,<3.0.0dev,>=1.31.5->google-api-python-client) (3.2.0)\n",
            "Requirement already satisfied: idna<4,>=2.5 in /usr/local/lib/python3.10/dist-packages (from requests<3.0.0.dev0,>=2.18.0->google-api-core!=2.0.*,!=2.1.*,!=2.2.*,!=2.3.0,<3.0.0dev,>=1.31.5->google-api-python-client) (3.4)\n",
            "Requirement already satisfied: urllib3<3,>=1.21.1 in /usr/local/lib/python3.10/dist-packages (from requests<3.0.0.dev0,>=2.18.0->google-api-core!=2.0.*,!=2.1.*,!=2.2.*,!=2.3.0,<3.0.0dev,>=1.31.5->google-api-python-client) (2.0.4)\n",
            "Requirement already satisfied: certifi>=2017.4.17 in /usr/local/lib/python3.10/dist-packages (from requests<3.0.0.dev0,>=2.18.0->google-api-core!=2.0.*,!=2.1.*,!=2.2.*,!=2.3.0,<3.0.0dev,>=1.31.5->google-api-python-client) (2023.7.22)\n"
          ]
        }
      ]
    },
    {
      "cell_type": "markdown",
      "source": [
        "**NOTE: Before going to next steps making utility functions for further usage**\n",
        "\n",
        "---\n",
        "\n",
        "\n",
        "\n",
        "---\n",
        "\n"
      ],
      "metadata": {
        "id": "vYvm3VRy7aqI"
      }
    },
    {
      "cell_type": "code",
      "source": [
        "import googleapiclient.discovery\n",
        "from pprint import pprint"
      ],
      "metadata": {
        "id": "NGmhJ_ss7Yod"
      },
      "execution_count": 18,
      "outputs": []
    },
    {
      "cell_type": "markdown",
      "source": [
        "*   This line imports the googleapiclient.discovery module, which provides the necessary tools for interacting with Google APIs.\n",
        "*   The second line imports the pprint function from the pprint module, which is used later to pretty-print the API response.\n",
        "\n"
      ],
      "metadata": {
        "id": "h3yiKh5u8GOn"
      }
    },
    {
      "cell_type": "code",
      "source": [
        "api_service_name = \"youtube\"\n",
        "api_version = \"v3\"\n",
        "# DEVELOPER_KEY = YOUTUBE_DATA_API_KEY"
      ],
      "metadata": {
        "id": "6stbKhCr7ZNI"
      },
      "execution_count": 19,
      "outputs": []
    },
    {
      "cell_type": "markdown",
      "source": [
        "*   These lines define variables with the API service name (youtube), API version (v3), and your API key (DEVELOPER_KEY). You should replace 'YOUR_API_KEY' with your actual API key obtained from the Google Developers Console.\n",
        "\n"
      ],
      "metadata": {
        "id": "NCyoMO7V8ejt"
      }
    },
    {
      "cell_type": "code",
      "source": [
        "def get_youtube_data(*args,**kwargs):\n",
        "  api_service_name = kwargs.get('api_service_name', 'youtube')\n",
        "  api_version = kwargs.get('api_version','v3')\n",
        "  DEVELOPER_KEY = kwargs.get('DEVELOPER_KEY')\n",
        "\n",
        "  part = kwargs.get('part', \"id,snippet\")\n",
        "  type_ = kwargs.get('type', 'video')\n",
        "  query = kwargs.get('query', \"Life of Pi movie\")\n",
        "  videoDuration = kwargs.get('videoDuration', 'short')\n",
        "  videoDefinition = kwargs.get('videoDefinition', 'high')\n",
        "  maxResults = kwargs.get('maxResults', 5)\n",
        "  regionCode = kwargs.get('regionCode', 'US')\n",
        "\n",
        "  # This line creates an instance of the YouTube API client using the build() method from the googleapiclient.discovery module. It takes the API service name, version, and developer key as arguments and returns the YouTube API client.\n",
        "  youtube = googleapiclient.discovery.build(\n",
        "        api_service_name, api_version, developerKey = DEVELOPER_KEY)\n",
        "\n",
        "\n",
        "  #This line creates a search request using the search().list() method of the YouTube API client (youtube). It specifies various parameters for the search, such as:\n",
        "  #part: Specifies the video resource parts to be included in the API response, which is set to 'id,snippet' in this case.\n",
        "  #type: Specifies the type of resource to search for, which is set to 'video' in this case.\n",
        "  #q: Specifies the search query string, which is set to \"Life of Pi movie\".\n",
        "  #videoDuration: Specifies the desired video duration, which is set to 'short'.\n",
        "  #videoDefinition: Specifies the desired video definition, which is set to 'high'.\n",
        "  #maxResults: Specifies the maximum number of search results to return, which is set to 5.\n",
        "  #fields: Specifies the specific fields to include in the API response, which is set to \"items(id(videoId),snippet(channelId,channelTitle,title,description))\".\n",
        "  request = youtube.search().list(\n",
        "        part=part,\n",
        "        type=type_,\n",
        "        q=query,\n",
        "        videoDuration=videoDuration,\n",
        "        videoDefinition=videoDefinition,\n",
        "        maxResults=maxResults,\n",
        "        regionCode=regionCode,  # Filter by region\n",
        "        order=\"relevance\",  # Sort by relevance\n",
        "        fields=\"items(id(videoId),snippet(channelId,channelTitle,title,description))\"\n",
        "        )\n",
        "\n",
        "  #This line executes the search request by calling the execute() method on the request object. It sends the request to the YouTube Data API and stores the API response in the response variable.\n",
        "  response = request.execute()\n",
        "  return response\n",
        "\n",
        "def make_href(result):\n",
        "  for i, obj in enumerate(result['items']):\n",
        "      result['items'][i]['snippet']['href'] = f\"https://www.youtube.com/watch?v={obj['id']['videoId']}\"\n",
        "  return result"
      ],
      "metadata": {
        "id": "cHy8TX1R7ZQq"
      },
      "execution_count": 20,
      "outputs": []
    },
    {
      "cell_type": "markdown",
      "source": [
        "**Above function will connect to youtube server and fetch appropriate results**\n",
        "\n",
        "\n",
        "*   This line creates an instance of the YouTube API client using the build() method from the googleapiclient.discovery module. It takes the API service name, version, and developer key as arguments and returns the YouTube API client.\n",
        "\n"
      ],
      "metadata": {
        "id": "FKvgdv7kCVNa"
      }
    },
    {
      "cell_type": "code",
      "source": [
        "get_youtube_data_input = {\n",
        "    \"api_service_name\": \"youtube\",\n",
        "    \"api_version\":'v3',\n",
        "    \"DEVELOPER_KEY\": YOUTUBE_DATA_API_KEY,\n",
        "    \"part\": \"id,snippet\",\n",
        "    \"type\": \"video\",\n",
        "    \"query\": \"Life of Pi movie\",\n",
        "    \"videoDuration\": 'short',\n",
        "    \"videoDefinition\": 'high',\n",
        "    \"maxResults\": 5\n",
        "}"
      ],
      "metadata": {
        "id": "uRLLCklJBIqm"
      },
      "execution_count": 21,
      "outputs": []
    },
    {
      "cell_type": "markdown",
      "source": [
        "payload for above request"
      ],
      "metadata": {
        "id": "SAg85forC-nY"
      }
    },
    {
      "cell_type": "code",
      "source": [
        "# Sample Run\n",
        "get_youtube_data(**get_youtube_data_input)"
      ],
      "metadata": {
        "colab": {
          "base_uri": "https://localhost:8080/",
          "height": 1000
        },
        "id": "E7ynnuaBDpJv",
        "outputId": "5cd3ef49-46f6-4ad8-eb49-dd5efb33bcab"
      },
      "execution_count": 22,
      "outputs": [
        {
          "output_type": "error",
          "ename": "RefreshError",
          "evalue": "ignored",
          "traceback": [
            "\u001b[0;31m---------------------------------------------------------------------------\u001b[0m",
            "\u001b[0;31mTransportError\u001b[0m                            Traceback (most recent call last)",
            "\u001b[0;32m/usr/local/lib/python3.10/dist-packages/google/auth/compute_engine/credentials.py\u001b[0m in \u001b[0;36mrefresh\u001b[0;34m(self, request)\u001b[0m\n\u001b[1;32m    110\u001b[0m         \u001b[0;32mtry\u001b[0m\u001b[0;34m:\u001b[0m\u001b[0;34m\u001b[0m\u001b[0;34m\u001b[0m\u001b[0m\n\u001b[0;32m--> 111\u001b[0;31m             \u001b[0mself\u001b[0m\u001b[0;34m.\u001b[0m\u001b[0m_retrieve_info\u001b[0m\u001b[0;34m(\u001b[0m\u001b[0mrequest\u001b[0m\u001b[0;34m)\u001b[0m\u001b[0;34m\u001b[0m\u001b[0;34m\u001b[0m\u001b[0m\n\u001b[0m\u001b[1;32m    112\u001b[0m             self.token, self.expiry = _metadata.get_service_account_token(\n",
            "\u001b[0;32m/usr/local/lib/python3.10/dist-packages/google/auth/compute_engine/credentials.py\u001b[0m in \u001b[0;36m_retrieve_info\u001b[0;34m(self, request)\u001b[0m\n\u001b[1;32m     86\u001b[0m         \"\"\"\n\u001b[0;32m---> 87\u001b[0;31m         info = _metadata.get_service_account_info(\n\u001b[0m\u001b[1;32m     88\u001b[0m             \u001b[0mrequest\u001b[0m\u001b[0;34m,\u001b[0m \u001b[0mservice_account\u001b[0m\u001b[0;34m=\u001b[0m\u001b[0mself\u001b[0m\u001b[0;34m.\u001b[0m\u001b[0m_service_account_email\u001b[0m\u001b[0;34m\u001b[0m\u001b[0;34m\u001b[0m\u001b[0m\n",
            "\u001b[0;32m/usr/local/lib/python3.10/dist-packages/google/auth/compute_engine/_metadata.py\u001b[0m in \u001b[0;36mget_service_account_info\u001b[0;34m(request, service_account)\u001b[0m\n\u001b[1;32m    233\u001b[0m     \u001b[0;31m# for more on the use of 'recursive'.\u001b[0m\u001b[0;34m\u001b[0m\u001b[0;34m\u001b[0m\u001b[0m\n\u001b[0;32m--> 234\u001b[0;31m     \u001b[0;32mreturn\u001b[0m \u001b[0mget\u001b[0m\u001b[0;34m(\u001b[0m\u001b[0mrequest\u001b[0m\u001b[0;34m,\u001b[0m \u001b[0mpath\u001b[0m\u001b[0;34m,\u001b[0m \u001b[0mparams\u001b[0m\u001b[0;34m=\u001b[0m\u001b[0;34m{\u001b[0m\u001b[0;34m\"recursive\"\u001b[0m\u001b[0;34m:\u001b[0m \u001b[0;34m\"true\"\u001b[0m\u001b[0;34m}\u001b[0m\u001b[0;34m)\u001b[0m\u001b[0;34m\u001b[0m\u001b[0;34m\u001b[0m\u001b[0m\n\u001b[0m\u001b[1;32m    235\u001b[0m \u001b[0;34m\u001b[0m\u001b[0m\n",
            "\u001b[0;32m/usr/local/lib/python3.10/dist-packages/google/auth/compute_engine/_metadata.py\u001b[0m in \u001b[0;36mget\u001b[0;34m(request, path, root, params, recursive, retry_count)\u001b[0m\n\u001b[1;32m    181\u001b[0m     \u001b[0;32melse\u001b[0m\u001b[0;34m:\u001b[0m\u001b[0;34m\u001b[0m\u001b[0;34m\u001b[0m\u001b[0m\n\u001b[0;32m--> 182\u001b[0;31m         raise exceptions.TransportError(\n\u001b[0m\u001b[1;32m    183\u001b[0m             \u001b[0;34m\"Failed to retrieve {} from the Google Compute Engine \"\u001b[0m\u001b[0;34m\u001b[0m\u001b[0;34m\u001b[0m\u001b[0m\n",
            "\u001b[0;31mTransportError\u001b[0m: (\"Failed to retrieve http://metadata.google.internal/computeMetadata/v1/instance/service-accounts/default/?recursive=true from the Google Compute Engine metadata service. Status: 404 Response:\\nb''\", <google_auth_httplib2._Response object at 0x79321a5d1600>)",
            "\nThe above exception was the direct cause of the following exception:\n",
            "\u001b[0;31mRefreshError\u001b[0m                              Traceback (most recent call last)",
            "\u001b[0;32m<ipython-input-22-ad8f07f5e076>\u001b[0m in \u001b[0;36m<cell line: 2>\u001b[0;34m()\u001b[0m\n\u001b[1;32m      1\u001b[0m \u001b[0;31m# Sample Run\u001b[0m\u001b[0;34m\u001b[0m\u001b[0;34m\u001b[0m\u001b[0m\n\u001b[0;32m----> 2\u001b[0;31m \u001b[0mget_youtube_data\u001b[0m\u001b[0;34m(\u001b[0m\u001b[0;34m**\u001b[0m\u001b[0mget_youtube_data_input\u001b[0m\u001b[0;34m)\u001b[0m\u001b[0;34m\u001b[0m\u001b[0;34m\u001b[0m\u001b[0m\n\u001b[0m",
            "\u001b[0;32m<ipython-input-20-7bf1443824a5>\u001b[0m in \u001b[0;36mget_youtube_data\u001b[0;34m(*args, **kwargs)\u001b[0m\n\u001b[1;32m     38\u001b[0m \u001b[0;34m\u001b[0m\u001b[0m\n\u001b[1;32m     39\u001b[0m   \u001b[0;31m#This line executes the search request by calling the execute() method on the request object. It sends the request to the YouTube Data API and stores the API response in the response variable.\u001b[0m\u001b[0;34m\u001b[0m\u001b[0;34m\u001b[0m\u001b[0m\n\u001b[0;32m---> 40\u001b[0;31m   \u001b[0mresponse\u001b[0m \u001b[0;34m=\u001b[0m \u001b[0mrequest\u001b[0m\u001b[0;34m.\u001b[0m\u001b[0mexecute\u001b[0m\u001b[0;34m(\u001b[0m\u001b[0;34m)\u001b[0m\u001b[0;34m\u001b[0m\u001b[0;34m\u001b[0m\u001b[0m\n\u001b[0m\u001b[1;32m     41\u001b[0m   \u001b[0;32mreturn\u001b[0m \u001b[0mresponse\u001b[0m\u001b[0;34m\u001b[0m\u001b[0;34m\u001b[0m\u001b[0m\n\u001b[1;32m     42\u001b[0m \u001b[0;34m\u001b[0m\u001b[0m\n",
            "\u001b[0;32m/usr/local/lib/python3.10/dist-packages/googleapiclient/_helpers.py\u001b[0m in \u001b[0;36mpositional_wrapper\u001b[0;34m(*args, **kwargs)\u001b[0m\n\u001b[1;32m    128\u001b[0m                 \u001b[0;32melif\u001b[0m \u001b[0mpositional_parameters_enforcement\u001b[0m \u001b[0;34m==\u001b[0m \u001b[0mPOSITIONAL_WARNING\u001b[0m\u001b[0;34m:\u001b[0m\u001b[0;34m\u001b[0m\u001b[0;34m\u001b[0m\u001b[0m\n\u001b[1;32m    129\u001b[0m                     \u001b[0mlogger\u001b[0m\u001b[0;34m.\u001b[0m\u001b[0mwarning\u001b[0m\u001b[0;34m(\u001b[0m\u001b[0mmessage\u001b[0m\u001b[0;34m)\u001b[0m\u001b[0;34m\u001b[0m\u001b[0;34m\u001b[0m\u001b[0m\n\u001b[0;32m--> 130\u001b[0;31m             \u001b[0;32mreturn\u001b[0m \u001b[0mwrapped\u001b[0m\u001b[0;34m(\u001b[0m\u001b[0;34m*\u001b[0m\u001b[0margs\u001b[0m\u001b[0;34m,\u001b[0m \u001b[0;34m**\u001b[0m\u001b[0mkwargs\u001b[0m\u001b[0;34m)\u001b[0m\u001b[0;34m\u001b[0m\u001b[0;34m\u001b[0m\u001b[0m\n\u001b[0m\u001b[1;32m    131\u001b[0m \u001b[0;34m\u001b[0m\u001b[0m\n\u001b[1;32m    132\u001b[0m         \u001b[0;32mreturn\u001b[0m \u001b[0mpositional_wrapper\u001b[0m\u001b[0;34m\u001b[0m\u001b[0;34m\u001b[0m\u001b[0m\n",
            "\u001b[0;32m/usr/local/lib/python3.10/dist-packages/googleapiclient/http.py\u001b[0m in \u001b[0;36mexecute\u001b[0;34m(self, http, num_retries)\u001b[0m\n\u001b[1;32m    921\u001b[0m \u001b[0;34m\u001b[0m\u001b[0m\n\u001b[1;32m    922\u001b[0m         \u001b[0;31m# Handle retries for server-side errors.\u001b[0m\u001b[0;34m\u001b[0m\u001b[0;34m\u001b[0m\u001b[0m\n\u001b[0;32m--> 923\u001b[0;31m         resp, content = _retry_request(\n\u001b[0m\u001b[1;32m    924\u001b[0m             \u001b[0mhttp\u001b[0m\u001b[0;34m,\u001b[0m\u001b[0;34m\u001b[0m\u001b[0;34m\u001b[0m\u001b[0m\n\u001b[1;32m    925\u001b[0m             \u001b[0mnum_retries\u001b[0m\u001b[0;34m,\u001b[0m\u001b[0;34m\u001b[0m\u001b[0;34m\u001b[0m\u001b[0m\n",
            "\u001b[0;32m/usr/local/lib/python3.10/dist-packages/googleapiclient/http.py\u001b[0m in \u001b[0;36m_retry_request\u001b[0;34m(http, num_retries, req_type, sleep, rand, uri, method, *args, **kwargs)\u001b[0m\n\u001b[1;32m    189\u001b[0m         \u001b[0;32mtry\u001b[0m\u001b[0;34m:\u001b[0m\u001b[0;34m\u001b[0m\u001b[0;34m\u001b[0m\u001b[0m\n\u001b[1;32m    190\u001b[0m             \u001b[0mexception\u001b[0m \u001b[0;34m=\u001b[0m \u001b[0;32mNone\u001b[0m\u001b[0;34m\u001b[0m\u001b[0;34m\u001b[0m\u001b[0m\n\u001b[0;32m--> 191\u001b[0;31m             \u001b[0mresp\u001b[0m\u001b[0;34m,\u001b[0m \u001b[0mcontent\u001b[0m \u001b[0;34m=\u001b[0m \u001b[0mhttp\u001b[0m\u001b[0;34m.\u001b[0m\u001b[0mrequest\u001b[0m\u001b[0;34m(\u001b[0m\u001b[0muri\u001b[0m\u001b[0;34m,\u001b[0m \u001b[0mmethod\u001b[0m\u001b[0;34m,\u001b[0m \u001b[0;34m*\u001b[0m\u001b[0margs\u001b[0m\u001b[0;34m,\u001b[0m \u001b[0;34m**\u001b[0m\u001b[0mkwargs\u001b[0m\u001b[0;34m)\u001b[0m\u001b[0;34m\u001b[0m\u001b[0;34m\u001b[0m\u001b[0m\n\u001b[0m\u001b[1;32m    192\u001b[0m         \u001b[0;31m# Retry on SSL errors and socket timeout errors.\u001b[0m\u001b[0;34m\u001b[0m\u001b[0;34m\u001b[0m\u001b[0m\n\u001b[1;32m    193\u001b[0m         \u001b[0;32mexcept\u001b[0m \u001b[0m_ssl_SSLError\u001b[0m \u001b[0;32mas\u001b[0m \u001b[0mssl_error\u001b[0m\u001b[0;34m:\u001b[0m\u001b[0;34m\u001b[0m\u001b[0;34m\u001b[0m\u001b[0m\n",
            "\u001b[0;32m/usr/local/lib/python3.10/dist-packages/google_auth_httplib2.py\u001b[0m in \u001b[0;36mrequest\u001b[0;34m(self, uri, method, body, headers, redirections, connection_type, **kwargs)\u001b[0m\n\u001b[1;32m    207\u001b[0m         \u001b[0mrequest_headers\u001b[0m \u001b[0;34m=\u001b[0m \u001b[0mheaders\u001b[0m\u001b[0;34m.\u001b[0m\u001b[0mcopy\u001b[0m\u001b[0;34m(\u001b[0m\u001b[0;34m)\u001b[0m \u001b[0;32mif\u001b[0m \u001b[0mheaders\u001b[0m \u001b[0;32mis\u001b[0m \u001b[0;32mnot\u001b[0m \u001b[0;32mNone\u001b[0m \u001b[0;32melse\u001b[0m \u001b[0;34m{\u001b[0m\u001b[0;34m}\u001b[0m\u001b[0;34m\u001b[0m\u001b[0;34m\u001b[0m\u001b[0m\n\u001b[1;32m    208\u001b[0m \u001b[0;34m\u001b[0m\u001b[0m\n\u001b[0;32m--> 209\u001b[0;31m         \u001b[0mself\u001b[0m\u001b[0;34m.\u001b[0m\u001b[0mcredentials\u001b[0m\u001b[0;34m.\u001b[0m\u001b[0mbefore_request\u001b[0m\u001b[0;34m(\u001b[0m\u001b[0mself\u001b[0m\u001b[0;34m.\u001b[0m\u001b[0m_request\u001b[0m\u001b[0;34m,\u001b[0m \u001b[0mmethod\u001b[0m\u001b[0;34m,\u001b[0m \u001b[0muri\u001b[0m\u001b[0;34m,\u001b[0m \u001b[0mrequest_headers\u001b[0m\u001b[0;34m)\u001b[0m\u001b[0;34m\u001b[0m\u001b[0;34m\u001b[0m\u001b[0m\n\u001b[0m\u001b[1;32m    210\u001b[0m \u001b[0;34m\u001b[0m\u001b[0m\n\u001b[1;32m    211\u001b[0m         \u001b[0;31m# Check if the body is a file-like stream, and if so, save the body\u001b[0m\u001b[0;34m\u001b[0m\u001b[0;34m\u001b[0m\u001b[0m\n",
            "\u001b[0;32m/usr/local/lib/python3.10/dist-packages/google/auth/credentials.py\u001b[0m in \u001b[0;36mbefore_request\u001b[0;34m(self, request, method, url, headers)\u001b[0m\n\u001b[1;32m    133\u001b[0m         \u001b[0;31m# the http request.)\u001b[0m\u001b[0;34m\u001b[0m\u001b[0;34m\u001b[0m\u001b[0m\n\u001b[1;32m    134\u001b[0m         \u001b[0;32mif\u001b[0m \u001b[0;32mnot\u001b[0m \u001b[0mself\u001b[0m\u001b[0;34m.\u001b[0m\u001b[0mvalid\u001b[0m\u001b[0;34m:\u001b[0m\u001b[0;34m\u001b[0m\u001b[0;34m\u001b[0m\u001b[0m\n\u001b[0;32m--> 135\u001b[0;31m             \u001b[0mself\u001b[0m\u001b[0;34m.\u001b[0m\u001b[0mrefresh\u001b[0m\u001b[0;34m(\u001b[0m\u001b[0mrequest\u001b[0m\u001b[0;34m)\u001b[0m\u001b[0;34m\u001b[0m\u001b[0;34m\u001b[0m\u001b[0m\n\u001b[0m\u001b[1;32m    136\u001b[0m         \u001b[0mself\u001b[0m\u001b[0;34m.\u001b[0m\u001b[0mapply\u001b[0m\u001b[0;34m(\u001b[0m\u001b[0mheaders\u001b[0m\u001b[0;34m)\u001b[0m\u001b[0;34m\u001b[0m\u001b[0;34m\u001b[0m\u001b[0m\n\u001b[1;32m    137\u001b[0m \u001b[0;34m\u001b[0m\u001b[0m\n",
            "\u001b[0;32m/usr/local/lib/python3.10/dist-packages/google/auth/compute_engine/credentials.py\u001b[0m in \u001b[0;36mrefresh\u001b[0;34m(self, request)\u001b[0m\n\u001b[1;32m    115\u001b[0m         \u001b[0;32mexcept\u001b[0m \u001b[0mexceptions\u001b[0m\u001b[0;34m.\u001b[0m\u001b[0mTransportError\u001b[0m \u001b[0;32mas\u001b[0m \u001b[0mcaught_exc\u001b[0m\u001b[0;34m:\u001b[0m\u001b[0;34m\u001b[0m\u001b[0;34m\u001b[0m\u001b[0m\n\u001b[1;32m    116\u001b[0m             \u001b[0mnew_exc\u001b[0m \u001b[0;34m=\u001b[0m \u001b[0mexceptions\u001b[0m\u001b[0;34m.\u001b[0m\u001b[0mRefreshError\u001b[0m\u001b[0;34m(\u001b[0m\u001b[0mcaught_exc\u001b[0m\u001b[0;34m)\u001b[0m\u001b[0;34m\u001b[0m\u001b[0;34m\u001b[0m\u001b[0m\n\u001b[0;32m--> 117\u001b[0;31m             \u001b[0msix\u001b[0m\u001b[0;34m.\u001b[0m\u001b[0mraise_from\u001b[0m\u001b[0;34m(\u001b[0m\u001b[0mnew_exc\u001b[0m\u001b[0;34m,\u001b[0m \u001b[0mcaught_exc\u001b[0m\u001b[0;34m)\u001b[0m\u001b[0;34m\u001b[0m\u001b[0;34m\u001b[0m\u001b[0m\n\u001b[0m\u001b[1;32m    118\u001b[0m \u001b[0;34m\u001b[0m\u001b[0m\n\u001b[1;32m    119\u001b[0m     \u001b[0;34m@\u001b[0m\u001b[0mproperty\u001b[0m\u001b[0;34m\u001b[0m\u001b[0;34m\u001b[0m\u001b[0m\n",
            "\u001b[0;32m/usr/local/lib/python3.10/dist-packages/six.py\u001b[0m in \u001b[0;36mraise_from\u001b[0;34m(value, from_value)\u001b[0m\n",
            "\u001b[0;31mRefreshError\u001b[0m: (\"Failed to retrieve http://metadata.google.internal/computeMetadata/v1/instance/service-accounts/default/?recursive=true from the Google Compute Engine metadata service. Status: 404 Response:\\nb''\", <google_auth_httplib2._Response object at 0x79321a5d1600>)"
          ]
        }
      ]
    },
    {
      "cell_type": "code",
      "source": [],
      "metadata": {
        "id": "u64rSau3C9Ny"
      },
      "execution_count": null,
      "outputs": []
    },
    {
      "cell_type": "markdown",
      "source": [
        "**2) Search and extract the data**"
      ],
      "metadata": {
        "id": "IWiOoew53bN_"
      }
    },
    {
      "cell_type": "markdown",
      "source": [
        "a) Search videos related to the query string “avatar movie”\n",
        "\n",
        "*   Output expected : ID, Snippet, Channel ID, Video Description, Channel Title, Video"
      ],
      "metadata": {
        "id": "uR1UprjH4lNb"
      }
    },
    {
      "cell_type": "code",
      "source": [
        "get_youtube_data_input = {\n",
        "    \"api_service_name\": \"youtube\",\n",
        "    \"api_version\":'v3',\n",
        "    \"DEVELOPER_KEY\": YOUTUBE_DATA_API_KEY,\n",
        "    \"part\": \"id,snippet\",\n",
        "    \"type\": \"video\",\n",
        "    \"query\": \"avatar movie\",   # here is the query string\n",
        "    \"videoDuration\": 'short',\n",
        "    \"videoDefinition\": 'high',\n",
        "    \"maxResults\": 5\n",
        "}\n",
        "result = get_youtube_data(**get_youtube_data_input)\n",
        "result = make_href(result)\n",
        "pprint(result)"
      ],
      "metadata": {
        "colab": {
          "base_uri": "https://localhost:8080/"
        },
        "id": "AaF3Whlj2tTL",
        "outputId": "b31bf744-95fc-42b3-d04a-d24ff060985b"
      },
      "execution_count": 49,
      "outputs": [
        {
          "output_type": "stream",
          "name": "stdout",
          "text": [
            "{'items': [{'id': {'videoId': 'd9MyW72ELq0'},\n",
            "            'snippet': {'channelId': 'UCgjxQJ6TlKqhHax8742ZMdA',\n",
            "                        'channelTitle': 'Avatar',\n",
            "                        'description': 'Set more than a decade after the '\n",
            "                                       'events of the first film, “Avatar: The '\n",
            "                                       'Way of Water” begins to tell the story '\n",
            "                                       'of the Sully family (Jake, ...',\n",
            "                        'href': 'https://www.youtube.com/watch?v=d9MyW72ELq0',\n",
            "                        'title': 'Avatar: The Way of Water | Official '\n",
            "                                 'Trailer'}},\n",
            "           {'id': {'videoId': '5PSNL1qE6VY'},\n",
            "            'snippet': {'channelId': 'UC2-BeLxzUBSs0uSrmzWhJuQ',\n",
            "                        'channelTitle': '20th Century Studios',\n",
            "                        'description': 'AVATAR takes us to a spectacular world '\n",
            "                                       'beyond imagination, where a reluctant '\n",
            "                                       'hero embarks on an epic adventure, '\n",
            "                                       'ultimately ...',\n",
            "                        'href': 'https://www.youtube.com/watch?v=5PSNL1qE6VY',\n",
            "                        'title': 'Avatar | Official Trailer (HD) | 20th '\n",
            "                                 'Century FOX'}},\n",
            "           {'id': {'videoId': 'a8Gx8wiNbs8'},\n",
            "            'snippet': {'channelId': 'UCgjxQJ6TlKqhHax8742ZMdA',\n",
            "                        'channelTitle': 'Avatar',\n",
            "                        'description': 'Set more than a decade after the '\n",
            "                                       'events of the first film, “Avatar: The '\n",
            "                                       'Way of Water” begins to tell the story '\n",
            "                                       'of the Sully family (Jake, ...',\n",
            "                        'href': 'https://www.youtube.com/watch?v=a8Gx8wiNbs8',\n",
            "                        'title': 'Avatar: The Way of Water | Official Teaser '\n",
            "                                 'Trailer'}},\n",
            "           {'id': {'videoId': 'mdhEj_rG80Y'},\n",
            "            'snippet': {'channelId': 'UC3IeKtmWtkr9e0IhPf5DmRg',\n",
            "                        'channelTitle': 'Diamond Box',\n",
            "                        'description': 'AVATAR - Movie Behind the Scenes | '\n",
            "                                       'Hollywood movie Making Avatar is an '\n",
            "                                       'American media franchise created by '\n",
            "                                       'James ...',\n",
            "                        'href': 'https://www.youtube.com/watch?v=mdhEj_rG80Y',\n",
            "                        'title': 'AVATAR - Movie Behind the Scenes | Making '\n",
            "                                 'of'}},\n",
            "           {'id': {'videoId': '_Je174KjRNc'},\n",
            "            'snippet': {'channelId': 'UC9v4vMSdJRND1YGp7-S8dRQ',\n",
            "                        'channelTitle': '20th Century Studios India',\n",
            "                        'description': 'On December 16, experience the motion '\n",
            "                                       'picture event of a generation. Watch '\n",
            "                                       'the brand new trailer of '\n",
            "                                       '#AvatarTheWayOfWater ...',\n",
            "                        'href': 'https://www.youtube.com/watch?v=_Je174KjRNc',\n",
            "                        'title': 'Avatar: The Way of Water | New Trailer | '\n",
            "                                 'December 16 in Cinemas | Advance Bookings '\n",
            "                                 'Open Now'}}]}\n"
          ]
        }
      ]
    },
    {
      "cell_type": "code",
      "source": [],
      "metadata": {
        "id": "PJnEgGQoJLJi"
      },
      "execution_count": null,
      "outputs": []
    },
    {
      "cell_type": "code",
      "source": [],
      "metadata": {
        "id": "rV0S4D5wJ-os"
      },
      "execution_count": null,
      "outputs": []
    },
    {
      "cell_type": "markdown",
      "source": [
        "b ) Provide the following statistics for query string “avatar movie” of top 50 videos sorted by relevance in the US region (regionCode)\n",
        "\n",
        "\n",
        "*   Output expected: video ID, title, no of views, no of likes,no of comments exported to\n",
        "CSV file\n",
        "\n"
      ],
      "metadata": {
        "id": "aXzcxmTQJVbC"
      }
    },
    {
      "cell_type": "code",
      "source": [
        "get_youtube_data_input = {\n",
        "    \"api_service_name\": \"youtube\",\n",
        "    \"api_version\":'v3',\n",
        "    \"DEVELOPER_KEY\": YOUTUBE_DATA_API_KEY,\n",
        "    \"part\": \"id,snippet\",\n",
        "    \"type\": \"video\",\n",
        "    \"query\": \"avatar movie\",   # here is the query string\n",
        "    \"videoDuration\": 'short',\n",
        "    \"videoDefinition\": 'high',\n",
        "    \"maxResults\": 50\n",
        "}\n",
        "result = get_youtube_data(**get_youtube_data_input)\n",
        "result = make_href(result)\n",
        "print('total # of items: ',len(result['items']))\n",
        "pprint(result)"
      ],
      "metadata": {
        "colab": {
          "base_uri": "https://localhost:8080/"
        },
        "id": "oP5UFjGlJLMh",
        "outputId": "8fbcd63b-9f13-4826-9bbd-40177db112f0"
      },
      "execution_count": 51,
      "outputs": [
        {
          "output_type": "stream",
          "name": "stdout",
          "text": [
            "total # of items:  50\n",
            "{'items': [{'id': {'videoId': 'd9MyW72ELq0'},\n",
            "            'snippet': {'channelId': 'UCgjxQJ6TlKqhHax8742ZMdA',\n",
            "                        'channelTitle': 'Avatar',\n",
            "                        'description': 'Set more than a decade after the '\n",
            "                                       'events of the first film, “Avatar: The '\n",
            "                                       'Way of Water” begins to tell the story '\n",
            "                                       'of the Sully family (Jake, ...',\n",
            "                        'href': 'https://www.youtube.com/watch?v=d9MyW72ELq0',\n",
            "                        'title': 'Avatar: The Way of Water | Official '\n",
            "                                 'Trailer'}},\n",
            "           {'id': {'videoId': '5PSNL1qE6VY'},\n",
            "            'snippet': {'channelId': 'UC2-BeLxzUBSs0uSrmzWhJuQ',\n",
            "                        'channelTitle': '20th Century Studios',\n",
            "                        'description': 'AVATAR takes us to a spectacular world '\n",
            "                                       'beyond imagination, where a reluctant '\n",
            "                                       'hero embarks on an epic adventure, '\n",
            "                                       'ultimately ...',\n",
            "                        'href': 'https://www.youtube.com/watch?v=5PSNL1qE6VY',\n",
            "                        'title': 'Avatar | Official Trailer (HD) | 20th '\n",
            "                                 'Century FOX'}},\n",
            "           {'id': {'videoId': 'mdhEj_rG80Y'},\n",
            "            'snippet': {'channelId': 'UC3IeKtmWtkr9e0IhPf5DmRg',\n",
            "                        'channelTitle': 'Diamond Box',\n",
            "                        'description': 'AVATAR - Movie Behind the Scenes | '\n",
            "                                       'Hollywood movie Making Avatar is an '\n",
            "                                       'American media franchise created by '\n",
            "                                       'James ...',\n",
            "                        'href': 'https://www.youtube.com/watch?v=mdhEj_rG80Y',\n",
            "                        'title': 'AVATAR - Movie Behind the Scenes | Making '\n",
            "                                 'of'}},\n",
            "           {'id': {'videoId': 'a8Gx8wiNbs8'},\n",
            "            'snippet': {'channelId': 'UCgjxQJ6TlKqhHax8742ZMdA',\n",
            "                        'channelTitle': 'Avatar',\n",
            "                        'description': 'Set more than a decade after the '\n",
            "                                       'events of the first film, “Avatar: The '\n",
            "                                       'Way of Water” begins to tell the story '\n",
            "                                       'of the Sully family (Jake, ...',\n",
            "                        'href': 'https://www.youtube.com/watch?v=a8Gx8wiNbs8',\n",
            "                        'title': 'Avatar: The Way of Water | Official Teaser '\n",
            "                                 'Trailer'}},\n",
            "           {'id': {'videoId': 'wJ84Hda-H4c'},\n",
            "            'snippet': {'channelId': 'UCx3yrUAcK1HAU8oqZQ4NQfQ',\n",
            "                        'channelTitle': 'Moonlit.flight',\n",
            "                        'description': '',\n",
            "                        'href': 'https://www.youtube.com/watch?v=wJ84Hda-H4c',\n",
            "                        'title': 'PROTECTIVE FRIEND BE LIKE🤭 #avatar #avatar2 '\n",
            "                                 '#avatarthewayofwater #rotxo'}},\n",
            "           {'id': {'videoId': 'zpSueMIfc2k'},\n",
            "            'snippet': {'channelId': 'UC6LDwTYRfjQwkakw5R95OyA',\n",
            "                        'channelTitle': 'JoBlo Movie Clips',\n",
            "                        'description': 'Watch the official AVATAR Clip - '\n",
            "                                       '\"Awake\" (2009) James Cameron. Let us '\n",
            "                                       'know what you think in the comments '\n",
            "                                       'below! Directed by ...',\n",
            "                        'href': 'https://www.youtube.com/watch?v=zpSueMIfc2k',\n",
            "                        'title': 'AVATAR Clip - &quot;Awake&quot; (2009) James '\n",
            "                                 'Cameron'}},\n",
            "           {'id': {'videoId': 'u3_Uhq6qxhU'},\n",
            "            'snippet': {'channelId': 'UC0Rp4wkphkKwnL2qJB8XnKw',\n",
            "                        'channelTitle': 'Smasher',\n",
            "                        'description': 'First official look and teaser trailer '\n",
            "                                       \"at Netflix's Live Action Avatar: The \"\n",
            "                                       'Last Airbender Subscribe to Smasher '\n",
            "                                       'for ALL NEW Trailers ...',\n",
            "                        'href': 'https://www.youtube.com/watch?v=u3_Uhq6qxhU',\n",
            "                        'title': 'AVATAR: THE LAST AIRBENDER Official First '\n",
            "                                 'Look (2024) Netflix Live Action Trailer'}},\n",
            "           {'id': {'videoId': 'kHNCaWjB-98'},\n",
            "            'snippet': {'channelId': 'UCmQynT5NWU3Vsa9t0OGUhcA',\n",
            "                        'channelTitle': 'FilmIsNow Movie Bloopers & Extras',\n",
            "                        'description': 'Avatar - Before & After CGI Directed '\n",
            "                                       'by James Cameron and starring Sam '\n",
            "                                       'Worthington, Zoe Saldana, Sigourney '\n",
            "                                       'Weaver, Stephen ...',\n",
            "                        'href': 'https://www.youtube.com/watch?v=kHNCaWjB-98',\n",
            "                        'title': 'Zoe Saldana Performance Capture | AVATAR '\n",
            "                                 '(2009) Before &amp; After CGI #shorts'}},\n",
            "           {'id': {'videoId': 'xg3SM2gDf90'},\n",
            "            'snippet': {'channelId': 'UCp5B8MtJRfykyAKMkr3Drfg',\n",
            "                        'channelTitle': 'Abhi IQ',\n",
            "                        'description': '',\n",
            "                        'href': 'https://www.youtube.com/watch?v=xg3SM2gDf90',\n",
            "                        'title': '5 fastest movies to hit $1Billion (₹7500cr) '\n",
            "                                 'at box office #trending #shorts #gadar2 '\n",
            "                                 '#viral #avatar'}},\n",
            "           {'id': {'videoId': 'sfUAABzXsKQ'},\n",
            "            'snippet': {'channelId': 'UC3Ar-F2egFV2qRkwEulbslg',\n",
            "                        'channelTitle': '20th Century Studios Singapore',\n",
            "                        'description': '13 years of groundbreaking '\n",
            "                                       'movie-magic. Relive the wonder of '\n",
            "                                       'Pandora on the big screen in '\n",
            "                                       '#AvatarSG. In cinemas 22 ...',\n",
            "                        'href': 'https://www.youtube.com/watch?v=sfUAABzXsKQ',\n",
            "                        'title': 'Avatar Re-Release | Official Trailer'}},\n",
            "           {'id': {'videoId': 'CyUXe8xAx9U'},\n",
            "            'snippet': {'channelId': 'UCzuTPG7sO8sKIn3QOQm8xGg',\n",
            "                        'channelTitle': 'LittleChap',\n",
            "                        'description': 'Did you spot this in AVATAR: THE WAY '\n",
            "                                       'OF WATER? Someone from the Metkayina '\n",
            "                                       'clan has a silent crush on Kiri and '\n",
            "                                       \"it's none ...\",\n",
            "                        'href': 'https://www.youtube.com/watch?v=CyUXe8xAx9U',\n",
            "                        'title': 'Did you spot this in AVATAR: THE WAY OF '\n",
            "                                 'WATER'}},\n",
            "           {'id': {'videoId': 'nxjOFZqtLJc'},\n",
            "            'snippet': {'channelId': 'UCVSo1xVSPS_CyZnswCjpEyQ',\n",
            "                        'channelTitle': 'Cinematic Pro Studio',\n",
            "                        'description': 'AVATAR 3 Official Trailer (2024) | '\n",
            "                                       '20th Century Studios | Disney+ ❯❯ In '\n",
            "                                       \"this Concept trailer video I'm \"\n",
            "                                       'displaying visual ...',\n",
            "                        'href': 'https://www.youtube.com/watch?v=nxjOFZqtLJc',\n",
            "                        'title': 'AVATAR 3 Official Trailer (2024) | 20th '\n",
            "                                 'Century Studios | Disney+'}},\n",
            "           {'id': {'videoId': '2fNC9lNN9aQ'},\n",
            "            'snippet': {'channelId': 'UCLRGBPzHDwQp2807cEfY-8g',\n",
            "                        'channelTitle': 'AniBox Facts',\n",
            "                        'description': 'In the sci-fi epic \"Avatar 2\", Kate '\n",
            "                                       'Winslet was reportedly excited when '\n",
            "                                       \"she learned that Ronal's character in \"\n",
            "                                       'the film would be a ...',\n",
            "                        'href': 'https://www.youtube.com/watch?v=2fNC9lNN9aQ',\n",
            "                        'title': 'Did You Know This in AVATAR: THE WAY OF '\n",
            "                                 'WATER? #shorts'}},\n",
            "           {'id': {'videoId': 'MP8OjCq26EE'},\n",
            "            'snippet': {'channelId': 'UCWkHlUiYLeRSIMP8yM7rxxg',\n",
            "                        'channelTitle': 'PJ Explained',\n",
            "                        'description': 'James Cameron Confirms Avatar 2 Is '\n",
            "                                       'Profitable & Sequels Will Happen. '\n",
            "                                       'James Cameron confirms Avatar: The Way '\n",
            "                                       'of Water is ...',\n",
            "                        'href': 'https://www.youtube.com/watch?v=MP8OjCq26EE',\n",
            "                        'title': 'Avatar 3, 4 &amp; 5 Is Officially Happening '\n",
            "                                 '⋮ Avatar Universe'}},\n",
            "           {'id': {'videoId': 'f5Zx8iPek5I'},\n",
            "            'snippet': {'channelId': 'UCkAhyVzx6AyyjD3nCaLG52w',\n",
            "                        'channelTitle': 'Nerdy Minutes ',\n",
            "                        'description': \"Avatar's upcoming sequel will feature \"\n",
            "                                       'a new Na\\'vi clan called \"The Fire '\n",
            "                                       'Na\\'vi\" or The Ass People, and may be '\n",
            "                                       \"they'll not good ...\",\n",
            "                        'href': 'https://www.youtube.com/watch?v=f5Zx8iPek5I',\n",
            "                        'title': 'Avatar 3 Will Introduce The Dark Side🔥 Of '\n",
            "                                 'Na&#39;vi…!?😮'}},\n",
            "           {'id': {'videoId': 'Z5u4fqNIo74'},\n",
            "            'snippet': {'channelId': 'UCx3yrUAcK1HAU8oqZQ4NQfQ',\n",
            "                        'channelTitle': 'Moonlit.flight',\n",
            "                        'description': '',\n",
            "                        'href': 'https://www.youtube.com/watch?v=Z5u4fqNIo74',\n",
            "                        'title': 'Now you’re in the stars🤍 #avatar #avatar2 '\n",
            "                                 '#avatarthewayofwater #neteyam'}},\n",
            "           {'id': {'videoId': '72wSXxDBXs8'},\n",
            "            'snippet': {'channelId': 'UC-IUO31UtYdHUbXspktqypQ',\n",
            "                        'channelTitle': 'Isaac Carlson',\n",
            "                        'description': \"When Jake Sully's mind was transferred \"\n",
            "                                       'to his avatar, his body was '\n",
            "                                       'ceremonially buried near Home Tree.',\n",
            "                        'href': 'https://www.youtube.com/watch?v=72wSXxDBXs8',\n",
            "                        'title': 'What Happened To Jake Sully&#39;s Human '\n",
            "                                 'Body?'}},\n",
            "           {'id': {'videoId': 'noVddIRzn3o'},\n",
            "            'snippet': {'channelId': 'UCQmqslaSJwXfz9_HPk-kJjQ',\n",
            "                        'channelTitle': 'Sander VS',\n",
            "                        'description': '',\n",
            "                        'href': 'https://www.youtube.com/watch?v=noVddIRzn3o',\n",
            "                        'title': 'Sander VS Avatar Jake Sully #sandervs '\n",
            "                                 '#satisfying #avatar'}},\n",
            "           {'id': {'videoId': 'OeIy1y-rw5w'},\n",
            "            'snippet': {'channelId': 'UCMS_7nAYCmzslMOiZHumwag',\n",
            "                        'channelTitle': 'Arianna Hailey',\n",
            "                        'description': '',\n",
            "                        'href': 'https://www.youtube.com/watch?v=OeIy1y-rw5w',\n",
            "                        'title': 'Who knows this movie? #comedy #avatar '\n",
            "                                 '#shorts'}},\n",
            "           {'id': {'videoId': 'KhSlZBuICeo'},\n",
            "            'snippet': {'channelId': 'UC3Ar-F2egFV2qRkwEulbslg',\n",
            "                        'channelTitle': '20th Century Studios Singapore',\n",
            "                        'description': 'Take a deep breath as you take a deep '\n",
            "                                       'dive back into the world of Pandora. '\n",
            "                                       'Watch the brand-new trailer of ...',\n",
            "                        'href': 'https://www.youtube.com/watch?v=KhSlZBuICeo',\n",
            "                        'title': 'Avatar: The Way of Water | Monolith '\n",
            "                                 'Trailer'}},\n",
            "           {'id': {'videoId': 'HR2kbOK8i6I'},\n",
            "            'snippet': {'channelId': 'UC3gNmTGu-TTbFPpfSs5kNkg',\n",
            "                        'channelTitle': 'Movieclips',\n",
            "                        'description': 'The Last Airbender - Earthbenders '\n",
            "                                       'Revolt!: Aang (Noah Ringer) rallies '\n",
            "                                       'the prisoners of a fallen Earth Tribe '\n",
            "                                       'village. BUY THE ...',\n",
            "                        'href': 'https://www.youtube.com/watch?v=HR2kbOK8i6I',\n",
            "                        'title': 'The Last Airbender (2010) - Earthbenders '\n",
            "                                 'Revolt! Scene (2/10) | Movieclips'}},\n",
            "           {'id': {'videoId': 'Zy3l3Opr5l0'},\n",
            "            'snippet': {'channelId': 'UCzuTPG7sO8sKIn3QOQm8xGg',\n",
            "                        'channelTitle': 'LittleChap',\n",
            "                        'description': \"If you are still wondering who Kiri's \"\n",
            "                                       'father is, then the real answer is… No '\n",
            "                                       'one. Because the truth is that Kiri '\n",
            "                                       \"was born under Eywa's ...\",\n",
            "                        'href': 'https://www.youtube.com/watch?v=Zy3l3Opr5l0',\n",
            "                        'title': 'The Truth about Kiri in AVATAR: THE WAY OF '\n",
            "                                 'WATER'}},\n",
            "           {'id': {'videoId': 'n76KALvTN3Q'},\n",
            "            'snippet': {'channelId': 'UCdVZVo9ui7gtPcswZn7i9CA',\n",
            "                        'channelTitle': \"The Sully Family's Journey\",\n",
            "                        'description': 'Avatar: The Way of Water (2022 film) '\n",
            "                                       'movie clip - When the Metkayina learns '\n",
            "                                       \"of the Tulkun killings, Lo'ak rushes \"\n",
            "                                       'off to warn ...',\n",
            "                        'href': 'https://www.youtube.com/watch?v=n76KALvTN3Q',\n",
            "                        'title': 'Avatar: The Way of Water (2022) - Lo&#39;ak '\n",
            "                                 'Rush to Save Payakan'}},\n",
            "           {'id': {'videoId': 'vAL6i0Dm0-8'},\n",
            "            'snippet': {'channelId': 'UC9hCQoT-VY7vVRaC62WJOJw',\n",
            "                        'channelTitle': 'Jorden Tually',\n",
            "                        'description': 'This video is sponsored by Klook ANZ '\n",
            "                                       'what the heck subscribe for more '\n",
            "                                       'adventures! Check it out on KLOOK: ...',\n",
            "                        'href': 'https://www.youtube.com/watch?v=vAL6i0Dm0-8',\n",
            "                        'title': 'The COOLEST Experience in Singapore! (Avatar '\n",
            "                                 '2) #shorts'}},\n",
            "           {'id': {'videoId': 'NRb-a7l3iow'},\n",
            "            'snippet': {'channelId': 'UChLxgwptefQf_rQpJWbEM7Q',\n",
            "                        'channelTitle': 'Astakara',\n",
            "                        'description': '',\n",
            "                        'href': 'https://www.youtube.com/watch?v=NRb-a7l3iow',\n",
            "                        'title': 'It&#39;s always the youngest child #avatar '\n",
            "                                 '#digitalart #avatarthewayofwater #avatar2 '\n",
            "                                 '#jakesully #art'}},\n",
            "           {'id': {'videoId': 'WJ2UxPhbol8'},\n",
            "            'snippet': {'channelId': 'UC4l6ZhkOzxIxvCSzDr4HKqg',\n",
            "                        'channelTitle': 'Vudu',\n",
            "                        'description': 'Check out the movie clip for Avatar: '\n",
            "                                       'The Way of Water starring Sigourney '\n",
            "                                       'Weaver! Let us know what you think in '\n",
            "                                       'the comments ...',\n",
            "                        'href': 'https://www.youtube.com/watch?v=WJ2UxPhbol8',\n",
            "                        'title': 'Avatar: The Way of Water Movie Clip - Hi Mom '\n",
            "                                 '(2022) | Vudu'}},\n",
            "           {'id': {'videoId': 'SCAiHCvNKhM'},\n",
            "            'snippet': {'channelId': 'UCLRGBPzHDwQp2807cEfY-8g',\n",
            "                        'channelTitle': 'AniBox Facts',\n",
            "                        'description': 'Did you notice this in Avatar? I '\n",
            "                                       \"noticed that it's not openly revealed \"\n",
            "                                       \"how Tsu'tey knew Jake and Neytiri had \"\n",
            "                                       'mated. Then how did ...',\n",
            "                        'href': 'https://www.youtube.com/watch?v=SCAiHCvNKhM',\n",
            "                        'title': 'Did You Notice This in AVATAR? #shorts'}},\n",
            "           {'id': {'videoId': 'N_c8vTay6-k'},\n",
            "            'snippet': {'channelId': 'UCv6BCYNRNhYsW7jXGSxbDYw',\n",
            "                        'channelTitle': 'SunflowerDeer',\n",
            "                        'description': '',\n",
            "                        'href': 'https://www.youtube.com/watch?v=N_c8vTay6-k',\n",
            "                        'title': 'Avatar 2 scenepack ‘child scenes’'}},\n",
            "           {'id': {'videoId': 'qlnDbRjvysg'},\n",
            "            'snippet': {'channelId': 'UC6xN1d5A7BVssNrjQq5VMbg',\n",
            "                        'channelTitle': 'AvatarStar',\n",
            "                        'description': 'The first look at the Avatar Movie '\n",
            "                                       'which will be released in theatres has '\n",
            "                                       'just been released and let me tell '\n",
            "                                       'you, it may just get you ...',\n",
            "                        'href': 'https://www.youtube.com/watch?v=qlnDbRjvysg',\n",
            "                        'title': 'First Look at New Avatar Movie'}},\n",
            "           {'id': {'videoId': 'Mw192fc8LsQ'},\n",
            "            'snippet': {'channelId': 'UCrr5LIIw6B-ifKvfAXNGNKg',\n",
            "                        'channelTitle': 'Ovik6280',\n",
            "                        'description': 'The way of water has no beginning and '\n",
            "                                       'no end. The sea is around you and in '\n",
            "                                       'you. The sea is your home before your '\n",
            "                                       'birth and ...',\n",
            "                        'href': 'https://www.youtube.com/watch?v=Mw192fc8LsQ',\n",
            "                        'title': 'Lo&#39;ak &amp; Tsireya - The Way of Water'}},\n",
            "           {'id': {'videoId': 'QOg9LUIvaig'},\n",
            "            'snippet': {'channelId': 'UCWOA1ZGywLbqmigxE4Qlvuw',\n",
            "                        'channelTitle': 'Netflix',\n",
            "                        'description': \"Netflix's Avatar: The Last Airbender \"\n",
            "                                       'live action series arrives 2024. Add '\n",
            "                                       'Avatar: The Last Airbender to My List: '\n",
            "                                       '...',\n",
            "                        'href': 'https://www.youtube.com/watch?v=QOg9LUIvaig',\n",
            "                        'title': 'AVATAR: THE LAST AIRBENDER | Water, Earth, '\n",
            "                                 'Fire, Air | Netflix'}},\n",
            "           {'id': {'videoId': 'e9ltAgFmPrU'},\n",
            "            'snippet': {'channelId': 'UCVSo1xVSPS_CyZnswCjpEyQ',\n",
            "                        'channelTitle': 'Cinematic Pro Studio',\n",
            "                        'description': 'AVATAR 3 Official Trailer (2024) | '\n",
            "                                       '20th Century Studios | Disney+ '\n",
            "                                       'avatar,avatar 3,avatar 2,avatar 3 '\n",
            "                                       'trailer,avatar 3 official trailer ...',\n",
            "                        'href': 'https://www.youtube.com/watch?v=e9ltAgFmPrU',\n",
            "                        'title': 'AVATAR 3 Official Trailer (2024) | 20th '\n",
            "                                 'Century Studios | Disney+'}},\n",
            "           {'id': {'videoId': 'rjRVnVziU2A'},\n",
            "            'snippet': {'channelId': 'UCWaFpmW9prSna3sbJq5V6wg',\n",
            "                        'channelTitle': '20th Century Studios Canada',\n",
            "                        'description': 'On September 23 Avatar returns to the '\n",
            "                                       'big screen for a limited time only. '\n",
            "                                       'Watch the new trailer now.',\n",
            "                        'href': 'https://www.youtube.com/watch?v=rjRVnVziU2A',\n",
            "                        'title': 'Avatar | Back in Theatres | Official '\n",
            "                                 'Trailer'}},\n",
            "           {'id': {'videoId': 'yRR1K9dmhxw'},\n",
            "            'snippet': {'channelId': 'UCZEZN7dC0CosTfR8W9Wr3Lw',\n",
            "                        'channelTitle': 'The Chelovek',\n",
            "                        'description': 'One of the greatest movie at this time '\n",
            "                                       'since it was released. And also on of '\n",
            "                                       'the best shown in 3D #jamescameron '\n",
            "                                       '#movie ...',\n",
            "                        'href': 'https://www.youtube.com/watch?v=yRR1K9dmhxw',\n",
            "                        'title': 'Behind the scenes of Avatar, Zoe Saldana and '\n",
            "                                 'Sam Worthington  #avatar #samworthington '\n",
            "                                 '#zoesaldana'}},\n",
            "           {'id': {'videoId': 'lwvB1Sws4JI'},\n",
            "            'snippet': {'channelId': 'UCIdkp3mKo1-ACEzXmXyozZQ',\n",
            "                        'channelTitle': 'Jerry Talks',\n",
            "                        'description': 'Abonne-toi et rejoins-moi sur TikTok, '\n",
            "                                       'on est déjà 400 000 !! '\n",
            "                                       'https://www.tiktok.com/@jerry.talks '\n",
            "                                       'Rejoins-moi aussi sur Instagram ...',\n",
            "                        'href': 'https://www.youtube.com/watch?v=lwvB1Sws4JI',\n",
            "                        'title': 'DE QUOI PARLENT AVATAR 3, 4 et 5 ? | Jerry '\n",
            "                                 'Talks #avatar #jamescameron #film #cinema'}},\n",
            "           {'id': {'videoId': 'LmFwxc86Fuc'},\n",
            "            'snippet': {'channelId': 'UCGsk710UHe0V_S2Bix8fWmA',\n",
            "                        'channelTitle': 'Tamil Galatta Updates',\n",
            "                        'description': 'யார் இந்த அவதார்கள் ! : '\n",
            "                                       'https://youtube.com/shorts/BQUiPv5G7nc '\n",
            "                                       '...',\n",
            "                        'href': 'https://www.youtube.com/watch?v=LmFwxc86Fuc',\n",
            "                        'title': '🤯அவதார் உருவானது இப்படிதானா!😱 | Avatar Movie '\n",
            "                                 'behind The Scene | Avatar Facts | Avatar 2 '\n",
            "                                 'Way Of Water'}},\n",
            "           {'id': {'videoId': 'pni-zT5z5Oc'},\n",
            "            'snippet': {'channelId': 'UCIdkp3mKo1-ACEzXmXyozZQ',\n",
            "                        'channelTitle': 'Jerry Talks',\n",
            "                        'description': 'Abonne-toi et rejoins-moi sur TikTok, '\n",
            "                                       'on est déjà 395000 !! '\n",
            "                                       'https://www.tiktok.com/@jerry.talks '\n",
            "                                       'Rejoins-moi aussi sur Instagram, ...',\n",
            "                        'href': 'https://www.youtube.com/watch?v=pni-zT5z5Oc',\n",
            "                        'title': 'AVATAR 3 dure 9 HEURES ... 😳| Jerry Talks '\n",
            "                                 '#avatar #jamescameron #cinema #film #navi'}},\n",
            "           {'id': {'videoId': 'Xkw96oC3LnI'},\n",
            "            'snippet': {'channelId': 'UCHcPYD48VvaoeCDm6uizOLg',\n",
            "                        'channelTitle': 'Baby Lion Turtle',\n",
            "                        'description': 'A poster for the next Avatar Aang '\n",
            "                                       \"movie leaked! I've got the release \"\n",
            "                                       'date, hidden details, and everything '\n",
            "                                       \"else that'll exceed your ...\",\n",
            "                        'href': 'https://www.youtube.com/watch?v=Xkw96oC3LnI',\n",
            "                        'title': 'First Look at Team Avatar Movie Poster '\n",
            "                                 '(2025)'}},\n",
            "           {'id': {'videoId': '6hMhVb2bpck'},\n",
            "            'snippet': {'channelId': 'UC5Qj4RxFiIBYSH-1jKVjNqQ',\n",
            "                        'channelTitle': 'Flick Peak',\n",
            "                        'description': 'Discover the intriguing character of '\n",
            "                                       \"Kiri, one of Jake's children, as she \"\n",
            "                                       'adapts to her new environment in '\n",
            "                                       '\"Avatar: The Way of ...',\n",
            "                        'href': 'https://www.youtube.com/watch?v=6hMhVb2bpck',\n",
            "                        'title': 'Avatar The Way of Water Kiri&#39;s Unique '\n",
            "                                 'Abilities and Connection with Eywa'}},\n",
            "           {'id': {'videoId': '7F4wF2ahbko'},\n",
            "            'snippet': {'channelId': 'UChLxgwptefQf_rQpJWbEM7Q',\n",
            "                        'channelTitle': 'Astakara',\n",
            "                        'description': '',\n",
            "                        'href': 'https://www.youtube.com/watch?v=7F4wF2ahbko',\n",
            "                        'title': 'actually looks very Bonita '\n",
            "                                 '#avatarthewayofwater #avatar2 #digitalart '\n",
            "                                 '#jakesully #avatar #tuktirey'}},\n",
            "           {'id': {'videoId': 'KkXEOGA3jbQ'},\n",
            "            'snippet': {'channelId': 'UC-IUO31UtYdHUbXspktqypQ',\n",
            "                        'channelTitle': 'Isaac Carlson',\n",
            "                        'description': 'Jake and Neytiri had a lot of children '\n",
            "                                       'to look after in The Way of Water! '\n",
            "                                       \"Here's how old they all were at the \"\n",
            "                                       'start of that story.',\n",
            "                        'href': 'https://www.youtube.com/watch?v=KkXEOGA3jbQ',\n",
            "                        'title': 'How Old Are The Sully Children In Avatar?'}},\n",
            "           {'id': {'videoId': 'Nsvygpj4m6M'},\n",
            "            'snippet': {'channelId': 'UCGt7X90Au6BV8rf49BiM6Dg',\n",
            "                        'channelTitle': 'Ray William Johnson',\n",
            "                        'description': 'Their album should be called “Peaked '\n",
            "                                       'in High School”. (source vid is by '\n",
            "                                       'TikTok/@ Deotho ) #avatar #avatar2 '\n",
            "                                       '#movietheater.',\n",
            "                        'href': 'https://www.youtube.com/watch?v=Nsvygpj4m6M',\n",
            "                        'title': 'What did you think of Avatar 2: The Way of '\n",
            "                                 'Water? #shorts'}},\n",
            "           {'id': {'videoId': 'OHytHaN-UUA'},\n",
            "            'snippet': {'channelId': 'UCCuZ0r9pDMI8DwhtRV1fNhg',\n",
            "                        'channelTitle': 'Danno Cal Drawings',\n",
            "                        'description': 'shorts #animation #avatar '\n",
            "                                       '#avatarthewayofwater '\n",
            "                                       '-={+}=-SUBSCRIBE!!!!-={+}=- Thank you '\n",
            "                                       'for watching! Consider subscribing?',\n",
            "                        'href': 'https://www.youtube.com/watch?v=OHytHaN-UUA',\n",
            "                        'title': 'AVATAR is a STOLEN MOVIE?'}},\n",
            "           {'id': {'videoId': '-oMj2o-DYrw'},\n",
            "            'snippet': {'channelId': 'UCLRGBPzHDwQp2807cEfY-8g',\n",
            "                        'channelTitle': 'AniBox Facts',\n",
            "                        'description': \"Have you ever wondered how Grace's \"\n",
            "                                       'Avatar was animated in Avatar? At the '\n",
            "                                       \"time of filmmaking, it was Grace's \"\n",
            "                                       'avatar which was ...',\n",
            "                        'href': 'https://www.youtube.com/watch?v=-oMj2o-DYrw',\n",
            "                        'title': 'Did You Know This in AVATAR? #shorts'}},\n",
            "           {'id': {'videoId': 'YXtWPVFk5TQ'},\n",
            "            'snippet': {'channelId': 'UCyHrgSdx06wQHcZmaArgkog',\n",
            "                        'channelTitle': 'Trailer Pro Pictures',\n",
            "                        'description': 'Avatar 3 Official Trailer | James '\n",
            "                                       'Cameron | 20th Century Studios | '\n",
            "                                       'Avatar 3 Trailer avatar 3 trailer '\n",
            "                                       'avatar avatar 3.',\n",
            "                        'href': 'https://www.youtube.com/watch?v=YXtWPVFk5TQ',\n",
            "                        'title': 'Avatar 3  Official Trailer | James Cameron  '\n",
            "                                 '| 20th Century Studios | Avatar 3 Trailer'}},\n",
            "           {'id': {'videoId': 'LWXJiNU2_IY'},\n",
            "            'snippet': {'channelId': 'UCGsk710UHe0V_S2Bix8fWmA',\n",
            "                        'channelTitle': 'Tamil Galatta Updates',\n",
            "                        'description': 'யார் இந்த அவதார்கள் ! : '\n",
            "                                       'https://youtube.com/shorts/BQUiPv5G7nc '\n",
            "                                       '...',\n",
            "                        'href': 'https://www.youtube.com/watch?v=LWXJiNU2_IY',\n",
            "                        'title': '🤯அவதார் 2 உருவானது இப்படிதானா!😱 Avatar Movie '\n",
            "                                 'behind The Scene | Avatar Facts | Avatar 2 '\n",
            "                                 'Way Of Water'}},\n",
            "           {'id': {'videoId': 'cMzwBkBdX6w'},\n",
            "            'snippet': {'channelId': 'UCLRGBPzHDwQp2807cEfY-8g',\n",
            "                        'channelTitle': 'AniBox Facts',\n",
            "                        'description': \"In Avatar: The Way of Water, Lo'ak \"\n",
            "                                       \"describes his father's origin story as \"\n",
            "                                       'a heroic tale, one where he came from '\n",
            "                                       'a star. This mythical ...',\n",
            "                        'href': 'https://www.youtube.com/watch?v=cMzwBkBdX6w',\n",
            "                        'title': 'Did You Know This in AVATAR: THE WAY OF '\n",
            "                                 'WATER? #shorts'}},\n",
            "           {'id': {'videoId': 'm-aWi-Qv5Tg'},\n",
            "            'snippet': {'channelId': 'UCLRGBPzHDwQp2807cEfY-8g',\n",
            "                        'channelTitle': 'AniBox Facts',\n",
            "                        'description': 'In Avatar: The Way of Water, we learn '\n",
            "                                       'that actor Jack spent five years '\n",
            "                                       'preparing for his role as Spider. His '\n",
            "                                       'training regime included ...',\n",
            "                        'href': 'https://www.youtube.com/watch?v=m-aWi-Qv5Tg',\n",
            "                        'title': 'Did You Know This in AVATAR: THE WAY OF '\n",
            "                                 'WATER? #shorts'}},\n",
            "           {'id': {'videoId': 'FqWiQgma_ns'},\n",
            "            'snippet': {'channelId': 'UCnGl8t3y8U-RkCf7EM9SN9Q',\n",
            "                        'channelTitle': 'avataredits',\n",
            "                        'description': '',\n",
            "                        'href': 'https://www.youtube.com/watch?v=FqWiQgma_ns',\n",
            "                        'title': 'Avatar edit #avatar #neytiri #jakesully '\n",
            "                                 '#pandora #eywa'}},\n",
            "           {'id': {'videoId': 'a6VVrAZUnsc'},\n",
            "            'snippet': {'channelId': 'UCLOi9fGe5EdPfquSe1RS5aA',\n",
            "                        'channelTitle': 'IMAX',\n",
            "                        'description': 'Set more than a decade after the '\n",
            "                                       'events of the first film, “Avatar: The '\n",
            "                                       'Way of Water” begins to tell the story '\n",
            "                                       'of the Sully family (Jake, ...',\n",
            "                        'href': 'https://www.youtube.com/watch?v=a6VVrAZUnsc',\n",
            "                        'title': 'Avatar: The Way of Water | Official IMAX® '\n",
            "                                 'Trailer'}}]}\n"
          ]
        }
      ]
    },
    {
      "cell_type": "code",
      "source": [
        "get_youtube_data_input = {\n",
        "    \"api_service_name\": \"youtube\",\n",
        "    \"api_version\":'v3',\n",
        "    \"DEVELOPER_KEY\": YOUTUBE_DATA_API_KEY,\n",
        "    \"part\": \"id,snippet\",\n",
        "    \"type\": \"video\",\n",
        "    \"query\": \"avatar movie\",   # here is the query string\n",
        "    \"videoDuration\": 'short',\n",
        "    \"videoDefinition\": 'high',\n",
        "    \"maxResults\": 50,\n",
        "    \"regionCode\":\"US\"\n",
        "}\n",
        "result = get_youtube_data(**get_youtube_data_input)\n",
        "result = make_href(result)\n",
        "print('total # of items: ',len(result['items']))\n",
        "pprint(result)"
      ],
      "metadata": {
        "colab": {
          "base_uri": "https://localhost:8080/",
          "height": 245
        },
        "id": "tm8kJejzJLP3",
        "outputId": "3f4e2f4f-f242-4f04-b382-aab29398adf7"
      },
      "execution_count": 1,
      "outputs": [
        {
          "output_type": "error",
          "ename": "NameError",
          "evalue": "ignored",
          "traceback": [
            "\u001b[0;31m---------------------------------------------------------------------------\u001b[0m",
            "\u001b[0;31mNameError\u001b[0m                                 Traceback (most recent call last)",
            "\u001b[0;32m<ipython-input-1-719092be390f>\u001b[0m in \u001b[0;36m<cell line: 2>\u001b[0;34m()\u001b[0m\n\u001b[1;32m      2\u001b[0m     \u001b[0;34m\"api_service_name\"\u001b[0m\u001b[0;34m:\u001b[0m \u001b[0;34m\"youtube\"\u001b[0m\u001b[0;34m,\u001b[0m\u001b[0;34m\u001b[0m\u001b[0;34m\u001b[0m\u001b[0m\n\u001b[1;32m      3\u001b[0m     \u001b[0;34m\"api_version\"\u001b[0m\u001b[0;34m:\u001b[0m\u001b[0;34m'v3'\u001b[0m\u001b[0;34m,\u001b[0m\u001b[0;34m\u001b[0m\u001b[0;34m\u001b[0m\u001b[0m\n\u001b[0;32m----> 4\u001b[0;31m     \u001b[0;34m\"DEVELOPER_KEY\"\u001b[0m\u001b[0;34m:\u001b[0m \u001b[0mYOUTUBE_DATA_API_KEY\u001b[0m\u001b[0;34m,\u001b[0m\u001b[0;34m\u001b[0m\u001b[0;34m\u001b[0m\u001b[0m\n\u001b[0m\u001b[1;32m      5\u001b[0m     \u001b[0;34m\"part\"\u001b[0m\u001b[0;34m:\u001b[0m \u001b[0;34m\"id,snippet\"\u001b[0m\u001b[0;34m,\u001b[0m\u001b[0;34m\u001b[0m\u001b[0;34m\u001b[0m\u001b[0m\n\u001b[1;32m      6\u001b[0m     \u001b[0;34m\"type\"\u001b[0m\u001b[0;34m:\u001b[0m \u001b[0;34m\"video\"\u001b[0m\u001b[0;34m,\u001b[0m\u001b[0;34m\u001b[0m\u001b[0;34m\u001b[0m\u001b[0m\n",
            "\u001b[0;31mNameError\u001b[0m: name 'YOUTUBE_DATA_API_KEY' is not defined"
          ]
        }
      ]
    },
    {
      "cell_type": "code",
      "source": [],
      "metadata": {
        "id": "fCHd2KMVKNee"
      },
      "execution_count": null,
      "outputs": []
    }
  ]
}